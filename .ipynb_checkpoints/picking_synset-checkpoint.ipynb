{
 "cells": [
  {
   "cell_type": "code",
   "execution_count": 2,
   "metadata": {},
   "outputs": [],
   "source": [
    "from nltk.corpus import wordnet as wn"
   ]
  },
  {
   "cell_type": "code",
   "execution_count": 3,
   "metadata": {},
   "outputs": [],
   "source": [
    "## Custom positive word set\n",
    "custom_words_set_pos = ['good', 'awesome', 'beautiful', 'boom', 'celebrate', 'charm', 'cheerful', \n",
    "                    'clean', 'confident', 'convenient', 'cozy', 'divine', 'easy', 'efficient',\n",
    "                    'elegant', 'encourage', 'enjoy', 'entertain', 'excelent', 'exciting', 'fabulous',\n",
    "                    'fresh', 'gentle', 'glad', 'generous', 'gorgeous', 'happy', 'joy', 'lovely', \n",
    "                    'lucky', 'outstanding', 'pleasing', 'pride', 'proper', 'sexy', 'smart',\n",
    "                    'bright', 'comfortable', 'cool', 'faithful', 'famous', 'fine', 'handsome',\n",
    "                    'healthy', 'honor', 'prefer', 'improve', 'inspire', 'intelligent', 'master',\n",
    "                    'modest', 'nice', 'optimal', 'positive', 'peaceful', 'prosper', 'recommend',\n",
    "                    'super', 'victory', 'wonderful', 'refresh', 'satisfy', 'sensational', 'smooth', \n",
    "                    'splendid', 'success', 'thoughtful', 'trust', 'win' ]\n",
    "\n",
    "custom_pos_synset_pair_list = []\n",
    "\n",
    "for word in custom_words_set_pos:\n",
    "    for i in wn.synsets(word):\n",
    "        for j in i.lemmas(): \n",
    "            if j.antonyms(): \n",
    "                custom_pos_synset_pair_list.append((j.synset().name(), j.antonyms()[0].synset().name()))\n",
    "\n",
    "\n",
    "## Custom negative word set\n",
    "custom_words_set_neg = ['abnormal', 'abort', 'abuse', 'afraid', 'angry', 'arrogant', 'ashamed', \n",
    "                    'awful', 'bad', 'bitch', 'blame', 'boring', 'brutal', 'bullshit',\n",
    "                    'cancer', 'chaotic', 'cheat', 'cocky', 'conflict', 'confuse', 'controversial',\n",
    "                    'corrupt', 'creepy', 'curse', 'dangerous', 'dead', 'defect', 'depression', 'destroy', \n",
    "                    'die', 'dick', 'disappoint', 'disbelief', 'discomfort', 'disgraceful', 'disobey',\n",
    "                    'disturbing', 'dump', 'embarrass', 'error', 'exhaust', 'fail', 'fake', \n",
    "                    'false', 'fool', 'freak', 'fraud', 'grief', 'hard', 'harmed', 'idiot',\n",
    "                    'ignorant', 'misfortune', 'mistake', 'murder', 'negative', 'painful', 'pervert', \n",
    "                    'poor', 'problem', 'racist', 'reject', 'sad', 'scold', 'screwed', 'selfish',\n",
    "                    'silly', 'sloppy', 'stink', 'stupid', 'suck', 'terrible', 'trash', 'weak' ]\n",
    "\n",
    "custom_neg_synset_pair_list = []\n",
    "\n",
    "for word in custom_words_set_neg:\n",
    "    for i in wn.synsets(word):\n",
    "        for j in i.lemmas(): \n",
    "            if j.antonyms(): \n",
    "                custom_neg_synset_pair_list.append((j.synset().name(), j.antonyms()[0].synset().name()))"
   ]
  },
  {
   "cell_type": "code",
   "execution_count": 17,
   "metadata": {},
   "outputs": [],
   "source": [
    "## Custom positive selected synset set\n",
    "custom_synsets_set_pos = ['good.a.01', 'amazing.s.02', 'beautiful.a.01', 'boom.n.03', 'celebrate.v.02', 'appeal.n.02', 'cheerful.a.01', \n",
    "                    'clean.a.01', 'confident.a.01', 'convenient.a.01', 'cozy.s.01', 'divine.s.01', 'easy.a.01', 'efficient.a.01']\n",
    "#                     'elegant.a.01', 'encourage.v.02', 'enjoy.v.01', 'entertain.v.01', 'excel.v.01', 'excite.v.01', 'fabulous.s.01',\n",
    "#                     'fresh.a.01', 'gentle', 'glad', 'generous', 'gorgeous', 'happy', 'joy', 'lovely', \n",
    "#                     'lucky', 'outstanding', 'pleasing', 'pride', 'proper', 'sexy', 'smart',\n",
    "#                     'bright', 'comfortable', 'cool', 'faithful', 'famous', 'fine', 'handsome',\n",
    "#                     'healthy', 'honor', 'prefer', 'improve', 'inspire', 'intelligent', 'master',\n",
    "#                     'modest', 'nice', 'optimal', 'positive', 'peaceful', 'prosper', 'recommend',\n",
    "#                     'super', 'victory', 'wonderful', 'refresh', 'satisfy', 'sensational', 'smooth', \n",
    "#                     'splendid', 'success', 'thoughtful', 'trust', 'win' ]\n",
    "\n",
    "custom_pos_sel_ss_pair_list = []\n",
    "\n",
    "for ss in custom_synsets_set_pos:\n",
    "    if len(wn.synset(ss).lemmas())>0:\n",
    "        j = wn.synset(ss).lemmas()[0]\n",
    "        if j.antonyms(): \n",
    "            custom_pos_sel_ss_pair_list.append((wn.synset(ss).name(), j.antonyms()[0].synset().name()))\n",
    "\n",
    "\n",
    "# Custom negative selected synset set\n",
    "custom_synsets_set_neg = ['abnormal', 'abort', 'abuse', 'afraid', 'angry', 'arrogant', 'ashamed', \n",
    "                    'awful', 'bad', 'bitch', 'blame', 'boring', 'brutal', 'bullshit',\n",
    "                    'cancer', 'chaotic', 'cheat', 'cocky', 'conflict', 'confuse', 'controversial',\n",
    "                    'corrupt', 'creepy', 'curse', 'dangerous', 'dead', 'defect', 'depression', 'destroy', \n",
    "                    'die', 'dick', 'disappoint', 'disbelief', 'discomfort', 'disgraceful', 'disobey',\n",
    "                    'disturbing', 'dump', 'embarrass', 'error', 'exhaust', 'fail', 'fake', \n",
    "                    'false', 'fool', 'freak', 'fraud', 'grief', 'hard', 'harmed', 'idiot',\n",
    "                    'ignorant', 'misfortune', 'mistake', 'murder', 'negative', 'painful', 'pervert', \n",
    "                    'poor', 'problem', 'racist', 'reject', 'sad', 'scold', 'screwed', 'selfish',\n",
    "                    'silly', 'sloppy', 'stink', 'stupid', 'suck', 'terrible', 'trash', 'weak' ]\n",
    "\n",
    "custom_neg_sel_ss_pair_list = []\n",
    "\n",
    "for ss in custom_synsets_set_neg:\n",
    "    if len(wn.synset(ss).lemmas())>0:\n",
    "        j = wn.synset(ss).lemmas()[0]\n",
    "        if j.antonyms():\n",
    "            custom_neg_sel_ss_pair_list.append((j.name(), j.antonyms()[0].synset().name()))"
   ]
  },
  {
   "cell_type": "code",
   "execution_count": 18,
   "metadata": {},
   "outputs": [
    {
     "data": {
      "text/plain": [
       "[('good.a.01', 'bad.a.01'),\n",
       " ('beautiful.a.01', 'ugly.a.01'),\n",
       " ('cheerful.a.01', 'depressing.a.01'),\n",
       " ('clean.a.01', 'dirty.a.01'),\n",
       " ('confident.a.01', 'diffident.a.02'),\n",
       " ('convenient.a.01', 'inconvenient.a.01'),\n",
       " ('easy.a.01', 'difficult.a.01'),\n",
       " ('efficient.a.01', 'inefficient.a.01')]"
      ]
     },
     "execution_count": 18,
     "metadata": {},
     "output_type": "execute_result"
    }
   ],
   "source": [
    "custom_pos_sel_ss_pair_list"
   ]
  },
  {
   "cell_type": "code",
   "execution_count": 19,
   "metadata": {},
   "outputs": [
    {
     "name": "stdout",
     "output_type": "stream",
     "text": [
      "fresh.a.01\n",
      "recently made, produced, or harvested\n",
      "fresh.s.02\n",
      "(of a cycle) beginning or occurring again\n",
      "bracing.s.01\n",
      "imparting vitality and energy\n",
      "fresh.s.04\n",
      "original and of a kind not seen before\n",
      "fresh.a.05\n",
      "not canned or otherwise preserved\n",
      "fresh.a.06\n",
      "not containing or composed of salt water\n",
      "fresh.s.07\n",
      "having recently calved and therefore able to give milk\n",
      "fresh.s.08\n",
      "with restored energy\n",
      "fresh.s.09\n",
      "not soured or preserved\n",
      "clean.s.04\n",
      "free from impurities\n",
      "fresh.s.11\n",
      "not yet used or soiled\n",
      "fresh.s.12\n",
      "improperly forward or bold\n",
      "newly.r.01\n",
      "very recently\n"
     ]
    }
   ],
   "source": [
    "for ss in wn.synsets('fresh'):\n",
    "    print(ss.name())\n",
    "    print(ss.definition())"
   ]
  },
  {
   "cell_type": "code",
   "execution_count": 20,
   "metadata": {},
   "outputs": [
    {
     "data": {
      "text/plain": [
       "[('abnormal.a.01', 'normal.a.01'),\n",
       " ('abnormal.a.02', 'normal.a.03'),\n",
       " ('afraid.a.01', 'unafraid.a.01'),\n",
       " ('angry.a.01', 'unangry.a.01'),\n",
       " ('ashamed.a.01', 'unashamed.a.01'),\n",
       " ('nasty.a.01', 'nice.a.01'),\n",
       " ('bad.n.01', 'good.n.03'),\n",
       " ('bad.n.01', 'good.n.03'),\n",
       " ('bad.a.01', 'good.a.01'),\n",
       " ('regretful.a.01', 'unregretful.a.01'),\n",
       " ('blame.v.01', 'absolve.v.02'),\n",
       " ('bore.v.01', 'interest.v.01'),\n",
       " ('controversial.a.01', 'uncontroversial.a.01'),\n",
       " ('corrupt.a.01', 'incorrupt.a.01'),\n",
       " ('crooked.a.02', 'straight.a.06'),\n",
       " ('curse.v.03', 'bless.v.01'),\n",
       " ('excommunicate.v.01', 'communicate.v.06'),\n",
       " ('dangerous.a.01', 'safe.a.01'),\n",
       " ('dead.n.01', 'living.n.02'),\n",
       " ('dead.a.01', 'alive.a.01'),\n",
       " ('dead.a.02', 'live.a.02'),\n",
       " ('depression.n.01', 'elation.n.01'),\n",
       " ('natural_depression.n.01', 'natural_elevation.n.01'),\n",
       " ('die.v.01', 'be_born.v.01'),\n",
       " ('unbelief.n.01', 'belief.n.01'),\n",
       " ('discomfort.n.01', 'comfort.n.01'),\n",
       " ('disobey.v.01', 'obey.v.01'),\n",
       " ('fail.v.02', 'succeed.v.01'),\n",
       " ('fail.v.05', 'pull_off.v.03'),\n",
       " ('fail.v.06', 'pass.v.16'),\n",
       " ('fail.v.07', 'pass.v.14'),\n",
       " ('false.a.01', 'true.a.01'),\n",
       " ('difficult.a.01', 'easy.a.01'),\n",
       " ('hard.a.02', 'soft.a.02'),\n",
       " ('hard.a.03', 'soft.a.01'),\n",
       " ('unvoiced.a.01', 'voiced.a.01'),\n",
       " ('hard.a.07', 'soft.a.08'),\n",
       " ('hard.a.08', 'soft.a.09'),\n",
       " ('heavily.r.07', 'lightly.r.04'),\n",
       " ('misfortune.n.02', 'good_fortune.n.01'),\n",
       " ('misfortune.n.02', 'good_fortune.n.01'),\n",
       " ('negative.n.01', 'affirmative.n.01'),\n",
       " ('negative.a.01', 'neutral.a.04'),\n",
       " ('negative.a.02', 'affirmative.a.01'),\n",
       " ('negative.a.04', 'positive.a.04'),\n",
       " ('negative.a.05', 'positive.a.08'),\n",
       " ('painful.a.01', 'painless.a.02'),\n",
       " ('poor_people.n.01', 'rich_people.n.01'),\n",
       " ('poor_people.n.01', 'rich_people.n.01'),\n",
       " ('poor.a.02', 'rich.a.01'),\n",
       " ('poor.a.03', 'rich.a.08'),\n",
       " ('poor.a.04', 'rich.a.02'),\n",
       " ('reject.v.01', 'accept.v.01'),\n",
       " ('refuse.v.02', 'accept.v.02'),\n",
       " ('disapprove.v.02', 'approve.v.01'),\n",
       " ('reject.v.06', 'admit.v.02'),\n",
       " ('sad.a.01', 'glad.a.01'),\n",
       " ('screw.v.04', 'unscrew.v.02'),\n",
       " ('selfish.a.01', 'unselfish.a.01'),\n",
       " ('stupid.a.01', 'smart.a.01'),\n",
       " ('unintelligent.a.01', 'intelligent.a.01'),\n",
       " ('breastfeed.v.01', 'bottlefeed.v.01'),\n",
       " ('weak.a.01', 'strong.a.01')]"
      ]
     },
     "execution_count": 20,
     "metadata": {},
     "output_type": "execute_result"
    }
   ],
   "source": [
    "custom_neg_synset_pair_list"
   ]
  },
  {
   "cell_type": "code",
   "execution_count": null,
   "metadata": {},
   "outputs": [],
   "source": []
  }
 ],
 "metadata": {
  "kernelspec": {
   "display_name": "Python 3",
   "language": "python",
   "name": "python3"
  },
  "language_info": {
   "codemirror_mode": {
    "name": "ipython",
    "version": 3
   },
   "file_extension": ".py",
   "mimetype": "text/x-python",
   "name": "python",
   "nbconvert_exporter": "python",
   "pygments_lexer": "ipython3",
   "version": "3.6.0"
  }
 },
 "nbformat": 4,
 "nbformat_minor": 2
}
