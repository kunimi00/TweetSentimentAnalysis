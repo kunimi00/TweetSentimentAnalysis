{
 "cells": [
  {
   "cell_type": "code",
   "execution_count": 1,
   "metadata": {
    "collapsed": true
   },
   "outputs": [],
   "source": [
    "from nltk.corpus import wordnet as wn"
   ]
  },
  {
   "cell_type": "code",
   "execution_count": 2,
   "metadata": {
    "collapsed": true
   },
   "outputs": [],
   "source": [
    "## Custom positive word set\n",
    "custom_words_set_pos = ['good', 'awesome', 'beautiful', 'boom', 'celebrate', 'charm', 'cheerful', \n",
    "                    'clean', 'confident', 'convenient', 'cozy', 'divine', 'easy', 'efficient',\n",
    "                    'elegant', 'encourage', 'enjoy', 'entertain', 'excelent', 'exciting', 'fabulous',\n",
    "                    'fresh', 'gentle', 'glad', 'generous', 'gorgeous', 'happy', 'joy', 'lovely', \n",
    "                    'lucky', 'outstanding', 'pleasing', 'pride', 'proper', 'sexy', 'smart',\n",
    "                    'bright', 'comfortable', 'cool', 'faithful', 'famous', 'fine', 'handsome',\n",
    "                    'healthy', 'honor', 'prefer', 'improve', 'inspire', 'intelligent', 'master',\n",
    "                    'modest', 'nice', 'optimal', 'positive', 'peaceful', 'prosper', 'recommend',\n",
    "                    'super', 'victory', 'wonderful', 'refresh', 'satisfy', 'sensational', 'smooth', \n",
    "                    'splendid', 'success', 'thoughtful', 'trust', 'win' ]\n",
    "\n",
    "custom_pos_synset_pair_list = []\n",
    "\n",
    "for word in custom_words_set_pos:\n",
    "    for i in wn.synsets(word):\n",
    "        for j in i.lemmas(): \n",
    "            if j.antonyms(): \n",
    "                custom_pos_synset_pair_list.append((j.synset().name(), j.antonyms()[0].synset().name()))\n",
    "\n",
    "\n",
    "## Custom negative word set\n",
    "custom_words_set_neg = ['abnormal', 'abort', 'abuse', 'afraid', 'angry', 'arrogant', 'ashamed', \n",
    "                    'awful', 'bad', 'bitch', 'blame', 'boring', 'brutal', 'bullshit',\n",
    "                    'cancer', 'chaotic', 'cheat', 'cocky', 'conflict', 'confuse', 'controversial',\n",
    "                    'corrupt', 'creepy', 'curse', 'dangerous', 'dead', 'defect', 'depression', 'destroy', \n",
    "                    'die', 'dick', 'disappoint', 'disbelief', 'discomfort', 'disgraceful', 'disobey',\n",
    "                    'disturbing', 'dump', 'embarrass', 'error', 'exhaust', 'fail', 'fake', \n",
    "                    'false', 'fool', 'freak', 'fraud', 'grief', 'hard', 'harmed', 'idiot',\n",
    "                    'ignorant', 'misfortune', 'mistake', 'murder', 'negative', 'painful', 'pervert', \n",
    "                    'poor', 'problem', 'racist', 'reject', 'sad', 'scold', 'screwed', 'selfish',\n",
    "                    'silly', 'sloppy', 'stink', 'stupid', 'suck', 'terrible', 'trash', 'weak' ]\n",
    "\n",
    "custom_neg_synset_pair_list = []\n",
    "\n",
    "for word in custom_words_set_neg:\n",
    "    for i in wn.synsets(word):\n",
    "        for j in i.lemmas(): \n",
    "            if j.antonyms(): \n",
    "                custom_neg_synset_pair_list.append((j.synset().name(), j.antonyms()[0].synset().name()))"
   ]
  },
  {
   "cell_type": "code",
   "execution_count": 132,
   "metadata": {},
   "outputs": [],
   "source": [
    "## Custom positive selected synset set\n",
    "custom_synsets_set_pos = ['good.a.01', 'amazing.s.02', 'beautiful.a.01', 'boom.n.03', 'celebrate.v.02', 'appeal.n.02', 'cheerful.a.01', \n",
    "                    'clean.a.01', 'confident.a.01', 'convenient.a.01', 'cozy.s.01', 'divine.s.01', 'easy.a.01', 'efficient.a.01'\n",
    "                    'elegant.a.01', 'encourage.v.02', 'enjoy.v.01', 'entertain.v.01', 'excel.v.01', 'excite.v.01', 'fabulous.s.01',\n",
    "                    'fresh.a.01', 'gentle.s.02', 'glad.a.01', 'generous.a.01', 'gorgeous.s.01', 'happy.a.01', 'joy.n.01', 'lovely.s.01', \n",
    "                    'lucky.a.02', 'outstanding.s.01', 'pleasing.a.01', 'pride.n.01', 'proper.a.01', 'sexy.a.01', 'smart.s.07',\n",
    "                    'bright.a.01', 'comfortable.a.01', 'cool.s.06', 'faithful.a.01', 'celebrated.s.01', 'all_right.s.01', 'fine-looking.s.01',\n",
    "                    'healthy.a.01', 'honor.n.02', 'prefer.v.01', 'better.v.02', 'inspire.v.02', 'intelligent.a.01', 'maestro.n.01',\n",
    "                    'modest.a.01', 'nice.a.01', 'optimum.s.01', 'positive.a.01', 'plus.s.02', 'peaceful.a.01', 'thrive.v.02', 'recommend.v.03',\n",
    "                    'extremely.r.02', 'ace.s.01', 'victory.n.01', 'fantastic.s.02', 'refresh.v.02', 'satisfy.v.02', 'sensational.a.01', 'smooth.s.07', 'fluent.s.01', \n",
    "                    'excellent.s.01', 'brilliant.s.03', 'glorious.s.03', 'success.n.02', 'thoughtful.s.01', 'trust.v.01', 'win.n.01' ]\n",
    "\n",
    "custom_pos_sel_ss_pair_list = []\n",
    "\n",
    "for ss in custom_synsets_set_pos:\n",
    "    if len(wn.synset(ss).lemmas())>0:\n",
    "        j = wn.synset(ss).lemmas()[0]\n",
    "        if j.antonyms(): \n",
    "            custom_pos_sel_ss_pair_list.append((wn.synset(ss).name(), j.antonyms()[0].synset().name()))\n",
    "\n",
    "\n",
    "# Custom negative selected synset set\n",
    "custom_synsets_set_neg = ['abnormal.a.01', 'abort.v.01', 'maltreatment.n.01', 'mistreat.v.01', 'afraid.a.01', 'angry.a.01', 'arrogant.s.01', 'ashamed.a.01', \n",
    "                    'atrocious.s.02', 'bad.a.01', 'cunt.n.01','gripe.v.01', 'blame.v.01', 'boring.s.01', 'brutal.s.02', 'bullshit.n.01',\n",
    "                    'cancer.n.01', 'chaotic.s.01', 'cheat.n.05', 'cocky.s.01', 'conflict.n.01', 'confuse.v.02', 'controversial.a.01',\n",
    "                    'corrupt.v.01', 'creepy.s.01', 'curse.v.01', 'dangerous.a.01', 'dead.n.01', 'defect.n.02', 'depression.n.01', 'destroy.v.02', \n",
    "                    'die.v.01', 'cock.n.01', 'disappoint.v.01', 'incredulity.n.01', 'discomfort.n.01', 'disgraceful.s.01', 'disobey.v.01',\n",
    "                    'distressing.s.01', 'shit.n.04', 'embarrass.v.01', 'error.n.03', 'exhaust.v.01', 'fail.v.01', 'fake.n.01', \n",
    "                    'false.a.01', 'fool.n.01', 'freak.n.01', 'fraud.n.01', 'fraud.n.03', 'difficult.a.01', 'harm.v.01', 'idiot.n.01',\n",
    "                    'ignorant.s.01', 'misfortune.n.01', 'mistake.n.01', 'murder.v.01', 'negative.a.01', 'painful.a.01', 'pervert.n.01', \n",
    "                    'poor.a.02', 'poor.s.06', 'problem.n.01','trouble.n.01', 'racist.n.01', 'reject.v.01', 'sad.a.01', 'grouch.v.01', 'cheat.v.02', 'selfish.a.01',\n",
    "                    'pathetic.s.03', 'sloppy.s.01', 'malodor.n.01','reek.v.02', 'stupid.a.01', 'suck.v.04', 'awful.s.02', 'rubbish.n.01', 'weak.a.01' ]\n",
    "\n",
    "custom_neg_sel_ss_pair_list = []\n",
    "\n",
    "for ss in custom_synsets_set_neg:\n",
    "    if len(wn.synset(ss).lemmas())>0:\n",
    "        j = wn.synset(ss).lemmas()[0]\n",
    "        if j.antonyms():\n",
    "            custom_neg_sel_ss_pair_list.append((j.name(), j.antonyms()[0].synset().name()))"
   ]
  },
  {
   "cell_type": "code",
   "execution_count": 6,
   "metadata": {},
   "outputs": [
    {
     "data": {
      "text/plain": [
       "[('good.a.01', 'bad.a.01'),\n",
       " ('beautiful.a.01', 'ugly.a.01'),\n",
       " ('cheerful.a.01', 'depressing.a.01'),\n",
       " ('clean.a.01', 'dirty.a.01'),\n",
       " ('confident.a.01', 'diffident.a.02'),\n",
       " ('convenient.a.01', 'inconvenient.a.01'),\n",
       " ('easy.a.01', 'difficult.a.01'),\n",
       " ('efficient.a.01', 'inefficient.a.01')]"
      ]
     },
     "execution_count": 6,
     "metadata": {},
     "output_type": "execute_result"
    }
   ],
   "source": [
    "custom_pos_sel_ss_pair_list"
   ]
  },
  {
   "cell_type": "code",
   "execution_count": 131,
   "metadata": {
    "scrolled": true
   },
   "outputs": [
    {
     "name": "stdout",
     "output_type": "stream",
     "text": [
      "weak.a.01\n",
      "wanting in physical strength\n",
      "watery.s.04\n",
      "overly diluted; thin and insipid\n",
      "unaccented.s.02\n",
      "(used of vowels or syllables) pronounced with little or no stress\n",
      "fallible.s.02\n",
      "wanting in moral strength, courage, or will; having the attributes of man as opposed to e.g. divine beings\n",
      "weak.s.05\n",
      "tending downward in price\n",
      "weak.s.06\n",
      "deficient or lacking in some skill\n",
      "decrepit.s.02\n",
      "lacking bodily or muscular strength or vitality\n",
      "weak.s.08\n",
      "(used of verbs) having standard (or regular) inflection\n",
      "weak.s.09\n",
      "not having authority, political strength, or governing power\n",
      "faint.s.01\n",
      "deficient in magnitude; barely perceptible; lacking clarity or brightness or loudness etc\n",
      "weak.s.11\n",
      "likely to fail under stress or pressure\n",
      "weak.s.12\n",
      "deficient in intelligence or mental power\n"
     ]
    }
   ],
   "source": [
    "for ss in wn.synsets('weak'):\n",
    "    print(ss.name())\n",
    "    print(ss.definition())"
   ]
  },
  {
   "cell_type": "code",
   "execution_count": null,
   "metadata": {
    "collapsed": true
   },
   "outputs": [],
   "source": []
  }
 ],
 "metadata": {
  "kernelspec": {
   "display_name": "Python 3",
   "language": "python",
   "name": "python3"
  },
  "language_info": {
   "codemirror_mode": {
    "name": "ipython",
    "version": 3
   },
   "file_extension": ".py",
   "mimetype": "text/x-python",
   "name": "python",
   "nbconvert_exporter": "python",
   "pygments_lexer": "ipython3",
   "version": "3.6.0"
  }
 },
 "nbformat": 4,
 "nbformat_minor": 2
}
