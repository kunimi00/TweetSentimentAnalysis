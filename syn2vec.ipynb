{
 "cells": [
  {
   "cell_type": "code",
   "execution_count": 2,
   "metadata": {},
   "outputs": [],
   "source": [
    "import numpy as np\n",
    "from nltk.corpus import wordnet as wn\n",
    "from tqdm import tqdm"
   ]
  },
  {
   "cell_type": "code",
   "execution_count": 3,
   "metadata": {},
   "outputs": [],
   "source": [
    "import gensim, logging"
   ]
  },
  {
   "cell_type": "code",
   "execution_count": 4,
   "metadata": {},
   "outputs": [],
   "source": [
    "ss_df_triple_list = []\n",
    "for i in range(12):\n",
    "    with open('wsd_result/ss_def_wsd_adapted_lesk_' + str(i+1) + '.txt', 'r') as fp:\n",
    "        lines = fp.readlines()\n",
    "        for j in range(0, len(lines), 3):\n",
    "            if len(lines[j])>0:\n",
    "                ss_df_triple_list.append((lines[j].replace('\\n', ''), lines[j+2].replace('\\n', '')))"
   ]
  },
  {
   "cell_type": "code",
   "execution_count": 5,
   "metadata": {},
   "outputs": [
    {
     "data": {
      "text/plain": [
       "117659"
      ]
     },
     "execution_count": 5,
     "metadata": {},
     "output_type": "execute_result"
    }
   ],
   "source": [
    "len(ss_df_triple_list)"
   ]
  },
  {
   "cell_type": "code",
   "execution_count": 6,
   "metadata": {},
   "outputs": [
    {
     "data": {
      "text/plain": [
       "('able.a.01',\n",
       " \"(  None  False  usually  Synset('normally.r.01')  False  followed  Synset('succeed.v.02')  False  by  None  False  `to  None  False  '  None  False  )  None  False  having  None  False  the  None  False  necessary  Synset('necessary.a.01')  False  means  Synset('mean.n.01')  False  or  None  False  skill  None  False  or  None  False  know-how  None  False  or  None  False  authority  Synset('authority.n.02')  False  to  None  False  do  None  False  something  None  False  \")"
      ]
     },
     "execution_count": 6,
     "metadata": {},
     "output_type": "execute_result"
    }
   ],
   "source": [
    "ss_df_triple_list[0]"
   ]
  },
  {
   "cell_type": "code",
   "execution_count": 7,
   "metadata": {},
   "outputs": [],
   "source": [
    "synset_list = list(wn.all_synsets())"
   ]
  },
  {
   "cell_type": "code",
   "execution_count": 8,
   "metadata": {},
   "outputs": [],
   "source": [
    "# 'positive.a.01' in synset_list\n",
    "# synset_list[0].name()\n",
    "synset_name_list = []\n",
    "for ss in synset_list:\n",
    "    synset_name_list.append(ss.name())"
   ]
  },
  {
   "cell_type": "code",
   "execution_count": 9,
   "metadata": {},
   "outputs": [
    {
     "data": {
      "text/plain": [
       "117659"
      ]
     },
     "execution_count": 9,
     "metadata": {},
     "output_type": "execute_result"
    }
   ],
   "source": [
    "len(synset_name_list)"
   ]
  },
  {
   "cell_type": "code",
   "execution_count": 36,
   "metadata": {},
   "outputs": [
    {
     "data": {
      "text/plain": [
       "True"
      ]
     },
     "execution_count": 36,
     "metadata": {},
     "output_type": "execute_result"
    }
   ],
   "source": [
    "'positive.a.01' in synset_name_list"
   ]
  },
  {
   "cell_type": "code",
   "execution_count": 10,
   "metadata": {},
   "outputs": [
    {
     "name": "stderr",
     "output_type": "stream",
     "text": [
      "100%|██████████| 117659/117659 [00:01<00:00, 68025.42it/s]\n"
     ]
    }
   ],
   "source": [
    "ss_df_ss_pair_list = []\n",
    "\n",
    "for ss_df_triple in tqdm(ss_df_triple_list):\n",
    "    curr_df_ss_list = ss_df_triple[1].split('  ')[:-1]\n",
    "    curr_ss_df_ss_list = []\n",
    "    p_flag = True\n",
    "    for i in range(0, len(curr_df_ss_list), 3):\n",
    "#         print(curr_df_ss_list[i])\n",
    "        if curr_df_ss_list[i] == ')':\n",
    "#             print(') detected flag back to be true')\n",
    "            p_flag = True\n",
    "            continue \n",
    "        if p_flag == True:\n",
    "            if curr_df_ss_list[i] == '(':\n",
    "#                 print('( detected flag to false')\n",
    "                p_flag = False\n",
    "                continue\n",
    "            else:\n",
    "                if curr_df_ss_list[i+1] != 'None':\n",
    "                    curr_tmp_ss = curr_df_ss_list[i+1][8:-2]\n",
    "                    if curr_df_ss_list[i+2] != 'True':\n",
    "                        curr_ss_df_ss_list.append(curr_tmp_ss)\n",
    "                    else:\n",
    "                        if wn.synset(curr_tmp_ss).lemmas():\n",
    "                            if wn.synset(curr_tmp_ss).lemmas()[0].antonyms():\n",
    "                                curr_ss_df_ss_list.append(wn.synset(curr_tmp_ss).lemmas()[0].antonyms()[0].name())\n",
    "                else:\n",
    "                    continue\n",
    "        else:\n",
    "            continue\n",
    "            \n",
    "    ss_df_ss_pair_list.append((ss_df_triple[0], curr_ss_df_ss_list))"
   ]
  },
  {
   "cell_type": "code",
   "execution_count": 11,
   "metadata": {},
   "outputs": [
    {
     "data": {
      "text/plain": [
       "('able.a.01', ['necessary.a.01', 'mean.n.01', 'authority.n.02'])"
      ]
     },
     "execution_count": 11,
     "metadata": {},
     "output_type": "execute_result"
    }
   ],
   "source": [
    "ss_df_ss_pair_list[0]"
   ]
  },
  {
   "cell_type": "code",
   "execution_count": 12,
   "metadata": {},
   "outputs": [
    {
     "data": {
      "text/plain": [
       "117659"
      ]
     },
     "execution_count": 12,
     "metadata": {},
     "output_type": "execute_result"
    }
   ],
   "source": [
    "len(ss_df_ss_pair_list)"
   ]
  },
  {
   "cell_type": "code",
   "execution_count": 9,
   "metadata": {},
   "outputs": [
    {
     "name": "stdout",
     "output_type": "stream",
     "text": [
      "577\n"
     ]
    }
   ],
   "source": [
    "tcnt = 0\n",
    "for _tmp in ss_df_ss_pair_list:\n",
    "    if len(_tmp[1]) == 0:\n",
    "        tcnt +=1\n",
    "#         print(_tmp)\n",
    "print(tcnt)"
   ]
  },
  {
   "cell_type": "markdown",
   "metadata": {},
   "source": [
    "#### : 577 synsets don't have any related ones. -> should be trimmed off for syn2vec input data"
   ]
  },
  {
   "cell_type": "code",
   "execution_count": 10,
   "metadata": {},
   "outputs": [],
   "source": [
    "# trimmed_ss_df_ss_pair_list = []\n",
    "\n",
    "# for _tmp in ss_df_ss_pair_list:\n",
    "#     if len(_tmp[1]) != 0:\n",
    "#         trimmed_ss_df_ss_pair_list.append(_tmp)"
   ]
  },
  {
   "cell_type": "code",
   "execution_count": 11,
   "metadata": {},
   "outputs": [
    {
     "data": {
      "text/plain": [
       "117082"
      ]
     },
     "execution_count": 11,
     "metadata": {},
     "output_type": "execute_result"
    }
   ],
   "source": [
    "# len(trimmed_ss_df_ss_pair_list)"
   ]
  },
  {
   "cell_type": "code",
   "execution_count": 14,
   "metadata": {},
   "outputs": [
    {
     "data": {
      "text/plain": [
       "('dissilient.s.01',\n",
       " ['explode.v.02',\n",
       "  'receptive.a.02',\n",
       "  'violence.n.01',\n",
       "  'source.n.03',\n",
       "  'vessel.n.03'])"
      ]
     },
     "execution_count": 14,
     "metadata": {},
     "output_type": "execute_result"
    }
   ],
   "source": [
    "# trimmed_ss_df_ss_pair_list[10]"
   ]
  },
  {
   "cell_type": "code",
   "execution_count": 13,
   "metadata": {},
   "outputs": [],
   "source": [
    "import gensim, logging"
   ]
  },
  {
   "cell_type": "code",
   "execution_count": 14,
   "metadata": {},
   "outputs": [],
   "source": [
    "model = gensim.models.Word2Vec(iter=15) "
   ]
  },
  {
   "cell_type": "code",
   "execution_count": 15,
   "metadata": {},
   "outputs": [
    {
     "name": "stdout",
     "output_type": "stream",
     "text": [
      "found\n"
     ]
    }
   ],
   "source": [
    "sentences = []\n",
    "for ss_pair in ss_df_ss_pair_list:\n",
    "    if ss_pair[0] == 'positive.a.01':\n",
    "        print('found')\n",
    "    curr_sent = []\n",
    "    curr_sent.append(ss_pair[0])\n",
    "    curr_sent.extend(ss_pair[1])\n",
    "    sentences.append(curr_sent)"
   ]
  },
  {
   "cell_type": "code",
   "execution_count": 16,
   "metadata": {},
   "outputs": [
    {
     "data": {
      "text/plain": [
       "117659"
      ]
     },
     "execution_count": 16,
     "metadata": {},
     "output_type": "execute_result"
    }
   ],
   "source": [
    "len(sentences)"
   ]
  },
  {
   "cell_type": "code",
   "execution_count": 17,
   "metadata": {},
   "outputs": [
    {
     "data": {
      "text/plain": [
       "['able.a.01', 'necessary.a.01', 'mean.n.01', 'authority.n.02']"
      ]
     },
     "execution_count": 17,
     "metadata": {},
     "output_type": "execute_result"
    }
   ],
   "source": [
    "sentences[0]"
   ]
  },
  {
   "cell_type": "code",
   "execution_count": 141,
   "metadata": {},
   "outputs": [
    {
     "name": "stderr",
     "output_type": "stream",
     "text": [
      "2017-12-05 02:25:43,519 : INFO : collecting all words and their counts\n",
      "2017-12-05 02:25:43,521 : INFO : PROGRESS: at sentence #0, processed 0 words, keeping 0 word types\n",
      "2017-12-05 02:25:43,541 : INFO : PROGRESS: at sentence #10000, processed 43160 words, keeping 16997 word types\n",
      "2017-12-05 02:25:43,563 : INFO : PROGRESS: at sentence #20000, processed 84660 words, keeping 29882 word types\n",
      "2017-12-05 02:25:43,591 : INFO : PROGRESS: at sentence #30000, processed 141015 words, keeping 41567 word types\n",
      "2017-12-05 02:25:43,625 : INFO : PROGRESS: at sentence #40000, processed 204390 words, keeping 52810 word types\n",
      "2017-12-05 02:25:43,660 : INFO : PROGRESS: at sentence #50000, processed 268126 words, keeping 62059 word types\n",
      "2017-12-05 02:25:43,693 : INFO : PROGRESS: at sentence #60000, processed 334554 words, keeping 70894 word types\n",
      "2017-12-05 02:25:43,722 : INFO : PROGRESS: at sentence #70000, processed 400499 words, keeping 79803 word types\n",
      "2017-12-05 02:25:43,754 : INFO : PROGRESS: at sentence #80000, processed 461839 words, keeping 88366 word types\n",
      "2017-12-05 02:25:43,795 : INFO : PROGRESS: at sentence #90000, processed 543409 words, keeping 97726 word types\n",
      "2017-12-05 02:25:43,825 : INFO : PROGRESS: at sentence #100000, processed 612572 words, keeping 106242 word types\n",
      "2017-12-05 02:25:43,857 : INFO : PROGRESS: at sentence #110000, processed 664907 words, keeping 113086 word types\n",
      "2017-12-05 02:25:43,877 : INFO : collected 117866 word types from a corpus of 695673 raw words and 117659 sentences\n",
      "2017-12-05 02:25:43,878 : INFO : Loading a fresh vocabulary\n",
      "2017-12-05 02:25:44,221 : INFO : min_count=1 retains 117866 unique words (100% of original 117866, drops 0)\n",
      "2017-12-05 02:25:44,222 : INFO : min_count=1 leaves 695673 word corpus (100% of original 695673, drops 0)\n",
      "2017-12-05 02:25:44,891 : INFO : deleting the raw counts dictionary of 117866 items\n",
      "2017-12-05 02:25:44,894 : INFO : sample=0.001 downsamples 10 most-common words\n",
      "2017-12-05 02:25:44,896 : INFO : downsampling leaves estimated 689998 word corpus (99.2% of prior 695673)\n",
      "2017-12-05 02:25:44,897 : INFO : estimated required memory for 117866 words and 10000 dimensions: 9488213000 bytes\n",
      "2017-12-05 02:25:45,298 : INFO : resetting layer weights\n",
      "2017-12-05 02:26:13,479 : INFO : training model with 8 workers on 117866 vocabulary and 10000 features, using sg=1 hs=0 sample=0.001 negative=5 window=5\n",
      "2017-12-05 02:27:03,871 : INFO : PROGRESS: at 0.40% examples, 198 words/s, in_qsize 16, out_qsize 0\n",
      "2017-12-05 02:27:04,951 : INFO : PROGRESS: at 1.19% examples, 581 words/s, in_qsize 15, out_qsize 0\n",
      "2017-12-05 02:27:06,078 : INFO : PROGRESS: at 2.75% examples, 1327 words/s, in_qsize 15, out_qsize 0\n",
      "2017-12-05 02:27:22,398 : INFO : PROGRESS: at 3.71% examples, 1302 words/s, in_qsize 15, out_qsize 0\n",
      "2017-12-05 02:27:31,729 : INFO : PROGRESS: at 4.02% examples, 1274 words/s, in_qsize 15, out_qsize 0\n",
      "2017-12-05 02:27:35,139 : INFO : PROGRESS: at 4.31% examples, 1341 words/s, in_qsize 15, out_qsize 0\n",
      "2017-12-05 02:27:36,153 : INFO : PROGRESS: at 5.38% examples, 1804 words/s, in_qsize 15, out_qsize 0\n",
      "2017-12-05 02:27:51,342 : INFO : PROGRESS: at 5.91% examples, 1726 words/s, in_qsize 16, out_qsize 0\n",
      "2017-12-05 02:28:04,311 : INFO : PROGRESS: at 6.19% examples, 1612 words/s, in_qsize 15, out_qsize 0\n",
      "2017-12-05 02:28:05,424 : INFO : PROGRESS: at 6.44% examples, 1685 words/s, in_qsize 15, out_qsize 0\n",
      "2017-12-05 02:28:06,575 : INFO : PROGRESS: at 7.43% examples, 2019 words/s, in_qsize 16, out_qsize 1\n",
      "2017-12-05 02:28:11,073 : INFO : PROGRESS: at 7.92% examples, 2111 words/s, in_qsize 15, out_qsize 0\n",
      "2017-12-05 02:28:13,844 : INFO : PROGRESS: at 8.28% examples, 2145 words/s, in_qsize 16, out_qsize 0\n",
      "2017-12-05 02:28:17,141 : INFO : PROGRESS: at 8.56% examples, 2168 words/s, in_qsize 15, out_qsize 0\n",
      "2017-12-05 02:28:19,772 : INFO : PROGRESS: at 8.80% examples, 2202 words/s, in_qsize 16, out_qsize 1\n",
      "2017-12-05 02:28:24,052 : INFO : PROGRESS: at 10.08% examples, 2511 words/s, in_qsize 16, out_qsize 0\n",
      "2017-12-05 02:28:26,800 : INFO : PROGRESS: at 10.36% examples, 2534 words/s, in_qsize 15, out_qsize 0\n",
      "2017-12-05 02:28:29,288 : INFO : PROGRESS: at 10.95% examples, 2634 words/s, in_qsize 15, out_qsize 0\n",
      "2017-12-05 02:28:30,328 : INFO : PROGRESS: at 11.66% examples, 2832 words/s, in_qsize 16, out_qsize 0\n",
      "2017-12-05 02:28:33,457 : INFO : PROGRESS: at 12.11% examples, 2910 words/s, in_qsize 15, out_qsize 0\n",
      "2017-12-05 02:28:35,968 : INFO : PROGRESS: at 12.34% examples, 2929 words/s, in_qsize 16, out_qsize 0\n",
      "2017-12-05 02:28:37,644 : INFO : PROGRESS: at 13.22% examples, 3101 words/s, in_qsize 15, out_qsize 0\n",
      "2017-12-05 02:28:39,149 : INFO : PROGRESS: at 13.79% examples, 3205 words/s, in_qsize 16, out_qsize 0\n",
      "2017-12-05 02:28:40,461 : INFO : PROGRESS: at 13.99% examples, 3243 words/s, in_qsize 15, out_qsize 0\n",
      "2017-12-05 02:28:42,443 : INFO : PROGRESS: at 14.22% examples, 3266 words/s, in_qsize 15, out_qsize 0\n",
      "2017-12-05 02:28:45,045 : INFO : PROGRESS: at 14.44% examples, 3275 words/s, in_qsize 16, out_qsize 0\n",
      "2017-12-05 02:28:46,145 : INFO : PROGRESS: at 14.84% examples, 3379 words/s, in_qsize 15, out_qsize 0\n",
      "2017-12-05 02:28:47,422 : INFO : PROGRESS: at 15.22% examples, 3478 words/s, in_qsize 16, out_qsize 0\n",
      "2017-12-05 02:28:49,518 : INFO : PROGRESS: at 15.64% examples, 3557 words/s, in_qsize 16, out_qsize 0\n",
      "2017-12-05 02:28:51,318 : INFO : PROGRESS: at 15.89% examples, 3579 words/s, in_qsize 15, out_qsize 0\n",
      "2017-12-05 02:28:53,243 : INFO : PROGRESS: at 16.19% examples, 3598 words/s, in_qsize 16, out_qsize 0\n",
      "2017-12-05 02:28:55,319 : INFO : PROGRESS: at 16.69% examples, 3675 words/s, in_qsize 16, out_qsize 0\n",
      "2017-12-05 02:28:56,624 : INFO : PROGRESS: at 17.15% examples, 3767 words/s, in_qsize 15, out_qsize 0\n",
      "2017-12-05 02:28:57,781 : INFO : PROGRESS: at 17.80% examples, 3862 words/s, in_qsize 16, out_qsize 0\n",
      "2017-12-05 02:28:59,652 : INFO : PROGRESS: at 18.48% examples, 3938 words/s, in_qsize 16, out_qsize 0\n",
      "2017-12-05 02:29:01,703 : INFO : PROGRESS: at 19.33% examples, 4008 words/s, in_qsize 15, out_qsize 0\n",
      "2017-12-05 02:29:03,074 : INFO : PROGRESS: at 20.16% examples, 4093 words/s, in_qsize 16, out_qsize 0\n",
      "2017-12-05 02:29:04,756 : INFO : PROGRESS: at 20.95% examples, 4170 words/s, in_qsize 15, out_qsize 0\n",
      "2017-12-05 02:29:06,416 : INFO : PROGRESS: at 21.74% examples, 4245 words/s, in_qsize 15, out_qsize 0\n",
      "2017-12-05 02:29:08,473 : INFO : PROGRESS: at 22.53% examples, 4309 words/s, in_qsize 16, out_qsize 0\n",
      "2017-12-05 02:29:09,743 : INFO : PROGRESS: at 23.83% examples, 4447 words/s, in_qsize 15, out_qsize 0\n",
      "2017-12-05 02:29:12,872 : INFO : PROGRESS: at 24.12% examples, 4425 words/s, in_qsize 15, out_qsize 0\n",
      "2017-12-05 02:29:14,685 : INFO : PROGRESS: at 24.65% examples, 4491 words/s, in_qsize 15, out_qsize 0\n",
      "2017-12-05 02:29:15,938 : INFO : PROGRESS: at 24.90% examples, 4515 words/s, in_qsize 15, out_qsize 0\n",
      "2017-12-05 02:29:17,264 : INFO : PROGRESS: at 25.75% examples, 4642 words/s, in_qsize 16, out_qsize 0\n",
      "2017-12-05 02:29:21,430 : INFO : PROGRESS: at 26.29% examples, 4644 words/s, in_qsize 16, out_qsize 0\n",
      "2017-12-05 02:29:23,343 : INFO : PROGRESS: at 26.79% examples, 4702 words/s, in_qsize 16, out_qsize 0\n",
      "2017-12-05 02:29:24,614 : INFO : PROGRESS: at 27.04% examples, 4723 words/s, in_qsize 16, out_qsize 0\n",
      "2017-12-05 02:29:25,988 : INFO : PROGRESS: at 27.78% examples, 4844 words/s, in_qsize 16, out_qsize 0\n",
      "2017-12-05 02:29:28,807 : INFO : PROGRESS: at 28.36% examples, 4876 words/s, in_qsize 15, out_qsize 0\n",
      "2017-12-05 02:29:29,959 : INFO : PROGRESS: at 28.67% examples, 4898 words/s, in_qsize 15, out_qsize 0\n",
      "2017-12-05 02:29:32,692 : INFO : PROGRESS: at 28.89% examples, 4881 words/s, in_qsize 15, out_qsize 0\n",
      "2017-12-05 02:29:34,164 : INFO : PROGRESS: at 29.41% examples, 4944 words/s, in_qsize 15, out_qsize 0\n",
      "2017-12-05 02:29:36,287 : INFO : PROGRESS: at 30.49% examples, 5089 words/s, in_qsize 16, out_qsize 0\n",
      "2017-12-05 02:29:37,370 : INFO : PROGRESS: at 30.80% examples, 5111 words/s, in_qsize 16, out_qsize 0\n",
      "2017-12-05 02:29:40,865 : INFO : PROGRESS: at 31.05% examples, 5072 words/s, in_qsize 15, out_qsize 0\n",
      "2017-12-05 02:29:42,572 : INFO : PROGRESS: at 31.53% examples, 5126 words/s, in_qsize 15, out_qsize 0\n",
      "2017-12-05 02:29:44,743 : INFO : PROGRESS: at 32.44% examples, 5261 words/s, in_qsize 15, out_qsize 0\n"
     ]
    },
    {
     "name": "stderr",
     "output_type": "stream",
     "text": [
      "2017-12-05 02:29:48,109 : INFO : PROGRESS: at 33.03% examples, 5271 words/s, in_qsize 16, out_qsize 0\n",
      "2017-12-05 02:29:49,740 : INFO : PROGRESS: at 33.67% examples, 5323 words/s, in_qsize 15, out_qsize 0\n",
      "2017-12-05 02:29:51,587 : INFO : PROGRESS: at 33.87% examples, 5323 words/s, in_qsize 16, out_qsize 0\n",
      "2017-12-05 02:29:53,698 : INFO : PROGRESS: at 34.53% examples, 5406 words/s, in_qsize 15, out_qsize 0\n",
      "2017-12-05 02:29:57,095 : INFO : PROGRESS: at 34.92% examples, 5411 words/s, in_qsize 15, out_qsize 0\n",
      "2017-12-05 02:29:58,627 : INFO : PROGRESS: at 35.31% examples, 5461 words/s, in_qsize 15, out_qsize 0\n",
      "2017-12-05 02:30:00,073 : INFO : PROGRESS: at 35.55% examples, 5470 words/s, in_qsize 15, out_qsize 0\n",
      "2017-12-05 02:30:01,736 : INFO : PROGRESS: at 36.26% examples, 5560 words/s, in_qsize 15, out_qsize 0\n",
      "2017-12-05 02:30:05,138 : INFO : PROGRESS: at 36.81% examples, 5563 words/s, in_qsize 15, out_qsize 0\n",
      "2017-12-05 02:30:06,318 : INFO : PROGRESS: at 37.45% examples, 5621 words/s, in_qsize 16, out_qsize 0\n",
      "2017-12-05 02:30:07,408 : INFO : PROGRESS: at 37.67% examples, 5637 words/s, in_qsize 15, out_qsize 0\n",
      "2017-12-05 02:30:08,792 : INFO : PROGRESS: at 39.08% examples, 5773 words/s, in_qsize 15, out_qsize 0\n",
      "2017-12-05 02:30:11,218 : INFO : PROGRESS: at 39.50% examples, 5756 words/s, in_qsize 16, out_qsize 0\n",
      "2017-12-05 02:30:12,595 : INFO : PROGRESS: at 40.32% examples, 5806 words/s, in_qsize 15, out_qsize 0\n",
      "2017-12-05 02:30:13,634 : INFO : PROGRESS: at 40.72% examples, 5823 words/s, in_qsize 15, out_qsize 0\n",
      "2017-12-05 02:30:15,039 : INFO : PROGRESS: at 42.29% examples, 5954 words/s, in_qsize 15, out_qsize 0\n",
      "2017-12-05 02:30:17,145 : INFO : PROGRESS: at 42.84% examples, 5943 words/s, in_qsize 16, out_qsize 0\n",
      "2017-12-05 02:30:18,622 : INFO : PROGRESS: at 43.61% examples, 5989 words/s, in_qsize 15, out_qsize 0\n",
      "2017-12-05 02:30:20,576 : INFO : PROGRESS: at 43.96% examples, 5982 words/s, in_qsize 15, out_qsize 0\n",
      "2017-12-05 02:30:21,852 : INFO : PROGRESS: at 44.24% examples, 5991 words/s, in_qsize 15, out_qsize 0\n",
      "2017-12-05 02:30:23,264 : INFO : PROGRESS: at 45.01% examples, 6077 words/s, in_qsize 15, out_qsize 0\n",
      "2017-12-05 02:30:24,787 : INFO : PROGRESS: at 45.30% examples, 6079 words/s, in_qsize 16, out_qsize 0\n",
      "2017-12-05 02:30:26,277 : INFO : PROGRESS: at 45.86% examples, 6121 words/s, in_qsize 16, out_qsize 0\n",
      "2017-12-05 02:30:28,470 : INFO : PROGRESS: at 46.14% examples, 6106 words/s, in_qsize 16, out_qsize 0\n",
      "2017-12-05 02:30:29,921 : INFO : PROGRESS: at 46.40% examples, 6111 words/s, in_qsize 15, out_qsize 0\n",
      "2017-12-05 02:30:31,577 : INFO : PROGRESS: at 47.14% examples, 6187 words/s, in_qsize 16, out_qsize 0\n",
      "2017-12-05 02:30:33,020 : INFO : PROGRESS: at 47.38% examples, 6190 words/s, in_qsize 16, out_qsize 0\n",
      "2017-12-05 02:30:34,507 : INFO : PROGRESS: at 47.88% examples, 6231 words/s, in_qsize 16, out_qsize 0\n",
      "2017-12-05 02:30:36,543 : INFO : PROGRESS: at 48.24% examples, 6221 words/s, in_qsize 16, out_qsize 0\n",
      "2017-12-05 02:30:38,320 : INFO : PROGRESS: at 48.76% examples, 6254 words/s, in_qsize 16, out_qsize 0\n",
      "2017-12-05 02:30:39,509 : INFO : PROGRESS: at 49.28% examples, 6301 words/s, in_qsize 15, out_qsize 0\n",
      "2017-12-05 02:30:41,805 : INFO : PROGRESS: at 49.50% examples, 6284 words/s, in_qsize 15, out_qsize 0\n",
      "2017-12-05 02:30:43,949 : INFO : PROGRESS: at 50.34% examples, 6345 words/s, in_qsize 16, out_qsize 0\n",
      "2017-12-05 02:30:45,940 : INFO : PROGRESS: at 50.90% examples, 6372 words/s, in_qsize 15, out_qsize 0\n",
      "2017-12-05 02:30:48,172 : INFO : PROGRESS: at 51.38% examples, 6392 words/s, in_qsize 16, out_qsize 0\n",
      "2017-12-05 02:30:50,077 : INFO : PROGRESS: at 51.62% examples, 6384 words/s, in_qsize 15, out_qsize 0\n",
      "2017-12-05 02:30:52,352 : INFO : PROGRESS: at 52.30% examples, 6438 words/s, in_qsize 16, out_qsize 0\n",
      "2017-12-05 02:30:54,051 : INFO : PROGRESS: at 53.16% examples, 6506 words/s, in_qsize 15, out_qsize 0\n",
      "2017-12-05 02:30:55,307 : INFO : PROGRESS: at 53.48% examples, 6512 words/s, in_qsize 15, out_qsize 0\n",
      "2017-12-05 02:30:57,749 : INFO : PROGRESS: at 53.75% examples, 6490 words/s, in_qsize 16, out_qsize 0\n",
      "2017-12-05 02:30:59,351 : INFO : PROGRESS: at 53.98% examples, 6488 words/s, in_qsize 15, out_qsize 0\n",
      "2017-12-05 02:31:00,909 : INFO : PROGRESS: at 54.41% examples, 6522 words/s, in_qsize 15, out_qsize 0\n",
      "2017-12-05 02:31:02,772 : INFO : PROGRESS: at 55.00% examples, 6581 words/s, in_qsize 15, out_qsize 0\n",
      "2017-12-05 02:31:04,229 : INFO : PROGRESS: at 55.19% examples, 6581 words/s, in_qsize 15, out_qsize 0\n",
      "2017-12-05 02:31:06,516 : INFO : PROGRESS: at 55.39% examples, 6563 words/s, in_qsize 15, out_qsize 0\n",
      "2017-12-05 02:31:07,540 : INFO : PROGRESS: at 55.63% examples, 6574 words/s, in_qsize 15, out_qsize 0\n",
      "2017-12-05 02:31:09,255 : INFO : PROGRESS: at 56.13% examples, 6603 words/s, in_qsize 14, out_qsize 1\n",
      "2017-12-05 02:31:10,871 : INFO : PROGRESS: at 56.87% examples, 6667 words/s, in_qsize 15, out_qsize 0\n",
      "2017-12-05 02:31:12,594 : INFO : PROGRESS: at 57.11% examples, 6662 words/s, in_qsize 15, out_qsize 0\n",
      "2017-12-05 02:31:14,342 : INFO : PROGRESS: at 57.50% examples, 6656 words/s, in_qsize 15, out_qsize 0\n",
      "2017-12-05 02:31:15,887 : INFO : PROGRESS: at 58.83% examples, 6754 words/s, in_qsize 15, out_qsize 0\n",
      "2017-12-05 02:31:18,628 : INFO : PROGRESS: at 60.09% examples, 6791 words/s, in_qsize 16, out_qsize 0\n",
      "2017-12-05 02:31:20,458 : INFO : PROGRESS: at 60.49% examples, 6783 words/s, in_qsize 16, out_qsize 0\n",
      "2017-12-05 02:31:21,483 : INFO : PROGRESS: at 61.66% examples, 6858 words/s, in_qsize 15, out_qsize 0\n",
      "2017-12-05 02:31:22,950 : INFO : PROGRESS: at 62.84% examples, 6922 words/s, in_qsize 16, out_qsize 0\n",
      "2017-12-05 02:31:24,403 : INFO : PROGRESS: at 63.26% examples, 6922 words/s, in_qsize 15, out_qsize 0\n",
      "2017-12-05 02:31:28,428 : INFO : PROGRESS: at 64.08% examples, 6896 words/s, in_qsize 15, out_qsize 0\n",
      "2017-12-05 02:31:29,941 : INFO : PROGRESS: at 64.86% examples, 6958 words/s, in_qsize 15, out_qsize 0\n",
      "2017-12-05 02:31:32,041 : INFO : PROGRESS: at 65.69% examples, 7004 words/s, in_qsize 15, out_qsize 0\n",
      "2017-12-05 02:31:33,068 : INFO : PROGRESS: at 65.97% examples, 7013 words/s, in_qsize 16, out_qsize 0\n",
      "2017-12-05 02:31:36,296 : INFO : PROGRESS: at 66.24% examples, 6973 words/s, in_qsize 16, out_qsize 0\n",
      "2017-12-05 02:31:37,328 : INFO : PROGRESS: at 66.50% examples, 6981 words/s, in_qsize 16, out_qsize 0\n",
      "2017-12-05 02:31:38,599 : INFO : PROGRESS: at 67.23% examples, 7046 words/s, in_qsize 16, out_qsize 0\n",
      "2017-12-05 02:31:40,406 : INFO : PROGRESS: at 67.73% examples, 7068 words/s, in_qsize 15, out_qsize 0\n",
      "2017-12-05 02:31:43,505 : INFO : PROGRESS: at 68.29% examples, 7061 words/s, in_qsize 16, out_qsize 0\n",
      "2017-12-05 02:31:45,948 : INFO : PROGRESS: at 68.85% examples, 7069 words/s, in_qsize 16, out_qsize 0\n",
      "2017-12-05 02:31:47,004 : INFO : PROGRESS: at 69.36% examples, 7107 words/s, in_qsize 15, out_qsize 0\n",
      "2017-12-05 02:31:48,539 : INFO : PROGRESS: at 69.85% examples, 7134 words/s, in_qsize 16, out_qsize 0\n",
      "2017-12-05 02:31:51,068 : INFO : PROGRESS: at 70.43% examples, 7139 words/s, in_qsize 15, out_qsize 0\n",
      "2017-12-05 02:31:53,888 : INFO : PROGRESS: at 71.01% examples, 7139 words/s, in_qsize 16, out_qsize 0\n",
      "2017-12-05 02:31:55,079 : INFO : PROGRESS: at 71.50% examples, 7172 words/s, in_qsize 16, out_qsize 0\n",
      "2017-12-05 02:31:57,210 : INFO : PROGRESS: at 71.95% examples, 7185 words/s, in_qsize 15, out_qsize 0\n",
      "2017-12-05 02:31:59,289 : INFO : PROGRESS: at 72.39% examples, 7199 words/s, in_qsize 16, out_qsize 0\n",
      "2017-12-05 02:32:00,799 : INFO : PROGRESS: at 72.97% examples, 7225 words/s, in_qsize 15, out_qsize 0\n",
      "2017-12-05 02:32:02,244 : INFO : PROGRESS: at 73.61% examples, 7252 words/s, in_qsize 16, out_qsize 0\n",
      "2017-12-05 02:32:04,152 : INFO : PROGRESS: at 73.83% examples, 7241 words/s, in_qsize 15, out_qsize 0\n",
      "2017-12-05 02:32:05,666 : INFO : PROGRESS: at 74.06% examples, 7237 words/s, in_qsize 15, out_qsize 0\n",
      "2017-12-05 02:32:07,684 : INFO : PROGRESS: at 74.49% examples, 7252 words/s, in_qsize 15, out_qsize 0\n",
      "2017-12-05 02:32:09,654 : INFO : PROGRESS: at 74.88% examples, 7266 words/s, in_qsize 15, out_qsize 0\n",
      "2017-12-05 02:32:10,914 : INFO : PROGRESS: at 75.27% examples, 7295 words/s, in_qsize 15, out_qsize 0\n",
      "2017-12-05 02:32:12,724 : INFO : PROGRESS: at 75.47% examples, 7286 words/s, in_qsize 15, out_qsize 0\n"
     ]
    },
    {
     "name": "stderr",
     "output_type": "stream",
     "text": [
      "2017-12-05 02:32:14,107 : INFO : PROGRESS: at 75.71% examples, 7285 words/s, in_qsize 15, out_qsize 0\n",
      "2017-12-05 02:32:15,738 : INFO : PROGRESS: at 76.20% examples, 7307 words/s, in_qsize 16, out_qsize 0\n",
      "2017-12-05 02:32:18,319 : INFO : PROGRESS: at 76.77% examples, 7310 words/s, in_qsize 15, out_qsize 0\n",
      "2017-12-05 02:32:19,753 : INFO : PROGRESS: at 77.20% examples, 7335 words/s, in_qsize 16, out_qsize 0\n",
      "2017-12-05 02:32:21,187 : INFO : PROGRESS: at 77.86% examples, 7361 words/s, in_qsize 15, out_qsize 0\n",
      "2017-12-05 02:32:24,194 : INFO : PROGRESS: at 79.42% examples, 7409 words/s, in_qsize 16, out_qsize 0\n",
      "2017-12-05 02:32:25,712 : INFO : PROGRESS: at 80.25% examples, 7432 words/s, in_qsize 16, out_qsize 0\n",
      "2017-12-05 02:32:27,576 : INFO : PROGRESS: at 81.04% examples, 7448 words/s, in_qsize 15, out_qsize 0\n",
      "2017-12-05 02:32:30,465 : INFO : PROGRESS: at 82.62% examples, 7497 words/s, in_qsize 16, out_qsize 0\n",
      "2017-12-05 02:32:32,308 : INFO : PROGRESS: at 83.90% examples, 7539 words/s, in_qsize 15, out_qsize 0\n",
      "2017-12-05 02:32:35,341 : INFO : PROGRESS: at 84.18% examples, 7506 words/s, in_qsize 15, out_qsize 0\n",
      "2017-12-05 02:32:38,042 : INFO : PROGRESS: at 85.25% examples, 7556 words/s, in_qsize 16, out_qsize 0\n",
      "2017-12-05 02:32:39,992 : INFO : PROGRESS: at 86.09% examples, 7594 words/s, in_qsize 16, out_qsize 0\n",
      "2017-12-05 02:32:43,306 : INFO : PROGRESS: at 86.35% examples, 7555 words/s, in_qsize 16, out_qsize 0\n",
      "2017-12-05 02:32:44,468 : INFO : PROGRESS: at 87.09% examples, 7608 words/s, in_qsize 15, out_qsize 0\n",
      "2017-12-05 02:32:46,144 : INFO : PROGRESS: at 87.34% examples, 7601 words/s, in_qsize 15, out_qsize 0\n",
      "2017-12-05 02:32:48,139 : INFO : PROGRESS: at 88.07% examples, 7638 words/s, in_qsize 16, out_qsize 0\n",
      "2017-12-05 02:32:49,798 : INFO : PROGRESS: at 88.44% examples, 7631 words/s, in_qsize 15, out_qsize 0\n",
      "2017-12-05 02:32:51,323 : INFO : PROGRESS: at 88.72% examples, 7627 words/s, in_qsize 15, out_qsize 0\n",
      "2017-12-05 02:32:52,359 : INFO : PROGRESS: at 89.01% examples, 7632 words/s, in_qsize 16, out_qsize 1\n",
      "2017-12-05 02:32:54,595 : INFO : PROGRESS: at 89.50% examples, 7639 words/s, in_qsize 16, out_qsize 0\n",
      "2017-12-05 02:32:55,968 : INFO : PROGRESS: at 90.25% examples, 7688 words/s, in_qsize 15, out_qsize 0\n",
      "2017-12-05 02:32:57,028 : INFO : PROGRESS: at 90.56% examples, 7692 words/s, in_qsize 15, out_qsize 0\n",
      "2017-12-05 02:32:58,657 : INFO : PROGRESS: at 90.85% examples, 7686 words/s, in_qsize 16, out_qsize 0\n",
      "2017-12-05 02:33:00,349 : INFO : PROGRESS: at 91.12% examples, 7678 words/s, in_qsize 16, out_qsize 0\n",
      "2017-12-05 02:33:02,928 : INFO : PROGRESS: at 91.58% examples, 7678 words/s, in_qsize 15, out_qsize 0\n",
      "2017-12-05 02:33:04,405 : INFO : PROGRESS: at 92.25% examples, 7723 words/s, in_qsize 16, out_qsize 0\n",
      "2017-12-05 02:33:05,469 : INFO : PROGRESS: at 92.49% examples, 7727 words/s, in_qsize 16, out_qsize 0\n",
      "2017-12-05 02:33:07,456 : INFO : PROGRESS: at 93.10% examples, 7738 words/s, in_qsize 15, out_qsize 0\n",
      "2017-12-05 02:33:10,394 : INFO : PROGRESS: at 93.72% examples, 7731 words/s, in_qsize 16, out_qsize 0\n",
      "2017-12-05 02:33:11,735 : INFO : PROGRESS: at 93.92% examples, 7730 words/s, in_qsize 15, out_qsize 0\n",
      "2017-12-05 02:33:14,214 : INFO : PROGRESS: at 94.57% examples, 7754 words/s, in_qsize 16, out_qsize 0\n",
      "2017-12-05 02:33:16,221 : INFO : PROGRESS: at 94.96% examples, 7764 words/s, in_qsize 15, out_qsize 0\n",
      "2017-12-05 02:33:19,263 : INFO : PROGRESS: at 95.35% examples, 7754 words/s, in_qsize 15, out_qsize 0\n",
      "2017-12-05 02:33:20,430 : INFO : PROGRESS: at 95.56% examples, 7756 words/s, in_qsize 14, out_qsize 0\n",
      "2017-12-05 02:33:21,879 : INFO : PROGRESS: at 96.32% examples, 7799 words/s, in_qsize 11, out_qsize 0\n",
      "2017-12-05 02:33:24,750 : INFO : PROGRESS: at 96.83% examples, 7793 words/s, in_qsize 9, out_qsize 0\n",
      "2017-12-05 02:33:26,821 : INFO : PROGRESS: at 97.49% examples, 7802 words/s, in_qsize 7, out_qsize 1\n",
      "2017-12-05 02:33:26,825 : INFO : worker thread finished; awaiting finish of 7 more threads\n",
      "2017-12-05 02:33:27,180 : INFO : worker thread finished; awaiting finish of 6 more threads\n",
      "2017-12-05 02:33:27,448 : INFO : worker thread finished; awaiting finish of 5 more threads\n",
      "2017-12-05 02:33:27,467 : INFO : worker thread finished; awaiting finish of 4 more threads\n",
      "2017-12-05 02:33:27,947 : INFO : PROGRESS: at 98.94% examples, 7873 words/s, in_qsize 3, out_qsize 1\n",
      "2017-12-05 02:33:27,949 : INFO : worker thread finished; awaiting finish of 3 more threads\n",
      "2017-12-05 02:33:28,078 : INFO : worker thread finished; awaiting finish of 2 more threads\n",
      "2017-12-05 02:33:28,621 : INFO : worker thread finished; awaiting finish of 1 more threads\n",
      "2017-12-05 02:33:28,726 : INFO : worker thread finished; awaiting finish of 0 more threads\n",
      "2017-12-05 02:33:28,729 : INFO : training on 3478365 raw words (3449999 effective words) took 435.2s, 7927 effective words/s\n"
     ]
    }
   ],
   "source": [
    "model = gensim.models.Word2Vec(sentences, size=10000, window=5, min_count=1, workers=8, sg=1)"
   ]
  },
  {
   "cell_type": "code",
   "execution_count": 167,
   "metadata": {
    "scrolled": true
   },
   "outputs": [
    {
     "name": "stderr",
     "output_type": "stream",
     "text": [
      "2017-12-05 03:50:45,714 : INFO : collecting all words and their counts\n",
      "2017-12-05 03:50:45,717 : INFO : PROGRESS: at sentence #0, processed 0 words, keeping 0 word types\n",
      "2017-12-05 03:50:45,836 : INFO : PROGRESS: at sentence #10000, processed 43160 words, keeping 16997 word types\n",
      "2017-12-05 03:50:45,878 : INFO : PROGRESS: at sentence #20000, processed 84660 words, keeping 29882 word types\n",
      "2017-12-05 03:50:45,945 : INFO : PROGRESS: at sentence #30000, processed 141015 words, keeping 41567 word types\n",
      "2017-12-05 03:50:46,011 : INFO : PROGRESS: at sentence #40000, processed 204390 words, keeping 52810 word types\n",
      "2017-12-05 03:50:46,075 : INFO : PROGRESS: at sentence #50000, processed 268126 words, keeping 62059 word types\n",
      "2017-12-05 03:50:46,190 : INFO : PROGRESS: at sentence #60000, processed 334554 words, keeping 70894 word types\n",
      "2017-12-05 03:50:46,507 : INFO : PROGRESS: at sentence #70000, processed 400499 words, keeping 79803 word types\n",
      "2017-12-05 03:50:46,589 : INFO : PROGRESS: at sentence #80000, processed 461839 words, keeping 88366 word types\n",
      "2017-12-05 03:50:46,702 : INFO : PROGRESS: at sentence #90000, processed 543409 words, keeping 97726 word types\n",
      "2017-12-05 03:50:46,778 : INFO : PROGRESS: at sentence #100000, processed 612572 words, keeping 106242 word types\n",
      "2017-12-05 03:50:46,831 : INFO : PROGRESS: at sentence #110000, processed 664907 words, keeping 113086 word types\n",
      "2017-12-05 03:50:46,865 : INFO : collected 117866 word types from a corpus of 695673 raw words and 117659 sentences\n",
      "2017-12-05 03:50:46,866 : INFO : Loading a fresh vocabulary\n",
      "2017-12-05 03:50:47,245 : INFO : min_count=1 retains 117866 unique words (100% of original 117866, drops 0)\n",
      "2017-12-05 03:50:47,246 : INFO : min_count=1 leaves 695673 word corpus (100% of original 695673, drops 0)\n",
      "2017-12-05 03:50:47,932 : INFO : deleting the raw counts dictionary of 117866 items\n",
      "2017-12-05 03:50:47,935 : INFO : sample=0.001 downsamples 10 most-common words\n",
      "2017-12-05 03:50:47,936 : INFO : downsampling leaves estimated 689998 word corpus (99.2% of prior 695673)\n",
      "2017-12-05 03:50:47,946 : INFO : estimated required memory for 117866 words and 1000 dimensions: 1001861000 bytes\n",
      "2017-12-05 03:50:48,426 : INFO : resetting layer weights\n",
      "2017-12-05 03:50:53,616 : INFO : training model with 8 workers on 117866 vocabulary and 1000 features, using sg=1 hs=0 sample=0.001 negative=5 window=5\n",
      "2017-12-05 03:50:55,010 : INFO : PROGRESS: at 4.02% examples, 77992 words/s, in_qsize 16, out_qsize 0\n",
      "2017-12-05 03:50:56,019 : INFO : PROGRESS: at 7.18% examples, 95406 words/s, in_qsize 15, out_qsize 0\n",
      "2017-12-05 03:50:57,022 : INFO : PROGRESS: at 10.08% examples, 99608 words/s, in_qsize 15, out_qsize 0\n",
      "2017-12-05 03:50:58,152 : INFO : PROGRESS: at 12.90% examples, 98858 words/s, in_qsize 15, out_qsize 0\n",
      "2017-12-05 03:50:59,164 : INFO : PROGRESS: at 15.22% examples, 98503 words/s, in_qsize 15, out_qsize 0\n",
      "2017-12-05 03:51:00,231 : INFO : PROGRESS: at 18.90% examples, 102177 words/s, in_qsize 15, out_qsize 0\n",
      "2017-12-05 03:51:01,452 : INFO : PROGRESS: at 24.12% examples, 102786 words/s, in_qsize 15, out_qsize 0\n",
      "2017-12-05 03:51:02,467 : INFO : PROGRESS: at 27.28% examples, 104440 words/s, in_qsize 15, out_qsize 0\n",
      "2017-12-05 03:51:03,467 : INFO : PROGRESS: at 29.95% examples, 103936 words/s, in_qsize 15, out_qsize 0\n",
      "2017-12-05 03:51:04,479 : INFO : PROGRESS: at 32.71% examples, 104319 words/s, in_qsize 16, out_qsize 0\n",
      "2017-12-05 03:51:05,481 : INFO : PROGRESS: at 35.11% examples, 103789 words/s, in_qsize 15, out_qsize 0\n",
      "2017-12-05 03:51:06,541 : INFO : PROGRESS: at 37.67% examples, 102927 words/s, in_qsize 14, out_qsize 1\n",
      "2017-12-05 03:51:07,597 : INFO : PROGRESS: at 43.61% examples, 105865 words/s, in_qsize 15, out_qsize 0\n",
      "2017-12-05 03:51:08,648 : INFO : PROGRESS: at 46.14% examples, 104370 words/s, in_qsize 15, out_qsize 0\n",
      "2017-12-05 03:51:09,751 : INFO : PROGRESS: at 48.76% examples, 103380 words/s, in_qsize 16, out_qsize 0\n",
      "2017-12-05 03:51:10,799 : INFO : PROGRESS: at 51.85% examples, 104026 words/s, in_qsize 16, out_qsize 0\n",
      "2017-12-05 03:51:11,981 : INFO : PROGRESS: at 54.41% examples, 102703 words/s, in_qsize 16, out_qsize 0\n",
      "2017-12-05 03:51:13,036 : INFO : PROGRESS: at 57.11% examples, 103210 words/s, in_qsize 15, out_qsize 0\n",
      "2017-12-05 03:51:14,047 : INFO : PROGRESS: at 61.67% examples, 103958 words/s, in_qsize 16, out_qsize 0\n",
      "2017-12-05 03:51:15,109 : INFO : PROGRESS: at 65.97% examples, 104826 words/s, in_qsize 15, out_qsize 0\n",
      "2017-12-05 03:51:16,149 : INFO : PROGRESS: at 68.62% examples, 104389 words/s, in_qsize 15, out_qsize 0\n",
      "2017-12-05 03:51:17,152 : INFO : PROGRESS: at 71.01% examples, 103745 words/s, in_qsize 15, out_qsize 0\n",
      "2017-12-05 03:51:18,247 : INFO : PROGRESS: at 73.83% examples, 103558 words/s, in_qsize 15, out_qsize 0\n",
      "2017-12-05 03:51:19,293 : INFO : PROGRESS: at 76.20% examples, 103549 words/s, in_qsize 16, out_qsize 0\n",
      "2017-12-05 03:51:20,374 : INFO : PROGRESS: at 80.25% examples, 103827 words/s, in_qsize 15, out_qsize 0\n",
      "2017-12-05 03:51:21,407 : INFO : PROGRESS: at 84.97% examples, 104627 words/s, in_qsize 15, out_qsize 0\n",
      "2017-12-05 03:51:22,408 : INFO : PROGRESS: at 87.59% examples, 104421 words/s, in_qsize 15, out_qsize 0\n",
      "2017-12-05 03:51:23,428 : INFO : PROGRESS: at 90.56% examples, 104522 words/s, in_qsize 15, out_qsize 0\n",
      "2017-12-05 03:51:24,464 : INFO : PROGRESS: at 93.10% examples, 104226 words/s, in_qsize 15, out_qsize 0\n",
      "2017-12-05 03:51:25,481 : INFO : PROGRESS: at 95.15% examples, 103671 words/s, in_qsize 16, out_qsize 0\n",
      "2017-12-05 03:51:26,438 : INFO : worker thread finished; awaiting finish of 7 more threads\n",
      "2017-12-05 03:51:26,476 : INFO : worker thread finished; awaiting finish of 6 more threads\n",
      "2017-12-05 03:51:26,480 : INFO : worker thread finished; awaiting finish of 5 more threads\n",
      "2017-12-05 03:51:26,491 : INFO : PROGRESS: at 98.51% examples, 104105 words/s, in_qsize 4, out_qsize 1\n",
      "2017-12-05 03:51:26,493 : INFO : worker thread finished; awaiting finish of 4 more threads\n",
      "2017-12-05 03:51:26,554 : INFO : worker thread finished; awaiting finish of 3 more threads\n",
      "2017-12-05 03:51:26,583 : INFO : worker thread finished; awaiting finish of 2 more threads\n",
      "2017-12-05 03:51:26,630 : INFO : worker thread finished; awaiting finish of 1 more threads\n",
      "2017-12-05 03:51:26,643 : INFO : worker thread finished; awaiting finish of 0 more threads\n",
      "2017-12-05 03:51:26,644 : INFO : training on 3478365 raw words (3450005 effective words) took 32.9s, 104816 effective words/s\n"
     ]
    }
   ],
   "source": [
    "model_1000 = gensim.models.Word2Vec(sentences, size=1000, window=5, min_count=1, workers=8, sg=1)"
   ]
  },
  {
   "cell_type": "code",
   "execution_count": 18,
   "metadata": {},
   "outputs": [],
   "source": [
    "model_300 = gensim.models.Word2Vec(sentences, size=300, window=20, min_count=1, workers=8, sg=1, iter=20)"
   ]
  },
  {
   "cell_type": "code",
   "execution_count": 19,
   "metadata": {
    "scrolled": true
   },
   "outputs": [
    {
     "data": {
      "text/plain": [
       "array([ -2.09141299e-01,   3.34063917e-02,  -9.91401915e-03,\n",
       "         2.55008399e-01,  -7.45999962e-02,   1.24764154e-02,\n",
       "        -1.11591453e-02,   6.40177727e-02,  -1.17790818e-01,\n",
       "        -1.52754903e-01,   8.10905024e-02,  -2.68080644e-02,\n",
       "        -1.55998528e-01,   4.29487526e-02,   1.29048273e-01,\n",
       "        -7.26121590e-02,  -2.90476739e-01,   3.85625601e-01,\n",
       "        -1.43478736e-01,   7.33840987e-02,  -3.05957366e-02,\n",
       "        -1.80717498e-01,  -1.08444072e-01,   4.20073513e-03,\n",
       "         5.88388033e-02,   2.00594172e-01,   1.54818267e-01,\n",
       "        -8.90737996e-02,   5.32178044e-01,  -2.19250083e-01,\n",
       "         1.33098111e-01,  -3.72744441e-01,   1.61720231e-01,\n",
       "         6.30136654e-02,   9.07918811e-02,  -1.46077484e-01,\n",
       "         3.91252697e-01,   3.92167419e-02,   8.34827311e-03,\n",
       "        -1.03418835e-01,  -4.33377653e-01,  -2.85051078e-01,\n",
       "        -1.78124472e-01,   4.81814332e-02,   1.28322393e-01,\n",
       "         4.18550335e-02,   4.99652736e-02,   2.07958281e-01,\n",
       "         1.52771533e-01,  -2.92318374e-01,   1.17333278e-01,\n",
       "        -1.07215628e-01,  -4.75257412e-02,   1.31011203e-01,\n",
       "        -3.05734929e-02,   3.36035551e-03,   1.13596067e-01,\n",
       "         4.39683819e-04,  -7.91411288e-03,  -6.06553592e-02,\n",
       "         1.44689888e-01,   1.00708671e-01,   7.96348602e-02,\n",
       "        -2.98316181e-01,  -1.66118085e-01,   2.50892848e-01,\n",
       "         1.50673121e-01,  -5.73840365e-02,   1.03398032e-01,\n",
       "        -3.73085327e-02,   1.94247425e-01,  -1.48835957e-01,\n",
       "        -1.30676851e-01,   1.32400468e-01,   2.23492965e-01,\n",
       "         1.87877998e-01,  -2.99276471e-01,   1.33953795e-01,\n",
       "        -2.38664284e-01,   6.43870840e-03,  -1.89630404e-01,\n",
       "        -1.21918023e-01,  -2.17798352e-02,   6.53976062e-03,\n",
       "         5.88579550e-02,   1.59273262e-03,  -2.62793720e-01,\n",
       "         8.46477598e-02,  -3.42837781e-01,  -1.82633281e-01,\n",
       "         2.36548141e-01,  -2.20490843e-02,   3.39663267e-01,\n",
       "         2.85791934e-01,  -6.50315210e-02,   2.05031320e-01,\n",
       "        -5.37650920e-02,  -2.36064523e-01,  -2.47482836e-01,\n",
       "        -1.17531069e-01,   1.17877446e-01,   1.09751552e-01,\n",
       "         5.91549315e-02,  -4.97903936e-02,  -1.52980210e-02,\n",
       "        -6.49388088e-03,   1.04840929e-02,   4.83924858e-02,\n",
       "         9.86011699e-02,   3.57046649e-02,  -1.61514759e-01,\n",
       "         4.35852185e-02,  -8.36217776e-03,   9.64354128e-02,\n",
       "        -2.09785506e-01,  -3.11590195e-01,   3.78346592e-02,\n",
       "         1.27690360e-01,  -1.72193110e-01,  -1.03302792e-01,\n",
       "         9.89888683e-02,  -9.14086252e-02,  -4.07112688e-02,\n",
       "         1.83746368e-01,  -8.78558084e-02,   4.06362489e-02,\n",
       "        -3.06853503e-01,  -7.27663413e-02,  -2.83085108e-02,\n",
       "        -3.60447690e-02,   1.81990117e-01,   8.67249817e-02,\n",
       "        -2.10747477e-02,  -2.81644821e-01,   1.83729738e-01,\n",
       "        -5.47096170e-02,  -5.96009977e-02,  -8.39399248e-02,\n",
       "        -3.03705186e-01,   2.41664290e-01,   3.32760066e-01,\n",
       "        -1.42414063e-01,  -2.94789612e-01,  -5.14056198e-02,\n",
       "        -1.23703957e-01,  -6.42016530e-02,  -1.68242842e-01,\n",
       "        -2.99833596e-01,  -5.15158951e-01,  -2.97116667e-01,\n",
       "         1.51158869e-02,  -1.00272313e-01,   9.95083014e-04,\n",
       "         1.57591075e-01,  -4.01144195e-03,   1.52719170e-01,\n",
       "         2.27385387e-03,  -1.27841244e-02,  -9.53110829e-02,\n",
       "         1.12100802e-02,   9.48430374e-02,  -1.76881135e-01,\n",
       "        -3.37069901e-03,   4.05758582e-02,   5.20685539e-02,\n",
       "         4.76014197e-01,  -1.38880357e-01,   4.61341180e-02,\n",
       "        -8.26558396e-02,   1.35813117e-01,  -1.84759811e-01,\n",
       "         2.94680987e-02,   2.61632144e-01,   2.88410261e-02,\n",
       "        -6.16038293e-02,   4.50790823e-02,   1.91462459e-04,\n",
       "        -2.53700409e-02,  -1.11108065e-01,   4.34072651e-02,\n",
       "         4.32206243e-02,   2.28649780e-01,   2.72821672e-02,\n",
       "         2.05524907e-01,  -6.25757426e-02,  -1.94073826e-01,\n",
       "         1.15945518e-01,  -8.67796876e-03,   1.94525093e-01,\n",
       "         3.30155998e-01,   9.02155321e-03,   1.82734787e-01,\n",
       "        -1.58694491e-01,   3.89407971e-03,  -2.81574726e-02,\n",
       "        -1.81645289e-01,  -1.41298324e-01,   3.87778063e-03,\n",
       "        -4.73181941e-02,  -1.40898293e-02,  -1.59849450e-01,\n",
       "        -2.26654798e-01,  -2.04301089e-01,   1.20417520e-01,\n",
       "         1.28038198e-01,  -1.93567380e-01,  -1.36892378e-01,\n",
       "         3.40584223e-03,  -1.34321541e-01,   1.06408007e-01,\n",
       "        -1.21741936e-01,  -5.31765120e-03,   9.68291759e-02,\n",
       "         2.65800934e-02,   3.21176410e-01,  -3.32823917e-02,\n",
       "         1.39073685e-01,   1.32912013e-04,   2.04284608e-01,\n",
       "        -6.59570172e-02,  -2.03023046e-01,   2.03451484e-01,\n",
       "         1.61115587e-01,   1.62033647e-01,   7.53450990e-02,\n",
       "        -3.00052464e-01,  -1.74957052e-01,  -2.41448265e-02,\n",
       "        -4.89657938e-01,   5.53345010e-02,  -2.96594292e-01,\n",
       "         4.92468365e-02,   1.34399265e-01,  -1.84448019e-01,\n",
       "        -7.89389666e-03,  -8.85837153e-02,   3.05305445e-03,\n",
       "        -3.40031892e-01,   1.47360533e-01,   1.97823942e-01,\n",
       "        -4.33890969e-01,   3.58438581e-01,   2.19541237e-01,\n",
       "         1.07069381e-01,  -1.51124969e-01,  -2.17355892e-01,\n",
       "        -1.52871251e-01,   1.89181641e-01,  -9.37348232e-02,\n",
       "         5.18420562e-02,   2.01020449e-01,  -3.01674634e-01,\n",
       "         3.39107990e-01,   6.98197111e-02,  -1.06964320e-01,\n",
       "        -2.02571183e-01,  -1.48422629e-01,   2.03995600e-01,\n",
       "         1.36196107e-01,   2.76132256e-01,  -3.91318500e-01,\n",
       "         4.00948972e-02,  -7.23777562e-02,  -1.54791489e-01,\n",
       "        -7.02715069e-02,  -3.45999420e-01,   1.06838219e-01,\n",
       "        -2.20247015e-01,   7.23356232e-02,  -1.23257563e-01,\n",
       "         1.52641073e-01,   1.60958380e-01,  -6.63407706e-03,\n",
       "         1.00276649e-01,   3.00287545e-01,  -4.35023904e-02,\n",
       "         8.94450173e-02,   6.68087378e-02,  -1.59747675e-01,\n",
       "         1.49005570e-03,  -1.30490258e-01,   2.56942093e-01,\n",
       "         6.54110387e-02,  -2.91323543e-01,  -3.20818603e-01,\n",
       "         2.01946974e-01,   7.26669282e-02,  -5.10405838e-01,\n",
       "         3.01250070e-01,  -6.33913651e-02,  -1.83666721e-01,\n",
       "         1.16621777e-02,   1.85343564e-01,   1.21872067e-01,\n",
       "         1.92729428e-01,   4.28852811e-03,   9.26409438e-02,\n",
       "         3.90064530e-02,  -3.48604610e-03,   9.80484411e-02], dtype=float32)"
      ]
     },
     "execution_count": 19,
     "metadata": {},
     "output_type": "execute_result"
    }
   ],
   "source": [
    "model_300.wv['explode.v.02']"
   ]
  },
  {
   "cell_type": "code",
   "execution_count": 143,
   "metadata": {},
   "outputs": [
    {
     "name": "stderr",
     "output_type": "stream",
     "text": [
      "2017-12-05 02:36:02,349 : INFO : precomputing L2-norms of word weight vectors\n"
     ]
    },
    {
     "data": {
      "text/plain": [
       "[('case_study.n.02', 0.9983656406402588),\n",
       " ('bear_down_on.v.01', 0.9983534216880798),\n",
       " ('all-rounder.n.01', 0.9982645511627197),\n",
       " ('hundred-and-twentieth.s.01', 0.9980472326278687),\n",
       " ('communicable_disease.n.01', 0.9979773759841919),\n",
       " ('structural.a.02', 0.997901201248169),\n",
       " ('sexual_activity.n.01', 0.997890055179596),\n",
       " ('trillionth.s.01', 0.997870147228241),\n",
       " ('shift.v.07', 0.9978185892105103),\n",
       " ('characteristic.n.03', 0.9977895617485046)]"
      ]
     },
     "execution_count": 143,
     "metadata": {},
     "output_type": "execute_result"
    }
   ],
   "source": [
    "model.wv.most_similar(positive=['good.a.01', 'bad.a.01'], negative=['positive.a.01'])"
   ]
  },
  {
   "cell_type": "code",
   "execution_count": 144,
   "metadata": {},
   "outputs": [
    {
     "data": {
      "text/plain": [
       "117866"
      ]
     },
     "execution_count": 144,
     "metadata": {},
     "output_type": "execute_result"
    }
   ],
   "source": [
    "len(list(model.wv.vocab.keys()))"
   ]
  },
  {
   "cell_type": "code",
   "execution_count": 54,
   "metadata": {},
   "outputs": [
    {
     "data": {
      "text/plain": [
       "[('crossing_guard.n.01', 0.999264121055603),\n",
       " ('substitution.n.01', 0.998775839805603),\n",
       " ('medical_practitioner.n.01', 0.9987152814865112),\n",
       " ('grant.n.03', 0.998660147190094),\n",
       " ('process-server.n.01', 0.9986162185668945),\n",
       " ('asset', 0.9985620975494385),\n",
       " ('tapper.n.04', 0.9985400438308716),\n",
       " ('marathoner.n.01', 0.9985032081604004),\n",
       " ('internet.n.01', 0.9984639883041382),\n",
       " ('proofreader.n.01', 0.9984555244445801)]"
      ]
     },
     "execution_count": 54,
     "metadata": {},
     "output_type": "execute_result"
    }
   ],
   "source": [
    "model.wv.most_similar('good.a.01')"
   ]
  },
  {
   "cell_type": "code",
   "execution_count": 20,
   "metadata": {},
   "outputs": [],
   "source": [
    "from sklearn.manifold import TSNE\n",
    "import matplotlib.pyplot as plt\n"
   ]
  },
  {
   "cell_type": "code",
   "execution_count": 21,
   "metadata": {},
   "outputs": [],
   "source": [
    "tsne = TSNE(n_components=2)"
   ]
  },
  {
   "cell_type": "code",
   "execution_count": 22,
   "metadata": {},
   "outputs": [],
   "source": [
    "custom_synsets_set_pos = ['good.a.01', 'amazing.s.02', 'beautiful.a.01', 'boom.n.03', 'celebrate.v.02', 'appeal.n.02', 'cheerful.a.01', \n",
    "                    'clean.a.01', 'confident.a.01', 'convenient.a.01', 'cozy.s.01', 'divine.s.01', 'easy.a.01', 'efficient.a.01',\n",
    "                    'elegant.a.01', 'encourage.v.02', 'enjoy.v.01', 'entertain.v.01', 'excel.v.01', 'excite.v.01', 'fabulous.s.01',\n",
    "                    'fresh.a.01', 'gentle.s.02', 'glad.a.01', 'generous.a.01', 'gorgeous.s.01', 'happy.a.01', 'joy.n.01', 'lovely.s.01', \n",
    "                    'lucky.a.02', 'outstanding.s.01', 'pleasing.a.01', 'pride.n.01', 'proper.a.01', 'sexy.a.01', 'smart.s.07',\n",
    "                    'bright.a.01', 'comfortable.a.01', 'cool.s.06', 'faithful.a.01', 'celebrated.s.01', 'all_right.s.01', 'fine-looking.s.01',\n",
    "                    'healthy.a.01', 'honor.n.02', 'prefer.v.01', 'better.v.02', 'inspire.v.02', 'intelligent.a.01', 'maestro.n.01',\n",
    "                    'modest.a.01', 'nice.a.01', 'optimum.s.01', 'positive.a.01', 'plus.s.02', 'peaceful.a.01', 'thrive.v.02', 'recommend.v.03',\n",
    "                    'extremely.r.02', 'ace.s.01', 'victory.n.01', 'fantastic.s.02', 'refresh.v.02', 'satisfy.v.02', 'sensational.a.01', 'smooth.s.07', 'fluent.s.01', \n",
    "                    'excellent.s.01', 'brilliant.s.03', 'glorious.s.03', 'success.n.02', 'thoughtful.s.01', 'trust.v.01', 'win.n.01' ]\n",
    "\n",
    "custom_synsets_set_neg = ['abnormal.a.01', 'abort.v.01', 'maltreatment.n.01', 'mistreat.v.01', 'afraid.a.01', 'angry.a.01', 'arrogant.s.01', 'ashamed.a.01', \n",
    "                    'atrocious.s.02', 'bad.a.01', 'cunt.n.01','gripe.v.01', 'blame.v.01', 'boring.s.01', 'brutal.s.02', 'bullshit.n.01',\n",
    "                    'cancer.n.01', 'chaotic.s.01', 'cheat.n.05', 'cocky.s.01', 'conflict.n.01', 'confuse.v.02', 'controversial.a.01',\n",
    "                    'corrupt.v.01', 'creepy.s.01', 'curse.v.01', 'dangerous.a.01', 'dead.n.01', 'defect.n.02', 'depression.n.01', 'destroy.v.02', \n",
    "                    'die.v.01', 'cock.n.01', 'disappoint.v.01', 'incredulity.n.01', 'discomfort.n.01', 'disgraceful.s.01', 'disobey.v.01',\n",
    "                    'distressing.s.01', 'shit.n.04', 'embarrass.v.01', 'error.n.03', 'exhaust.v.01', 'fail.v.01', 'fake.n.01', \n",
    "                    'false.a.01', 'fool.n.01', 'freak.n.01', 'fraud.n.01', 'fraud.n.03', 'difficult.a.01', 'harm.v.01', 'idiot.n.01',\n",
    "                    'ignorant.s.01', 'misfortune.n.01', 'mistake.n.01', 'murder.v.01', 'negative.a.01', 'painful.a.01', 'pervert.n.01', \n",
    "                    'poor.a.02', 'poor.s.06', 'problem.n.01','trouble.n.01', 'racist.n.01', 'reject.v.01', 'sad.a.01', 'grouch.v.01', 'cheat.v.02', 'selfish.a.01',\n",
    "                    'pathetic.s.03', 'sloppy.s.01', 'malodor.n.01','reek.v.02', 'stupid.a.01', 'suck.v.04', 'awful.s.02', 'rubbish.n.01', 'weak.a.01' ]\n",
    "\n",
    "tmp_list = custom_synsets_set_pos + custom_synsets_set_neg"
   ]
  },
  {
   "cell_type": "code",
   "execution_count": 24,
   "metadata": {},
   "outputs": [],
   "source": [
    "X = model_300[tmp_list]"
   ]
  },
  {
   "cell_type": "code",
   "execution_count": 25,
   "metadata": {},
   "outputs": [],
   "source": [
    "X_tsne = tsne.fit_transform(X)"
   ]
  },
  {
   "cell_type": "code",
   "execution_count": 26,
   "metadata": {},
   "outputs": [
    {
     "data": {
      "image/png": "[encoded data removed]",
      "text/plain": [
       "<matplotlib.figure.Figure at 0x150e98dd8>"
      ]
     },
     "metadata": {},
     "output_type": "display_data"
    }
   ],
   "source": [
    "plt.scatter(X_tsne[:, 0], X_tsne[:, 1], c='r', s=2)\n",
    "plt.show()"
   ]
  },
  {
   "cell_type": "code",
   "execution_count": 29,
   "metadata": {},
   "outputs": [],
   "source": [
    "X_pos = model_300[custom_synsets_set_pos]"
   ]
  },
  {
   "cell_type": "code",
   "execution_count": 30,
   "metadata": {},
   "outputs": [],
   "source": [
    "X_neg = model_300[custom_synsets_set_neg]"
   ]
  },
  {
   "cell_type": "code",
   "execution_count": 31,
   "metadata": {},
   "outputs": [],
   "source": [
    "X_pos = X_pos[:10]\n",
    "X_neg = X_neg[:10]"
   ]
  },
  {
   "cell_type": "code",
   "execution_count": 32,
   "metadata": {},
   "outputs": [],
   "source": [
    "X_list = []\n",
    "for xs in X_pos:\n",
    "    X_list.append(xs)\n",
    "for xs in X_neg:\n",
    "    X_list.append(xs)"
   ]
  },
  {
   "cell_type": "code",
   "execution_count": 33,
   "metadata": {},
   "outputs": [
    {
     "name": "stdout",
     "output_type": "stream",
     "text": [
      "10\n"
     ]
    }
   ],
   "source": [
    "print(len(X_pos))"
   ]
  },
  {
   "cell_type": "code",
   "execution_count": 34,
   "metadata": {},
   "outputs": [
    {
     "name": "stdout",
     "output_type": "stream",
     "text": [
      "20\n"
     ]
    }
   ],
   "source": [
    "print(len(X_list))"
   ]
  },
  {
   "cell_type": "code",
   "execution_count": 35,
   "metadata": {},
   "outputs": [],
   "source": [
    "X_tsne = tsne.fit_transform(X_list)"
   ]
  },
  {
   "cell_type": "code",
   "execution_count": 45,
   "metadata": {},
   "outputs": [
    {
     "data": {
      "image/png": "[encoded data removed]",
      "text/plain": [
       "<matplotlib.figure.Figure at 0x152e45be0>"
      ]
     },
     "metadata": {},
     "output_type": "display_data"
    }
   ],
   "source": [
    "plt.close()\n",
    "plt.figure(figsize=(20,10))\n",
    "\n",
    "plt.scatter(X_tsne[:len(X_pos), 0], X_tsne[:len(X_pos), 1], c='b', s=20)\n",
    "plt.scatter(X_tsne[len(X_pos):, 0], X_tsne[len(X_pos):, 1], c='r', s=20)\n",
    "\n",
    "for i, word in enumerate(custom_synsets_set_pos[:10]):\n",
    "    plt.annotate(word, xy=(X_tsne[i, 0], X_tsne[i, 1]), size = 12)\n",
    "\n",
    "for i, word in enumerate(custom_synsets_set_neg[:10]):\n",
    "    plt.annotate(word, xy=(X_tsne[i+10, 0], X_tsne[i+10, 1]), size = 12)\n",
    "plt.show()"
   ]
  },
  {
   "cell_type": "code",
   "execution_count": 46,
   "metadata": {},
   "outputs": [],
   "source": [
    "from sklearn.decomposition import PCA"
   ]
  },
  {
   "cell_type": "code",
   "execution_count": 47,
   "metadata": {},
   "outputs": [],
   "source": [
    "pca = PCA(n_components=2)"
   ]
  },
  {
   "cell_type": "code",
   "execution_count": 48,
   "metadata": {},
   "outputs": [],
   "source": [
    "X_pca = pca.fit_transform(X_list)"
   ]
  },
  {
   "cell_type": "code",
   "execution_count": 52,
   "metadata": {
    "scrolled": false
   },
   "outputs": [
    {
     "data": {
      "image/png": "[encoded data removed]",
      "text/plain": [
       "<matplotlib.figure.Figure at 0x153102be0>"
      ]
     },
     "metadata": {},
     "output_type": "display_data"
    }
   ],
   "source": [
    "plt.figure(figsize=(20,10))\n",
    "\n",
    "plt.scatter(X_pca[:len(X_pos), 0], X_pca[:len(X_pos), 1], c='b', s=10)\n",
    "plt.scatter(X_pca[len(X_pos):, 0], X_pca[len(X_pos):, 1], c='r', s=10)\n",
    "\n",
    "# for i, word in enumerate(custom_synsets_set_pos[:10]):\n",
    "#     plt.annotate(word, xy=(X_pca[i, 0], X_pca[i, 1]), size=15)\n",
    "\n",
    "# for i, word in enumerate(custom_synsets_set_neg[:10]):\n",
    "#     plt.annotate(word, xy=(X_pca[i+10, 0], X_pca[i+10, 1]), size=15)\n",
    "plt.show()"
   ]
  },
  {
   "cell_type": "code",
   "execution_count": 54,
   "metadata": {},
   "outputs": [
    {
     "data": {
      "text/plain": [
       "0.57180419809554062"
      ]
     },
     "execution_count": 54,
     "metadata": {},
     "output_type": "execute_result"
    }
   ],
   "source": [
    "model_300.similarity('positive.a.01', 'good.a.01')"
   ]
  },
  {
   "cell_type": "code",
   "execution_count": 164,
   "metadata": {},
   "outputs": [
    {
     "name": "stderr",
     "output_type": "stream",
     "text": [
      "2017-12-05 03:30:04,169 : INFO : saving Word2Vec object under model_syn2vec_10000, separately None\n",
      "2017-12-05 03:30:04,172 : INFO : storing np array 'syn0' to model_syn2vec_10000.wv.syn0.npy\n",
      "2017-12-05 03:31:25,257 : INFO : not storing attribute syn0norm\n",
      "2017-12-05 03:31:25,275 : INFO : storing np array 'syn1neg' to model_syn2vec_10000.syn1neg.npy\n",
      "2017-12-05 03:46:59,900 : INFO : not storing attribute cum_table\n",
      "2017-12-05 03:47:02,453 : INFO : saved model_syn2vec_10000\n"
     ]
    }
   ],
   "source": [
    "fname = 'model_syn2vec_10000'\n",
    "model.save(fname)"
   ]
  },
  {
   "cell_type": "code",
   "execution_count": 169,
   "metadata": {},
   "outputs": [
    {
     "name": "stderr",
     "output_type": "stream",
     "text": [
      "2017-12-05 03:52:06,819 : INFO : saving Word2Vec object under model_syn2vec_1000, separately None\n",
      "2017-12-05 03:52:06,823 : INFO : storing np array 'syn0' to model_syn2vec_1000.wv.syn0.npy\n",
      "2017-12-05 03:52:08,688 : INFO : not storing attribute syn0norm\n",
      "2017-12-05 03:52:08,756 : INFO : storing np array 'syn1neg' to model_syn2vec_1000.syn1neg.npy\n",
      "2017-12-05 03:52:10,609 : INFO : not storing attribute cum_table\n",
      "2017-12-05 03:52:11,152 : INFO : saved model_syn2vec_1000\n"
     ]
    }
   ],
   "source": [
    "fname = 'model_syn2vec_1000'\n",
    "model_1000.save(fname)"
   ]
  },
  {
   "cell_type": "code",
   "execution_count": 172,
   "metadata": {},
   "outputs": [
    {
     "name": "stderr",
     "output_type": "stream",
     "text": [
      "2017-12-05 03:53:56,822 : INFO : saving Word2Vec object under model_syn2vec_500, separately None\n",
      "2017-12-05 03:53:56,823 : INFO : storing np array 'syn0' to model_syn2vec_500.wv.syn0.npy\n",
      "2017-12-05 03:53:57,640 : INFO : not storing attribute syn0norm\n",
      "2017-12-05 03:53:57,641 : INFO : storing np array 'syn1neg' to model_syn2vec_500.syn1neg.npy\n",
      "2017-12-05 03:53:58,777 : INFO : not storing attribute cum_table\n",
      "2017-12-05 03:53:59,199 : INFO : saved model_syn2vec_500\n"
     ]
    }
   ],
   "source": [
    "fname = 'model_syn2vec_500'\n",
    "model_500.save(fname)"
   ]
  },
  {
   "cell_type": "code",
   "execution_count": 166,
   "metadata": {},
   "outputs": [
    {
     "name": "stderr",
     "output_type": "stream",
     "text": [
      "2017-12-05 03:47:59,064 : INFO : loading Word2Vec object from model_syn2vec_10000\n",
      "2017-12-05 03:47:59,784 : INFO : loading wv recursively from model_syn2vec_10000.wv.* with mmap=None\n",
      "2017-12-05 03:47:59,788 : INFO : loading syn0 from model_syn2vec_10000.wv.syn0.npy with mmap=None\n",
      "2017-12-05 03:48:13,760 : INFO : setting ignored attribute syn0norm to None\n",
      "2017-12-05 03:48:13,769 : INFO : loading syn1neg from model_syn2vec_10000.syn1neg.npy with mmap=None\n",
      "2017-12-05 03:48:57,129 : INFO : setting ignored attribute cum_table to None\n",
      "2017-12-05 03:48:57,150 : INFO : loaded model_syn2vec_10000\n"
     ]
    }
   ],
   "source": [
    "model_s2v = gensim.models.Word2Vec.load(fname)"
   ]
  },
  {
   "cell_type": "code",
   "execution_count": null,
   "metadata": {},
   "outputs": [],
   "source": []
  },
  {
   "cell_type": "markdown",
   "metadata": {},
   "source": [
    "### word2vec with plain words in WordNet"
   ]
  },
  {
   "cell_type": "code",
   "execution_count": 55,
   "metadata": {},
   "outputs": [],
   "source": [
    "import re\n",
    "import preprocessor as p"
   ]
  },
  {
   "cell_type": "code",
   "execution_count": 56,
   "metadata": {},
   "outputs": [],
   "source": [
    "all_words  = set(i for i in wn.words())"
   ]
  },
  {
   "cell_type": "code",
   "execution_count": 57,
   "metadata": {},
   "outputs": [
    {
     "data": {
      "text/plain": [
       "147306"
      ]
     },
     "execution_count": 57,
     "metadata": {},
     "output_type": "execute_result"
    }
   ],
   "source": [
    "len(all_words)"
   ]
  },
  {
   "cell_type": "code",
   "execution_count": 58,
   "metadata": {},
   "outputs": [
    {
     "data": {
      "text/plain": [
       "True"
      ]
     },
     "execution_count": 58,
     "metadata": {},
     "output_type": "execute_result"
    }
   ],
   "source": [
    "'excellent' in all_words"
   ]
  },
  {
   "cell_type": "code",
   "execution_count": 59,
   "metadata": {},
   "outputs": [],
   "source": [
    "## Negation\n",
    "replace_dict = {\n",
    "    \"don't\": \"do not\",\n",
    "    \"won't\": \"will not\",\n",
    "    \"didn't\": \"did not\",\n",
    "    \"doesn't\": \"does not\",\n",
    "    \"can't\": \"can not\",\n",
    "    \"couldn't\": \"could not\",\n",
    "    \"isn't\": \"is not\",\n",
    "    \"shouldn't\": \"should not\",\n",
    "    \"wouldn't\": \"would not\",\n",
    "    \"wasn't\": \"was not\",\n",
    "    \"weren't\": \"were not\",\n",
    "    \"haven't\": \"have not\",\n",
    "    \"ain't\": \"is not\",\n",
    "    \"aren't\": \"are not\",\n",
    "}\n",
    "\n",
    "def replace_word(text):\n",
    "    for word in replace_dict:\n",
    "        if word in text:  # Small first letter\n",
    "            text = text.replace(word, replace_dict[word])\n",
    "        elif word[0].title() + word[1:] in text:  # Big first letter\n",
    "            text = text.replace(word[0].title() + word[1:],\n",
    "                                replace_dict[word][0].title() + replace_dict[word][1:])\n",
    "\n",
    "    return text\n",
    "\n",
    "def neg_tagging(word_list):\n",
    "    string = ' '.join(word_list)\n",
    "    transformed = re.sub(r'\\b(?:not|never|no)\\b[\\w\\s]+[^\\w\\s]', \n",
    "           lambda match: re.sub(r'(\\s+)(\\w+)', r'\\1NEG_\\2', match.group(0)), \n",
    "           string,\n",
    "           flags=re.IGNORECASE)\n",
    "    \n",
    "    return transformed\n",
    "\n",
    "def negate(word_list):\n",
    "    negged_sentence = neg_tagging(word_list)\n",
    "    negged_tokens = negged_sentence.split()\n",
    "\n",
    "    token_pair_list = []\n",
    "    \n",
    "    for word in negged_tokens:\n",
    "        negation = False\n",
    "        if word.startswith('NEG_'):\n",
    "            negation = True\n",
    "            word = word[4:]\n",
    "        token_pair_list.append((word, negation))\n",
    "    \n",
    "    return token_pair_list"
   ]
  },
  {
   "cell_type": "code",
   "execution_count": 60,
   "metadata": {},
   "outputs": [],
   "source": [
    "def GetNegatedTokens(sentence):\n",
    "    cleaned_sentence = p.clean(sentence)\n",
    "    replaced_sentence = replace_word(cleaned_sentence)\n",
    "    replaced_sentence_word_list = replaced_sentence.split(\" \")\n",
    "\n",
    "    token_negation_pair_list = negate(replaced_sentence_word_list)\n",
    "\n",
    "    return token_negation_pair_list"
   ]
  },
  {
   "cell_type": "code",
   "execution_count": 61,
   "metadata": {},
   "outputs": [],
   "source": [
    "all_synset_list = list(wn.all_synsets())\n",
    "all_ss_df_token_list = []\n",
    "for ss in all_synset_list:\n",
    "    curr_def = GetNegatedTokens(ss.definition())\n",
    "    for lemma in ss.lemmas():\n",
    "        curr_def.append((lemma.name(), False))\n",
    "    all_ss_df_token_list.append(curr_def)"
   ]
  },
  {
   "cell_type": "code",
   "execution_count": 62,
   "metadata": {},
   "outputs": [
    {
     "data": {
      "text/plain": [
       "117659"
      ]
     },
     "execution_count": 62,
     "metadata": {},
     "output_type": "execute_result"
    }
   ],
   "source": [
    "len(all_ss_df_token_list)"
   ]
  },
  {
   "cell_type": "code",
   "execution_count": 63,
   "metadata": {},
   "outputs": [
    {
     "data": {
      "text/plain": [
       "[('(usually', False),\n",
       " ('followed', False),\n",
       " ('by', False),\n",
       " (\"`to')\", False),\n",
       " ('having', False),\n",
       " ('the', False),\n",
       " ('necessary', False),\n",
       " ('means', False),\n",
       " ('or', False),\n",
       " ('skill', False),\n",
       " ('or', False),\n",
       " ('know-how', False),\n",
       " ('or', False),\n",
       " ('authority', False),\n",
       " ('to', False),\n",
       " ('do', False),\n",
       " ('something', False),\n",
       " ('able', False)]"
      ]
     },
     "execution_count": 63,
     "metadata": {},
     "output_type": "execute_result"
    }
   ],
   "source": [
    "all_ss_df_token_list[0]"
   ]
  },
  {
   "cell_type": "code",
   "execution_count": 64,
   "metadata": {},
   "outputs": [
    {
     "name": "stderr",
     "output_type": "stream",
     "text": [
      "100%|██████████| 117659/117659 [00:01<00:00, 108801.29it/s]\n"
     ]
    }
   ],
   "source": [
    "word_df_word_pair_list = []\n",
    "\n",
    "for df_token_pair_list in tqdm(all_ss_df_token_list):\n",
    "    \n",
    "    curr_ss_df_ss_list = []\n",
    "    p_flag = False\n",
    "    for df_token_pair in df_token_pair_list:\n",
    "        if df_token_pair[0][0] == '(':\n",
    "            p_flag = True\n",
    "            continue\n",
    "        if p_flag == True:\n",
    "            if df_token_pair[0][-1] == ')':\n",
    "                p_flag = False\n",
    "                continue\n",
    "        else:\n",
    "            if df_token_pair[1] == False:\n",
    "                curr_ss_df_ss_list.append(df_token_pair[0])\n",
    "            else:\n",
    "                if wn.synsets(df_token_pair[0]):\n",
    "                    if wn.synsets(df_token_pair[0])[0].lemmas():\n",
    "                        if wn.synsets(df_token_pair[0])[0].lemmas()[0].antonyms():\n",
    "                            curr_ss_df_ss_list.append(wn.synsets(df_token_pair[0])[0].lemmas()[0].antonyms()[0].name())\n",
    "#         else:\n",
    "#             continue\n",
    "            \n",
    "    word_df_word_pair_list.append(curr_ss_df_ss_list)  \n"
   ]
  },
  {
   "cell_type": "code",
   "execution_count": 65,
   "metadata": {},
   "outputs": [
    {
     "data": {
      "text/plain": [
       "117659"
      ]
     },
     "execution_count": 65,
     "metadata": {},
     "output_type": "execute_result"
    }
   ],
   "source": [
    "len(word_df_word_pair_list)"
   ]
  },
  {
   "cell_type": "code",
   "execution_count": 66,
   "metadata": {},
   "outputs": [
    {
     "data": {
      "text/plain": [
       "[['having',\n",
       "  'the',\n",
       "  'necessary',\n",
       "  'means',\n",
       "  'or',\n",
       "  'skill',\n",
       "  'or',\n",
       "  'know-how',\n",
       "  'or',\n",
       "  'authority',\n",
       "  'to',\n",
       "  'do',\n",
       "  'something',\n",
       "  'able'],\n",
       " ['not', 'unable'],\n",
       " ['facing',\n",
       "  'away',\n",
       "  'from',\n",
       "  'the',\n",
       "  'axis',\n",
       "  'of',\n",
       "  'an',\n",
       "  'organ',\n",
       "  'or',\n",
       "  'organism',\n",
       "  'abaxial',\n",
       "  'dorsal']]"
      ]
     },
     "execution_count": 66,
     "metadata": {},
     "output_type": "execute_result"
    }
   ],
   "source": [
    "word_df_word_pair_list[:3]"
   ]
  },
  {
   "cell_type": "code",
   "execution_count": 67,
   "metadata": {},
   "outputs": [
    {
     "data": {
      "text/plain": [
       "[['able.a.01', 'necessary.a.01', 'mean.n.01', 'authority.n.02'],\n",
       " ['unable.a.01', 'unnecessary'],\n",
       " ['abaxial.a.01',\n",
       "  'front.v.01',\n",
       "  'away.r.10',\n",
       "  'bloc.n.01',\n",
       "  'organ.n.02',\n",
       "  'organism.n.02']]"
      ]
     },
     "execution_count": 67,
     "metadata": {},
     "output_type": "execute_result"
    }
   ],
   "source": [
    "sentences[:3]"
   ]
  },
  {
   "cell_type": "code",
   "execution_count": 68,
   "metadata": {},
   "outputs": [],
   "source": [
    "w_model_300 = gensim.models.Word2Vec(iter=20) "
   ]
  },
  {
   "cell_type": "code",
   "execution_count": 69,
   "metadata": {},
   "outputs": [],
   "source": [
    "w_model_500 = gensim.models.Word2Vec(iter=20) "
   ]
  },
  {
   "cell_type": "code",
   "execution_count": 70,
   "metadata": {},
   "outputs": [
    {
     "data": {
      "text/plain": [
       "['not', 'incapable']"
      ]
     },
     "execution_count": 70,
     "metadata": {},
     "output_type": "execute_result"
    }
   ],
   "source": [
    "word_df_word_pair_list[36]"
   ]
  },
  {
   "cell_type": "code",
   "execution_count": 71,
   "metadata": {},
   "outputs": [],
   "source": [
    "w_model_300 = gensim.models.Word2Vec(word_df_word_pair_list, size=300, window=20, min_count=1, workers=8, sg=1, iter=20)"
   ]
  },
  {
   "cell_type": "code",
   "execution_count": 48,
   "metadata": {},
   "outputs": [],
   "source": [
    "w_model_500 = gensim.models.Word2Vec(word_df_word_pair_list, size=500, window=20, min_count=1, workers=8, sg=1, iter=20)"
   ]
  },
  {
   "cell_type": "code",
   "execution_count": 72,
   "metadata": {},
   "outputs": [
    {
     "data": {
      "text/plain": [
       "[('haleness', 0.5821603536605835),\n",
       " ('comeliness', 0.568153440952301),\n",
       " ('loveliness', 0.5583909749984741),\n",
       " ('beauteousness', 0.5581384301185608),\n",
       " ('successfulness', 0.5491814613342285),\n",
       " ('wellborn', 0.5484558939933777),\n",
       " ('luck', 0.5447827577590942),\n",
       " ('healthfulness', 0.5436230301856995),\n",
       " ('prospering;', 0.5435668230056763),\n",
       " ('fellow;', 0.5419723987579346)]"
      ]
     },
     "execution_count": 72,
     "metadata": {},
     "output_type": "execute_result"
    }
   ],
   "source": [
    "w_model_300.wv.most_similar('good')"
   ]
  },
  {
   "cell_type": "code",
   "execution_count": 73,
   "metadata": {},
   "outputs": [
    {
     "data": {
      "text/plain": [
       "[('hard_cheese', 0.6364213228225708),\n",
       " ('cantankerously', 0.6340236067771912),\n",
       " ('tantrum', 0.6337926983833313),\n",
       " ('significantly;', 0.6304196715354919),\n",
       " ('disgruntle', 0.6257601976394653),\n",
       " ('conniption', 0.6252985000610352),\n",
       " ('unwholesomeness', 0.6226067543029785),\n",
       " ('weather-bound', 0.6206629872322083),\n",
       " ('morbidness', 0.6203004121780396),\n",
       " ('regrettably', 0.6188953518867493)]"
      ]
     },
     "execution_count": 73,
     "metadata": {},
     "output_type": "execute_result"
    }
   ],
   "source": [
    "w_model_300.wv.most_similar('bad')"
   ]
  },
  {
   "cell_type": "code",
   "execution_count": 74,
   "metadata": {},
   "outputs": [],
   "source": [
    "## Custom positive word set\n",
    "custom_words_set_pos = ['good', 'awesome', 'beautiful', 'boom', 'celebrate', 'charm', 'cheerful', \n",
    "                    'clean', 'confident', 'convenient', 'cozy', 'divine', 'easy', 'efficient',\n",
    "                    'elegant', 'encourage', 'enjoy', 'entertain', 'excellent', 'exciting', 'fabulous',\n",
    "                    'fresh', 'gentle', 'glad', 'generous', 'gorgeous', 'happy', 'joy', 'lovely', \n",
    "                    'lucky', 'outstanding', 'pleasing', 'pride', 'proper', 'sexy', 'smart',\n",
    "                    'bright', 'comfortable', 'cool', 'faithful', 'famous', 'fine', 'handsome',\n",
    "                    'healthy', 'honor', 'prefer', 'improve', 'inspire', 'intelligent', 'master',\n",
    "                    'modest', 'nice', 'optimal', 'positive', 'peaceful', 'prosper', 'recommend',\n",
    "                    'super', 'victory', 'wonderful', 'refresh', 'satisfy', 'sensational', 'smooth', \n",
    "                    'splendid', 'success', 'thoughtful', 'trust', 'win' ]"
   ]
  },
  {
   "cell_type": "code",
   "execution_count": 75,
   "metadata": {},
   "outputs": [],
   "source": [
    "## Custom negative word set\n",
    "custom_words_set_neg = ['abnormal', 'abort', 'abuse', 'afraid', 'angry', 'arrogant', 'ashamed', \n",
    "                    'awful', 'bad', 'bitch', 'blame', 'boring', 'brutal', 'bullshit',\n",
    "                    'cancer', 'chaotic', 'cheat', 'cocky', 'conflict', 'confuse', 'controversial',\n",
    "                    'corrupt', 'creepy', 'curse', 'dangerous', 'dead', 'defect', 'depression', 'destroy', \n",
    "                    'die', 'dick', 'disappoint', 'disbelief', 'discomfort', 'disgraceful', 'disobey',\n",
    "                    'disturbing', 'dump', 'embarrass', 'error', 'exhaust', 'fail', 'fake', \n",
    "                    'false', 'fool', 'freak', 'fraud', 'grief', 'hard', 'harmed', 'idiot',\n",
    "                    'ignorant', 'misfortune', 'mistake', 'murder', 'negative', 'painful', 'pervert', \n",
    "                    'poor', 'problem', 'racist', 'reject', 'sad', 'scold', 'screwed', 'selfish',\n",
    "                    'silly', 'sloppy', 'stink', 'stupid', 'suck', 'terrible', 'trash', 'weak' ]\n"
   ]
  },
  {
   "cell_type": "code",
   "execution_count": 80,
   "metadata": {},
   "outputs": [],
   "source": [
    "c_list = custom_words_set_pos + custom_words_set_neg"
   ]
  },
  {
   "cell_type": "code",
   "execution_count": 76,
   "metadata": {},
   "outputs": [],
   "source": [
    "# tmp_all_list = []\n",
    "# for pair in word_df_word_pair_list:\n",
    "#     if len(pair) > 0:\n",
    "#         tmp_all_list.append(pair[0])\n",
    "    "
   ]
  },
  {
   "cell_type": "code",
   "execution_count": 81,
   "metadata": {},
   "outputs": [],
   "source": [
    "X = w_model_300[c_list]\n",
    "X_tsne = tsne.fit_transform(X)"
   ]
  },
  {
   "cell_type": "code",
   "execution_count": 82,
   "metadata": {},
   "outputs": [
    {
     "data": {
      "text/plain": [
       "143"
      ]
     },
     "execution_count": 82,
     "metadata": {},
     "output_type": "execute_result"
    }
   ],
   "source": [
    "len(X)"
   ]
  },
  {
   "cell_type": "code",
   "execution_count": 85,
   "metadata": {},
   "outputs": [
    {
     "data": {
      "image/png": "[encoded data removed]",
      "text/plain": [
       "<matplotlib.figure.Figure at 0x17b27c550>"
      ]
     },
     "metadata": {},
     "output_type": "display_data"
    }
   ],
   "source": [
    "plt.figure(figsize=(20,10))\n",
    "\n",
    "plt.scatter(X_tsne[:len(custom_words_set_pos), 0], X_tsne[:len(custom_words_set_pos), 1], c='b', s=10)\n",
    "plt.scatter(X_tsne[len(custom_words_set_pos):, 0], X_tsne[len(custom_words_set_pos):, 1], c='r', s=10)\n",
    "\n",
    "for i, word in enumerate(custom_words_set_pos[:]):\n",
    "    plt.annotate(word, xy=(X_tsne[i, 0], X_tsne[i, 1]), size = 12)\n",
    "\n",
    "for i, word in enumerate(custom_words_set_neg[:]):\n",
    "    plt.annotate(word, xy=(X_tsne[i+len(custom_words_set_pos), 0], X_tsne[i+len(custom_words_set_pos), 1]), size = 12)\n",
    "plt.show()"
   ]
  },
  {
   "cell_type": "code",
   "execution_count": null,
   "metadata": {},
   "outputs": [],
   "source": []
  }
 ],
 "metadata": {
  "kernelspec": {
   "display_name": "Python 3",
   "language": "python",
   "name": "python3"
  },
  "language_info": {
   "codemirror_mode": {
    "name": "ipython",
    "version": 3
   },
   "file_extension": ".py",
   "mimetype": "text/x-python",
   "name": "python",
   "nbconvert_exporter": "python",
   "pygments_lexer": "ipython3",
   "version": "3.6.0"
  }
 },
 "nbformat": 4,
 "nbformat_minor": 2
}
