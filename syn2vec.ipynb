{
 "cells": [
  {
   "cell_type": "code",
   "execution_count": 1,
   "metadata": {},
   "outputs": [],
   "source": [
    "import tensorflow as tf\n",
    "import numpy as np\n",
    "from nltk.corpus import wordnet as wn\n",
    "from tqdm import tqdm"
   ]
  },
  {
   "cell_type": "code",
   "execution_count": 2,
   "metadata": {},
   "outputs": [],
   "source": [
    "ss_df_triple_list = []\n",
    "for i in range(12):\n",
    "    with open('wsd_result/ss_def_wsd_adapted_lesk_' + str(i+1) + '.txt', 'r') as fp:\n",
    "        lines = fp.readlines()\n",
    "        for j in range(0, len(lines), 3):\n",
    "            if len(lines[j])>0:\n",
    "                ss_df_triple_list.append((lines[j].replace('\\n', ''), lines[j+2].replace('\\n', '')))"
   ]
  },
  {
   "cell_type": "code",
   "execution_count": 3,
   "metadata": {},
   "outputs": [
    {
     "data": {
      "text/plain": [
       "117659"
      ]
     },
     "execution_count": 3,
     "metadata": {},
     "output_type": "execute_result"
    }
   ],
   "source": [
    "len(ss_df_triple_list)"
   ]
  },
  {
   "cell_type": "code",
   "execution_count": 4,
   "metadata": {},
   "outputs": [
    {
     "data": {
      "text/plain": [
       "('able.a.01',\n",
       " \"(  None  False  usually  Synset('normally.r.01')  False  followed  Synset('succeed.v.02')  False  by  None  False  `to  None  False  '  None  False  )  None  False  having  None  False  the  None  False  necessary  Synset('necessary.a.01')  False  means  Synset('mean.n.01')  False  or  None  False  skill  None  False  or  None  False  know-how  None  False  or  None  False  authority  Synset('authority.n.02')  False  to  None  False  do  None  False  something  None  False  \")"
      ]
     },
     "execution_count": 4,
     "metadata": {},
     "output_type": "execute_result"
    }
   ],
   "source": [
    "ss_df_triple_list[0]"
   ]
  },
  {
   "cell_type": "code",
   "execution_count": 5,
   "metadata": {},
   "outputs": [],
   "source": [
    "synset_list = list(wn.all_synsets())"
   ]
  },
  {
   "cell_type": "code",
   "execution_count": 34,
   "metadata": {},
   "outputs": [],
   "source": [
    "# 'positive.a.01' in synset_list\n",
    "# synset_list[0].name()\n",
    "synset_name_list = []\n",
    "for ss in synset_list:\n",
    "    synset_name_list.append(ss.name())"
   ]
  },
  {
   "cell_type": "code",
   "execution_count": 35,
   "metadata": {},
   "outputs": [
    {
     "data": {
      "text/plain": [
       "117659"
      ]
     },
     "execution_count": 35,
     "metadata": {},
     "output_type": "execute_result"
    }
   ],
   "source": [
    "len(synset_name_list)"
   ]
  },
  {
   "cell_type": "code",
   "execution_count": 36,
   "metadata": {},
   "outputs": [
    {
     "data": {
      "text/plain": [
       "True"
      ]
     },
     "execution_count": 36,
     "metadata": {},
     "output_type": "execute_result"
    }
   ],
   "source": [
    "'positive.a.01' in synset_name_list"
   ]
  },
  {
   "cell_type": "code",
   "execution_count": 135,
   "metadata": {},
   "outputs": [
    {
     "name": "stderr",
     "output_type": "stream",
     "text": [
      "100%|██████████| 117659/117659 [00:02<00:00, 51480.03it/s]\n"
     ]
    }
   ],
   "source": [
    "ss_df_ss_pair_list = []\n",
    "\n",
    "for ss_df_triple in tqdm(ss_df_triple_list):\n",
    "    curr_df_ss_list = ss_df_triple[1].split('  ')[:-1]\n",
    "    curr_ss_df_ss_list = []\n",
    "    p_flag = True\n",
    "    for i in range(0, len(curr_df_ss_list), 3):\n",
    "#         print(curr_df_ss_list[i])\n",
    "        if curr_df_ss_list[i] == ')':\n",
    "#             print(') detected flag back to be true')\n",
    "            p_flag = True\n",
    "            continue \n",
    "        if p_flag == True:\n",
    "            if curr_df_ss_list[i] == '(':\n",
    "#                 print('( detected flag to false')\n",
    "                p_flag = False\n",
    "                continue\n",
    "            else:\n",
    "                if curr_df_ss_list[i+1] != 'None':\n",
    "                    curr_tmp_ss = curr_df_ss_list[i+1][8:-2]\n",
    "                    if curr_df_ss_list[i+2] != 'True':\n",
    "                        curr_ss_df_ss_list.append(curr_tmp_ss)\n",
    "                    else:\n",
    "                        if wn.synset(curr_tmp_ss).lemmas():\n",
    "                            if wn.synset(curr_tmp_ss).lemmas()[0].antonyms():\n",
    "                                curr_ss_df_ss_list.append(wn.synset(curr_tmp_ss).lemmas()[0].antonyms()[0].name())\n",
    "                else:\n",
    "                    continue\n",
    "        else:\n",
    "            continue\n",
    "            \n",
    "    ss_df_ss_pair_list.append((ss_df_triple[0], curr_ss_df_ss_list))"
   ]
  },
  {
   "cell_type": "code",
   "execution_count": 136,
   "metadata": {},
   "outputs": [
    {
     "data": {
      "text/plain": [
       "('able.a.01', ['necessary.a.01', 'mean.n.01', 'authority.n.02'])"
      ]
     },
     "execution_count": 136,
     "metadata": {},
     "output_type": "execute_result"
    }
   ],
   "source": [
    "ss_df_ss_pair_list[0]"
   ]
  },
  {
   "cell_type": "code",
   "execution_count": 137,
   "metadata": {},
   "outputs": [
    {
     "data": {
      "text/plain": [
       "117659"
      ]
     },
     "execution_count": 137,
     "metadata": {},
     "output_type": "execute_result"
    }
   ],
   "source": [
    "len(ss_df_ss_pair_list)"
   ]
  },
  {
   "cell_type": "code",
   "execution_count": 9,
   "metadata": {},
   "outputs": [
    {
     "name": "stdout",
     "output_type": "stream",
     "text": [
      "577\n"
     ]
    }
   ],
   "source": [
    "tcnt = 0\n",
    "for _tmp in ss_df_ss_pair_list:\n",
    "    if len(_tmp[1]) == 0:\n",
    "        tcnt +=1\n",
    "#         print(_tmp)\n",
    "print(tcnt)"
   ]
  },
  {
   "cell_type": "markdown",
   "metadata": {},
   "source": [
    "#### : 577 synsets don't have any related ones. -> should be trimmed off for syn2vec input data"
   ]
  },
  {
   "cell_type": "code",
   "execution_count": 10,
   "metadata": {},
   "outputs": [],
   "source": [
    "trimmed_ss_df_ss_pair_list = []\n",
    "\n",
    "for _tmp in ss_df_ss_pair_list:\n",
    "    if len(_tmp[1]) != 0:\n",
    "        trimmed_ss_df_ss_pair_list.append(_tmp)"
   ]
  },
  {
   "cell_type": "code",
   "execution_count": 11,
   "metadata": {},
   "outputs": [
    {
     "data": {
      "text/plain": [
       "117082"
      ]
     },
     "execution_count": 11,
     "metadata": {},
     "output_type": "execute_result"
    }
   ],
   "source": [
    "len(trimmed_ss_df_ss_pair_list)"
   ]
  },
  {
   "cell_type": "code",
   "execution_count": 14,
   "metadata": {},
   "outputs": [
    {
     "data": {
      "text/plain": [
       "('dissilient.s.01',\n",
       " ['explode.v.02',\n",
       "  'receptive.a.02',\n",
       "  'violence.n.01',\n",
       "  'source.n.03',\n",
       "  'vessel.n.03'])"
      ]
     },
     "execution_count": 14,
     "metadata": {},
     "output_type": "execute_result"
    }
   ],
   "source": [
    "trimmed_ss_df_ss_pair_list[10]"
   ]
  },
  {
   "cell_type": "code",
   "execution_count": 12,
   "metadata": {},
   "outputs": [
    {
     "name": "stderr",
     "output_type": "stream",
     "text": [
      "2017-12-05 00:46:34,689 : INFO : collecting all words and their counts\n",
      "2017-12-05 00:46:34,690 : INFO : PROGRESS: at sentence #0, processed 0 words, keeping 0 word types\n",
      "2017-12-05 00:46:34,691 : INFO : collected 3 word types from a corpus of 4 raw words and 2 sentences\n",
      "2017-12-05 00:46:34,691 : INFO : Loading a fresh vocabulary\n",
      "2017-12-05 00:46:34,692 : INFO : min_count=1 retains 3 unique words (100% of original 3, drops 0)\n",
      "2017-12-05 00:46:34,693 : INFO : min_count=1 leaves 4 word corpus (100% of original 4, drops 0)\n",
      "2017-12-05 00:46:34,695 : INFO : deleting the raw counts dictionary of 3 items\n",
      "2017-12-05 00:46:34,696 : INFO : sample=0.001 downsamples 3 most-common words\n",
      "2017-12-05 00:46:34,697 : INFO : downsampling leaves estimated 0 word corpus (5.7% of prior 4)\n",
      "2017-12-05 00:46:34,698 : INFO : estimated required memory for 3 words and 100 dimensions: 3900 bytes\n",
      "2017-12-05 00:46:34,700 : INFO : resetting layer weights\n",
      "2017-12-05 00:46:34,704 : INFO : training model with 3 workers on 3 vocabulary and 100 features, using sg=0 hs=0 sample=0.001 negative=5 window=5\n",
      "2017-12-05 00:46:34,708 : INFO : worker thread finished; awaiting finish of 2 more threads\n",
      "2017-12-05 00:46:34,709 : INFO : worker thread finished; awaiting finish of 1 more threads\n",
      "2017-12-05 00:46:34,710 : INFO : worker thread finished; awaiting finish of 0 more threads\n",
      "2017-12-05 00:46:34,711 : INFO : training on 20 raw words (0 effective words) took 0.0s, 0 effective words/s\n",
      "2017-12-05 00:46:34,712 : WARNING : under 10 jobs per worker: consider setting a smaller `batch_words' for smoother alpha decay\n"
     ]
    }
   ],
   "source": [
    "import gensim, logging\n",
    "logging.basicConfig(format='%(asctime)s : %(levelname)s : %(message)s', level=logging.INFO)\n",
    " \n",
    "sentences = [['first', 'sentence'], ['second', 'sentence']]\n",
    "# train word2vec on the two sentences\n",
    "model = gensim.models.Word2Vec(sentences, min_count=1)"
   ]
  },
  {
   "cell_type": "code",
   "execution_count": 13,
   "metadata": {},
   "outputs": [],
   "source": [
    "model = gensim.models.Word2Vec(iter=1) "
   ]
  },
  {
   "cell_type": "code",
   "execution_count": 138,
   "metadata": {},
   "outputs": [
    {
     "name": "stdout",
     "output_type": "stream",
     "text": [
      "found\n"
     ]
    }
   ],
   "source": [
    "sentences = []\n",
    "# for ss_pair in trimmed_ss_df_ss_pair_list:\n",
    "for ss_pair in ss_df_ss_pair_list:\n",
    "    if ss_pair[0] == 'positive.a.01':\n",
    "        print('found')\n",
    "    curr_sent = []\n",
    "    curr_sent.append(ss_pair[0])\n",
    "    curr_sent.extend(ss_pair[1])\n",
    "    sentences.append(curr_sent)"
   ]
  },
  {
   "cell_type": "code",
   "execution_count": 139,
   "metadata": {},
   "outputs": [
    {
     "data": {
      "text/plain": [
       "117659"
      ]
     },
     "execution_count": 139,
     "metadata": {},
     "output_type": "execute_result"
    }
   ],
   "source": [
    "len(sentences)"
   ]
  },
  {
   "cell_type": "code",
   "execution_count": 199,
   "metadata": {},
   "outputs": [
    {
     "data": {
      "text/plain": [
       "['able.a.01', 'necessary.a.01', 'mean.n.01', 'authority.n.02']"
      ]
     },
     "execution_count": 199,
     "metadata": {},
     "output_type": "execute_result"
    }
   ],
   "source": [
    "sentences[0]"
   ]
  },
  {
   "cell_type": "code",
   "execution_count": 141,
   "metadata": {},
   "outputs": [
    {
     "name": "stderr",
     "output_type": "stream",
     "text": [
      "2017-12-05 02:25:43,519 : INFO : collecting all words and their counts\n",
      "2017-12-05 02:25:43,521 : INFO : PROGRESS: at sentence #0, processed 0 words, keeping 0 word types\n",
      "2017-12-05 02:25:43,541 : INFO : PROGRESS: at sentence #10000, processed 43160 words, keeping 16997 word types\n",
      "2017-12-05 02:25:43,563 : INFO : PROGRESS: at sentence #20000, processed 84660 words, keeping 29882 word types\n",
      "2017-12-05 02:25:43,591 : INFO : PROGRESS: at sentence #30000, processed 141015 words, keeping 41567 word types\n",
      "2017-12-05 02:25:43,625 : INFO : PROGRESS: at sentence #40000, processed 204390 words, keeping 52810 word types\n",
      "2017-12-05 02:25:43,660 : INFO : PROGRESS: at sentence #50000, processed 268126 words, keeping 62059 word types\n",
      "2017-12-05 02:25:43,693 : INFO : PROGRESS: at sentence #60000, processed 334554 words, keeping 70894 word types\n",
      "2017-12-05 02:25:43,722 : INFO : PROGRESS: at sentence #70000, processed 400499 words, keeping 79803 word types\n",
      "2017-12-05 02:25:43,754 : INFO : PROGRESS: at sentence #80000, processed 461839 words, keeping 88366 word types\n",
      "2017-12-05 02:25:43,795 : INFO : PROGRESS: at sentence #90000, processed 543409 words, keeping 97726 word types\n",
      "2017-12-05 02:25:43,825 : INFO : PROGRESS: at sentence #100000, processed 612572 words, keeping 106242 word types\n",
      "2017-12-05 02:25:43,857 : INFO : PROGRESS: at sentence #110000, processed 664907 words, keeping 113086 word types\n",
      "2017-12-05 02:25:43,877 : INFO : collected 117866 word types from a corpus of 695673 raw words and 117659 sentences\n",
      "2017-12-05 02:25:43,878 : INFO : Loading a fresh vocabulary\n",
      "2017-12-05 02:25:44,221 : INFO : min_count=1 retains 117866 unique words (100% of original 117866, drops 0)\n",
      "2017-12-05 02:25:44,222 : INFO : min_count=1 leaves 695673 word corpus (100% of original 695673, drops 0)\n",
      "2017-12-05 02:25:44,891 : INFO : deleting the raw counts dictionary of 117866 items\n",
      "2017-12-05 02:25:44,894 : INFO : sample=0.001 downsamples 10 most-common words\n",
      "2017-12-05 02:25:44,896 : INFO : downsampling leaves estimated 689998 word corpus (99.2% of prior 695673)\n",
      "2017-12-05 02:25:44,897 : INFO : estimated required memory for 117866 words and 10000 dimensions: 9488213000 bytes\n",
      "2017-12-05 02:25:45,298 : INFO : resetting layer weights\n",
      "2017-12-05 02:26:13,479 : INFO : training model with 8 workers on 117866 vocabulary and 10000 features, using sg=1 hs=0 sample=0.001 negative=5 window=5\n",
      "2017-12-05 02:27:03,871 : INFO : PROGRESS: at 0.40% examples, 198 words/s, in_qsize 16, out_qsize 0\n",
      "2017-12-05 02:27:04,951 : INFO : PROGRESS: at 1.19% examples, 581 words/s, in_qsize 15, out_qsize 0\n",
      "2017-12-05 02:27:06,078 : INFO : PROGRESS: at 2.75% examples, 1327 words/s, in_qsize 15, out_qsize 0\n",
      "2017-12-05 02:27:22,398 : INFO : PROGRESS: at 3.71% examples, 1302 words/s, in_qsize 15, out_qsize 0\n",
      "2017-12-05 02:27:31,729 : INFO : PROGRESS: at 4.02% examples, 1274 words/s, in_qsize 15, out_qsize 0\n",
      "2017-12-05 02:27:35,139 : INFO : PROGRESS: at 4.31% examples, 1341 words/s, in_qsize 15, out_qsize 0\n",
      "2017-12-05 02:27:36,153 : INFO : PROGRESS: at 5.38% examples, 1804 words/s, in_qsize 15, out_qsize 0\n",
      "2017-12-05 02:27:51,342 : INFO : PROGRESS: at 5.91% examples, 1726 words/s, in_qsize 16, out_qsize 0\n",
      "2017-12-05 02:28:04,311 : INFO : PROGRESS: at 6.19% examples, 1612 words/s, in_qsize 15, out_qsize 0\n",
      "2017-12-05 02:28:05,424 : INFO : PROGRESS: at 6.44% examples, 1685 words/s, in_qsize 15, out_qsize 0\n",
      "2017-12-05 02:28:06,575 : INFO : PROGRESS: at 7.43% examples, 2019 words/s, in_qsize 16, out_qsize 1\n",
      "2017-12-05 02:28:11,073 : INFO : PROGRESS: at 7.92% examples, 2111 words/s, in_qsize 15, out_qsize 0\n",
      "2017-12-05 02:28:13,844 : INFO : PROGRESS: at 8.28% examples, 2145 words/s, in_qsize 16, out_qsize 0\n",
      "2017-12-05 02:28:17,141 : INFO : PROGRESS: at 8.56% examples, 2168 words/s, in_qsize 15, out_qsize 0\n",
      "2017-12-05 02:28:19,772 : INFO : PROGRESS: at 8.80% examples, 2202 words/s, in_qsize 16, out_qsize 1\n",
      "2017-12-05 02:28:24,052 : INFO : PROGRESS: at 10.08% examples, 2511 words/s, in_qsize 16, out_qsize 0\n",
      "2017-12-05 02:28:26,800 : INFO : PROGRESS: at 10.36% examples, 2534 words/s, in_qsize 15, out_qsize 0\n",
      "2017-12-05 02:28:29,288 : INFO : PROGRESS: at 10.95% examples, 2634 words/s, in_qsize 15, out_qsize 0\n",
      "2017-12-05 02:28:30,328 : INFO : PROGRESS: at 11.66% examples, 2832 words/s, in_qsize 16, out_qsize 0\n",
      "2017-12-05 02:28:33,457 : INFO : PROGRESS: at 12.11% examples, 2910 words/s, in_qsize 15, out_qsize 0\n",
      "2017-12-05 02:28:35,968 : INFO : PROGRESS: at 12.34% examples, 2929 words/s, in_qsize 16, out_qsize 0\n",
      "2017-12-05 02:28:37,644 : INFO : PROGRESS: at 13.22% examples, 3101 words/s, in_qsize 15, out_qsize 0\n",
      "2017-12-05 02:28:39,149 : INFO : PROGRESS: at 13.79% examples, 3205 words/s, in_qsize 16, out_qsize 0\n",
      "2017-12-05 02:28:40,461 : INFO : PROGRESS: at 13.99% examples, 3243 words/s, in_qsize 15, out_qsize 0\n",
      "2017-12-05 02:28:42,443 : INFO : PROGRESS: at 14.22% examples, 3266 words/s, in_qsize 15, out_qsize 0\n",
      "2017-12-05 02:28:45,045 : INFO : PROGRESS: at 14.44% examples, 3275 words/s, in_qsize 16, out_qsize 0\n",
      "2017-12-05 02:28:46,145 : INFO : PROGRESS: at 14.84% examples, 3379 words/s, in_qsize 15, out_qsize 0\n",
      "2017-12-05 02:28:47,422 : INFO : PROGRESS: at 15.22% examples, 3478 words/s, in_qsize 16, out_qsize 0\n",
      "2017-12-05 02:28:49,518 : INFO : PROGRESS: at 15.64% examples, 3557 words/s, in_qsize 16, out_qsize 0\n",
      "2017-12-05 02:28:51,318 : INFO : PROGRESS: at 15.89% examples, 3579 words/s, in_qsize 15, out_qsize 0\n",
      "2017-12-05 02:28:53,243 : INFO : PROGRESS: at 16.19% examples, 3598 words/s, in_qsize 16, out_qsize 0\n",
      "2017-12-05 02:28:55,319 : INFO : PROGRESS: at 16.69% examples, 3675 words/s, in_qsize 16, out_qsize 0\n",
      "2017-12-05 02:28:56,624 : INFO : PROGRESS: at 17.15% examples, 3767 words/s, in_qsize 15, out_qsize 0\n",
      "2017-12-05 02:28:57,781 : INFO : PROGRESS: at 17.80% examples, 3862 words/s, in_qsize 16, out_qsize 0\n",
      "2017-12-05 02:28:59,652 : INFO : PROGRESS: at 18.48% examples, 3938 words/s, in_qsize 16, out_qsize 0\n",
      "2017-12-05 02:29:01,703 : INFO : PROGRESS: at 19.33% examples, 4008 words/s, in_qsize 15, out_qsize 0\n",
      "2017-12-05 02:29:03,074 : INFO : PROGRESS: at 20.16% examples, 4093 words/s, in_qsize 16, out_qsize 0\n",
      "2017-12-05 02:29:04,756 : INFO : PROGRESS: at 20.95% examples, 4170 words/s, in_qsize 15, out_qsize 0\n",
      "2017-12-05 02:29:06,416 : INFO : PROGRESS: at 21.74% examples, 4245 words/s, in_qsize 15, out_qsize 0\n",
      "2017-12-05 02:29:08,473 : INFO : PROGRESS: at 22.53% examples, 4309 words/s, in_qsize 16, out_qsize 0\n",
      "2017-12-05 02:29:09,743 : INFO : PROGRESS: at 23.83% examples, 4447 words/s, in_qsize 15, out_qsize 0\n",
      "2017-12-05 02:29:12,872 : INFO : PROGRESS: at 24.12% examples, 4425 words/s, in_qsize 15, out_qsize 0\n",
      "2017-12-05 02:29:14,685 : INFO : PROGRESS: at 24.65% examples, 4491 words/s, in_qsize 15, out_qsize 0\n",
      "2017-12-05 02:29:15,938 : INFO : PROGRESS: at 24.90% examples, 4515 words/s, in_qsize 15, out_qsize 0\n",
      "2017-12-05 02:29:17,264 : INFO : PROGRESS: at 25.75% examples, 4642 words/s, in_qsize 16, out_qsize 0\n",
      "2017-12-05 02:29:21,430 : INFO : PROGRESS: at 26.29% examples, 4644 words/s, in_qsize 16, out_qsize 0\n",
      "2017-12-05 02:29:23,343 : INFO : PROGRESS: at 26.79% examples, 4702 words/s, in_qsize 16, out_qsize 0\n",
      "2017-12-05 02:29:24,614 : INFO : PROGRESS: at 27.04% examples, 4723 words/s, in_qsize 16, out_qsize 0\n",
      "2017-12-05 02:29:25,988 : INFO : PROGRESS: at 27.78% examples, 4844 words/s, in_qsize 16, out_qsize 0\n",
      "2017-12-05 02:29:28,807 : INFO : PROGRESS: at 28.36% examples, 4876 words/s, in_qsize 15, out_qsize 0\n",
      "2017-12-05 02:29:29,959 : INFO : PROGRESS: at 28.67% examples, 4898 words/s, in_qsize 15, out_qsize 0\n",
      "2017-12-05 02:29:32,692 : INFO : PROGRESS: at 28.89% examples, 4881 words/s, in_qsize 15, out_qsize 0\n",
      "2017-12-05 02:29:34,164 : INFO : PROGRESS: at 29.41% examples, 4944 words/s, in_qsize 15, out_qsize 0\n",
      "2017-12-05 02:29:36,287 : INFO : PROGRESS: at 30.49% examples, 5089 words/s, in_qsize 16, out_qsize 0\n",
      "2017-12-05 02:29:37,370 : INFO : PROGRESS: at 30.80% examples, 5111 words/s, in_qsize 16, out_qsize 0\n",
      "2017-12-05 02:29:40,865 : INFO : PROGRESS: at 31.05% examples, 5072 words/s, in_qsize 15, out_qsize 0\n",
      "2017-12-05 02:29:42,572 : INFO : PROGRESS: at 31.53% examples, 5126 words/s, in_qsize 15, out_qsize 0\n",
      "2017-12-05 02:29:44,743 : INFO : PROGRESS: at 32.44% examples, 5261 words/s, in_qsize 15, out_qsize 0\n"
     ]
    },
    {
     "name": "stderr",
     "output_type": "stream",
     "text": [
      "2017-12-05 02:29:48,109 : INFO : PROGRESS: at 33.03% examples, 5271 words/s, in_qsize 16, out_qsize 0\n",
      "2017-12-05 02:29:49,740 : INFO : PROGRESS: at 33.67% examples, 5323 words/s, in_qsize 15, out_qsize 0\n",
      "2017-12-05 02:29:51,587 : INFO : PROGRESS: at 33.87% examples, 5323 words/s, in_qsize 16, out_qsize 0\n",
      "2017-12-05 02:29:53,698 : INFO : PROGRESS: at 34.53% examples, 5406 words/s, in_qsize 15, out_qsize 0\n",
      "2017-12-05 02:29:57,095 : INFO : PROGRESS: at 34.92% examples, 5411 words/s, in_qsize 15, out_qsize 0\n",
      "2017-12-05 02:29:58,627 : INFO : PROGRESS: at 35.31% examples, 5461 words/s, in_qsize 15, out_qsize 0\n",
      "2017-12-05 02:30:00,073 : INFO : PROGRESS: at 35.55% examples, 5470 words/s, in_qsize 15, out_qsize 0\n",
      "2017-12-05 02:30:01,736 : INFO : PROGRESS: at 36.26% examples, 5560 words/s, in_qsize 15, out_qsize 0\n",
      "2017-12-05 02:30:05,138 : INFO : PROGRESS: at 36.81% examples, 5563 words/s, in_qsize 15, out_qsize 0\n",
      "2017-12-05 02:30:06,318 : INFO : PROGRESS: at 37.45% examples, 5621 words/s, in_qsize 16, out_qsize 0\n",
      "2017-12-05 02:30:07,408 : INFO : PROGRESS: at 37.67% examples, 5637 words/s, in_qsize 15, out_qsize 0\n",
      "2017-12-05 02:30:08,792 : INFO : PROGRESS: at 39.08% examples, 5773 words/s, in_qsize 15, out_qsize 0\n",
      "2017-12-05 02:30:11,218 : INFO : PROGRESS: at 39.50% examples, 5756 words/s, in_qsize 16, out_qsize 0\n",
      "2017-12-05 02:30:12,595 : INFO : PROGRESS: at 40.32% examples, 5806 words/s, in_qsize 15, out_qsize 0\n",
      "2017-12-05 02:30:13,634 : INFO : PROGRESS: at 40.72% examples, 5823 words/s, in_qsize 15, out_qsize 0\n",
      "2017-12-05 02:30:15,039 : INFO : PROGRESS: at 42.29% examples, 5954 words/s, in_qsize 15, out_qsize 0\n",
      "2017-12-05 02:30:17,145 : INFO : PROGRESS: at 42.84% examples, 5943 words/s, in_qsize 16, out_qsize 0\n",
      "2017-12-05 02:30:18,622 : INFO : PROGRESS: at 43.61% examples, 5989 words/s, in_qsize 15, out_qsize 0\n",
      "2017-12-05 02:30:20,576 : INFO : PROGRESS: at 43.96% examples, 5982 words/s, in_qsize 15, out_qsize 0\n",
      "2017-12-05 02:30:21,852 : INFO : PROGRESS: at 44.24% examples, 5991 words/s, in_qsize 15, out_qsize 0\n",
      "2017-12-05 02:30:23,264 : INFO : PROGRESS: at 45.01% examples, 6077 words/s, in_qsize 15, out_qsize 0\n",
      "2017-12-05 02:30:24,787 : INFO : PROGRESS: at 45.30% examples, 6079 words/s, in_qsize 16, out_qsize 0\n",
      "2017-12-05 02:30:26,277 : INFO : PROGRESS: at 45.86% examples, 6121 words/s, in_qsize 16, out_qsize 0\n",
      "2017-12-05 02:30:28,470 : INFO : PROGRESS: at 46.14% examples, 6106 words/s, in_qsize 16, out_qsize 0\n",
      "2017-12-05 02:30:29,921 : INFO : PROGRESS: at 46.40% examples, 6111 words/s, in_qsize 15, out_qsize 0\n",
      "2017-12-05 02:30:31,577 : INFO : PROGRESS: at 47.14% examples, 6187 words/s, in_qsize 16, out_qsize 0\n",
      "2017-12-05 02:30:33,020 : INFO : PROGRESS: at 47.38% examples, 6190 words/s, in_qsize 16, out_qsize 0\n",
      "2017-12-05 02:30:34,507 : INFO : PROGRESS: at 47.88% examples, 6231 words/s, in_qsize 16, out_qsize 0\n",
      "2017-12-05 02:30:36,543 : INFO : PROGRESS: at 48.24% examples, 6221 words/s, in_qsize 16, out_qsize 0\n",
      "2017-12-05 02:30:38,320 : INFO : PROGRESS: at 48.76% examples, 6254 words/s, in_qsize 16, out_qsize 0\n",
      "2017-12-05 02:30:39,509 : INFO : PROGRESS: at 49.28% examples, 6301 words/s, in_qsize 15, out_qsize 0\n",
      "2017-12-05 02:30:41,805 : INFO : PROGRESS: at 49.50% examples, 6284 words/s, in_qsize 15, out_qsize 0\n",
      "2017-12-05 02:30:43,949 : INFO : PROGRESS: at 50.34% examples, 6345 words/s, in_qsize 16, out_qsize 0\n",
      "2017-12-05 02:30:45,940 : INFO : PROGRESS: at 50.90% examples, 6372 words/s, in_qsize 15, out_qsize 0\n",
      "2017-12-05 02:30:48,172 : INFO : PROGRESS: at 51.38% examples, 6392 words/s, in_qsize 16, out_qsize 0\n",
      "2017-12-05 02:30:50,077 : INFO : PROGRESS: at 51.62% examples, 6384 words/s, in_qsize 15, out_qsize 0\n",
      "2017-12-05 02:30:52,352 : INFO : PROGRESS: at 52.30% examples, 6438 words/s, in_qsize 16, out_qsize 0\n",
      "2017-12-05 02:30:54,051 : INFO : PROGRESS: at 53.16% examples, 6506 words/s, in_qsize 15, out_qsize 0\n",
      "2017-12-05 02:30:55,307 : INFO : PROGRESS: at 53.48% examples, 6512 words/s, in_qsize 15, out_qsize 0\n",
      "2017-12-05 02:30:57,749 : INFO : PROGRESS: at 53.75% examples, 6490 words/s, in_qsize 16, out_qsize 0\n",
      "2017-12-05 02:30:59,351 : INFO : PROGRESS: at 53.98% examples, 6488 words/s, in_qsize 15, out_qsize 0\n",
      "2017-12-05 02:31:00,909 : INFO : PROGRESS: at 54.41% examples, 6522 words/s, in_qsize 15, out_qsize 0\n",
      "2017-12-05 02:31:02,772 : INFO : PROGRESS: at 55.00% examples, 6581 words/s, in_qsize 15, out_qsize 0\n",
      "2017-12-05 02:31:04,229 : INFO : PROGRESS: at 55.19% examples, 6581 words/s, in_qsize 15, out_qsize 0\n",
      "2017-12-05 02:31:06,516 : INFO : PROGRESS: at 55.39% examples, 6563 words/s, in_qsize 15, out_qsize 0\n",
      "2017-12-05 02:31:07,540 : INFO : PROGRESS: at 55.63% examples, 6574 words/s, in_qsize 15, out_qsize 0\n",
      "2017-12-05 02:31:09,255 : INFO : PROGRESS: at 56.13% examples, 6603 words/s, in_qsize 14, out_qsize 1\n",
      "2017-12-05 02:31:10,871 : INFO : PROGRESS: at 56.87% examples, 6667 words/s, in_qsize 15, out_qsize 0\n",
      "2017-12-05 02:31:12,594 : INFO : PROGRESS: at 57.11% examples, 6662 words/s, in_qsize 15, out_qsize 0\n",
      "2017-12-05 02:31:14,342 : INFO : PROGRESS: at 57.50% examples, 6656 words/s, in_qsize 15, out_qsize 0\n",
      "2017-12-05 02:31:15,887 : INFO : PROGRESS: at 58.83% examples, 6754 words/s, in_qsize 15, out_qsize 0\n",
      "2017-12-05 02:31:18,628 : INFO : PROGRESS: at 60.09% examples, 6791 words/s, in_qsize 16, out_qsize 0\n",
      "2017-12-05 02:31:20,458 : INFO : PROGRESS: at 60.49% examples, 6783 words/s, in_qsize 16, out_qsize 0\n",
      "2017-12-05 02:31:21,483 : INFO : PROGRESS: at 61.66% examples, 6858 words/s, in_qsize 15, out_qsize 0\n",
      "2017-12-05 02:31:22,950 : INFO : PROGRESS: at 62.84% examples, 6922 words/s, in_qsize 16, out_qsize 0\n",
      "2017-12-05 02:31:24,403 : INFO : PROGRESS: at 63.26% examples, 6922 words/s, in_qsize 15, out_qsize 0\n",
      "2017-12-05 02:31:28,428 : INFO : PROGRESS: at 64.08% examples, 6896 words/s, in_qsize 15, out_qsize 0\n",
      "2017-12-05 02:31:29,941 : INFO : PROGRESS: at 64.86% examples, 6958 words/s, in_qsize 15, out_qsize 0\n",
      "2017-12-05 02:31:32,041 : INFO : PROGRESS: at 65.69% examples, 7004 words/s, in_qsize 15, out_qsize 0\n",
      "2017-12-05 02:31:33,068 : INFO : PROGRESS: at 65.97% examples, 7013 words/s, in_qsize 16, out_qsize 0\n",
      "2017-12-05 02:31:36,296 : INFO : PROGRESS: at 66.24% examples, 6973 words/s, in_qsize 16, out_qsize 0\n",
      "2017-12-05 02:31:37,328 : INFO : PROGRESS: at 66.50% examples, 6981 words/s, in_qsize 16, out_qsize 0\n",
      "2017-12-05 02:31:38,599 : INFO : PROGRESS: at 67.23% examples, 7046 words/s, in_qsize 16, out_qsize 0\n",
      "2017-12-05 02:31:40,406 : INFO : PROGRESS: at 67.73% examples, 7068 words/s, in_qsize 15, out_qsize 0\n",
      "2017-12-05 02:31:43,505 : INFO : PROGRESS: at 68.29% examples, 7061 words/s, in_qsize 16, out_qsize 0\n",
      "2017-12-05 02:31:45,948 : INFO : PROGRESS: at 68.85% examples, 7069 words/s, in_qsize 16, out_qsize 0\n",
      "2017-12-05 02:31:47,004 : INFO : PROGRESS: at 69.36% examples, 7107 words/s, in_qsize 15, out_qsize 0\n",
      "2017-12-05 02:31:48,539 : INFO : PROGRESS: at 69.85% examples, 7134 words/s, in_qsize 16, out_qsize 0\n",
      "2017-12-05 02:31:51,068 : INFO : PROGRESS: at 70.43% examples, 7139 words/s, in_qsize 15, out_qsize 0\n",
      "2017-12-05 02:31:53,888 : INFO : PROGRESS: at 71.01% examples, 7139 words/s, in_qsize 16, out_qsize 0\n",
      "2017-12-05 02:31:55,079 : INFO : PROGRESS: at 71.50% examples, 7172 words/s, in_qsize 16, out_qsize 0\n",
      "2017-12-05 02:31:57,210 : INFO : PROGRESS: at 71.95% examples, 7185 words/s, in_qsize 15, out_qsize 0\n",
      "2017-12-05 02:31:59,289 : INFO : PROGRESS: at 72.39% examples, 7199 words/s, in_qsize 16, out_qsize 0\n",
      "2017-12-05 02:32:00,799 : INFO : PROGRESS: at 72.97% examples, 7225 words/s, in_qsize 15, out_qsize 0\n",
      "2017-12-05 02:32:02,244 : INFO : PROGRESS: at 73.61% examples, 7252 words/s, in_qsize 16, out_qsize 0\n",
      "2017-12-05 02:32:04,152 : INFO : PROGRESS: at 73.83% examples, 7241 words/s, in_qsize 15, out_qsize 0\n",
      "2017-12-05 02:32:05,666 : INFO : PROGRESS: at 74.06% examples, 7237 words/s, in_qsize 15, out_qsize 0\n",
      "2017-12-05 02:32:07,684 : INFO : PROGRESS: at 74.49% examples, 7252 words/s, in_qsize 15, out_qsize 0\n",
      "2017-12-05 02:32:09,654 : INFO : PROGRESS: at 74.88% examples, 7266 words/s, in_qsize 15, out_qsize 0\n",
      "2017-12-05 02:32:10,914 : INFO : PROGRESS: at 75.27% examples, 7295 words/s, in_qsize 15, out_qsize 0\n",
      "2017-12-05 02:32:12,724 : INFO : PROGRESS: at 75.47% examples, 7286 words/s, in_qsize 15, out_qsize 0\n"
     ]
    },
    {
     "name": "stderr",
     "output_type": "stream",
     "text": [
      "2017-12-05 02:32:14,107 : INFO : PROGRESS: at 75.71% examples, 7285 words/s, in_qsize 15, out_qsize 0\n",
      "2017-12-05 02:32:15,738 : INFO : PROGRESS: at 76.20% examples, 7307 words/s, in_qsize 16, out_qsize 0\n",
      "2017-12-05 02:32:18,319 : INFO : PROGRESS: at 76.77% examples, 7310 words/s, in_qsize 15, out_qsize 0\n",
      "2017-12-05 02:32:19,753 : INFO : PROGRESS: at 77.20% examples, 7335 words/s, in_qsize 16, out_qsize 0\n",
      "2017-12-05 02:32:21,187 : INFO : PROGRESS: at 77.86% examples, 7361 words/s, in_qsize 15, out_qsize 0\n",
      "2017-12-05 02:32:24,194 : INFO : PROGRESS: at 79.42% examples, 7409 words/s, in_qsize 16, out_qsize 0\n",
      "2017-12-05 02:32:25,712 : INFO : PROGRESS: at 80.25% examples, 7432 words/s, in_qsize 16, out_qsize 0\n",
      "2017-12-05 02:32:27,576 : INFO : PROGRESS: at 81.04% examples, 7448 words/s, in_qsize 15, out_qsize 0\n",
      "2017-12-05 02:32:30,465 : INFO : PROGRESS: at 82.62% examples, 7497 words/s, in_qsize 16, out_qsize 0\n",
      "2017-12-05 02:32:32,308 : INFO : PROGRESS: at 83.90% examples, 7539 words/s, in_qsize 15, out_qsize 0\n",
      "2017-12-05 02:32:35,341 : INFO : PROGRESS: at 84.18% examples, 7506 words/s, in_qsize 15, out_qsize 0\n",
      "2017-12-05 02:32:38,042 : INFO : PROGRESS: at 85.25% examples, 7556 words/s, in_qsize 16, out_qsize 0\n",
      "2017-12-05 02:32:39,992 : INFO : PROGRESS: at 86.09% examples, 7594 words/s, in_qsize 16, out_qsize 0\n",
      "2017-12-05 02:32:43,306 : INFO : PROGRESS: at 86.35% examples, 7555 words/s, in_qsize 16, out_qsize 0\n",
      "2017-12-05 02:32:44,468 : INFO : PROGRESS: at 87.09% examples, 7608 words/s, in_qsize 15, out_qsize 0\n",
      "2017-12-05 02:32:46,144 : INFO : PROGRESS: at 87.34% examples, 7601 words/s, in_qsize 15, out_qsize 0\n",
      "2017-12-05 02:32:48,139 : INFO : PROGRESS: at 88.07% examples, 7638 words/s, in_qsize 16, out_qsize 0\n",
      "2017-12-05 02:32:49,798 : INFO : PROGRESS: at 88.44% examples, 7631 words/s, in_qsize 15, out_qsize 0\n",
      "2017-12-05 02:32:51,323 : INFO : PROGRESS: at 88.72% examples, 7627 words/s, in_qsize 15, out_qsize 0\n",
      "2017-12-05 02:32:52,359 : INFO : PROGRESS: at 89.01% examples, 7632 words/s, in_qsize 16, out_qsize 1\n",
      "2017-12-05 02:32:54,595 : INFO : PROGRESS: at 89.50% examples, 7639 words/s, in_qsize 16, out_qsize 0\n",
      "2017-12-05 02:32:55,968 : INFO : PROGRESS: at 90.25% examples, 7688 words/s, in_qsize 15, out_qsize 0\n",
      "2017-12-05 02:32:57,028 : INFO : PROGRESS: at 90.56% examples, 7692 words/s, in_qsize 15, out_qsize 0\n",
      "2017-12-05 02:32:58,657 : INFO : PROGRESS: at 90.85% examples, 7686 words/s, in_qsize 16, out_qsize 0\n",
      "2017-12-05 02:33:00,349 : INFO : PROGRESS: at 91.12% examples, 7678 words/s, in_qsize 16, out_qsize 0\n",
      "2017-12-05 02:33:02,928 : INFO : PROGRESS: at 91.58% examples, 7678 words/s, in_qsize 15, out_qsize 0\n",
      "2017-12-05 02:33:04,405 : INFO : PROGRESS: at 92.25% examples, 7723 words/s, in_qsize 16, out_qsize 0\n",
      "2017-12-05 02:33:05,469 : INFO : PROGRESS: at 92.49% examples, 7727 words/s, in_qsize 16, out_qsize 0\n",
      "2017-12-05 02:33:07,456 : INFO : PROGRESS: at 93.10% examples, 7738 words/s, in_qsize 15, out_qsize 0\n",
      "2017-12-05 02:33:10,394 : INFO : PROGRESS: at 93.72% examples, 7731 words/s, in_qsize 16, out_qsize 0\n",
      "2017-12-05 02:33:11,735 : INFO : PROGRESS: at 93.92% examples, 7730 words/s, in_qsize 15, out_qsize 0\n",
      "2017-12-05 02:33:14,214 : INFO : PROGRESS: at 94.57% examples, 7754 words/s, in_qsize 16, out_qsize 0\n",
      "2017-12-05 02:33:16,221 : INFO : PROGRESS: at 94.96% examples, 7764 words/s, in_qsize 15, out_qsize 0\n",
      "2017-12-05 02:33:19,263 : INFO : PROGRESS: at 95.35% examples, 7754 words/s, in_qsize 15, out_qsize 0\n",
      "2017-12-05 02:33:20,430 : INFO : PROGRESS: at 95.56% examples, 7756 words/s, in_qsize 14, out_qsize 0\n",
      "2017-12-05 02:33:21,879 : INFO : PROGRESS: at 96.32% examples, 7799 words/s, in_qsize 11, out_qsize 0\n",
      "2017-12-05 02:33:24,750 : INFO : PROGRESS: at 96.83% examples, 7793 words/s, in_qsize 9, out_qsize 0\n",
      "2017-12-05 02:33:26,821 : INFO : PROGRESS: at 97.49% examples, 7802 words/s, in_qsize 7, out_qsize 1\n",
      "2017-12-05 02:33:26,825 : INFO : worker thread finished; awaiting finish of 7 more threads\n",
      "2017-12-05 02:33:27,180 : INFO : worker thread finished; awaiting finish of 6 more threads\n",
      "2017-12-05 02:33:27,448 : INFO : worker thread finished; awaiting finish of 5 more threads\n",
      "2017-12-05 02:33:27,467 : INFO : worker thread finished; awaiting finish of 4 more threads\n",
      "2017-12-05 02:33:27,947 : INFO : PROGRESS: at 98.94% examples, 7873 words/s, in_qsize 3, out_qsize 1\n",
      "2017-12-05 02:33:27,949 : INFO : worker thread finished; awaiting finish of 3 more threads\n",
      "2017-12-05 02:33:28,078 : INFO : worker thread finished; awaiting finish of 2 more threads\n",
      "2017-12-05 02:33:28,621 : INFO : worker thread finished; awaiting finish of 1 more threads\n",
      "2017-12-05 02:33:28,726 : INFO : worker thread finished; awaiting finish of 0 more threads\n",
      "2017-12-05 02:33:28,729 : INFO : training on 3478365 raw words (3449999 effective words) took 435.2s, 7927 effective words/s\n"
     ]
    }
   ],
   "source": [
    "model = gensim.models.Word2Vec(sentences, size=10000, window=5, min_count=1, workers=8, sg=1)"
   ]
  },
  {
   "cell_type": "code",
   "execution_count": 167,
   "metadata": {
    "scrolled": true
   },
   "outputs": [
    {
     "name": "stderr",
     "output_type": "stream",
     "text": [
      "2017-12-05 03:50:45,714 : INFO : collecting all words and their counts\n",
      "2017-12-05 03:50:45,717 : INFO : PROGRESS: at sentence #0, processed 0 words, keeping 0 word types\n",
      "2017-12-05 03:50:45,836 : INFO : PROGRESS: at sentence #10000, processed 43160 words, keeping 16997 word types\n",
      "2017-12-05 03:50:45,878 : INFO : PROGRESS: at sentence #20000, processed 84660 words, keeping 29882 word types\n",
      "2017-12-05 03:50:45,945 : INFO : PROGRESS: at sentence #30000, processed 141015 words, keeping 41567 word types\n",
      "2017-12-05 03:50:46,011 : INFO : PROGRESS: at sentence #40000, processed 204390 words, keeping 52810 word types\n",
      "2017-12-05 03:50:46,075 : INFO : PROGRESS: at sentence #50000, processed 268126 words, keeping 62059 word types\n",
      "2017-12-05 03:50:46,190 : INFO : PROGRESS: at sentence #60000, processed 334554 words, keeping 70894 word types\n",
      "2017-12-05 03:50:46,507 : INFO : PROGRESS: at sentence #70000, processed 400499 words, keeping 79803 word types\n",
      "2017-12-05 03:50:46,589 : INFO : PROGRESS: at sentence #80000, processed 461839 words, keeping 88366 word types\n",
      "2017-12-05 03:50:46,702 : INFO : PROGRESS: at sentence #90000, processed 543409 words, keeping 97726 word types\n",
      "2017-12-05 03:50:46,778 : INFO : PROGRESS: at sentence #100000, processed 612572 words, keeping 106242 word types\n",
      "2017-12-05 03:50:46,831 : INFO : PROGRESS: at sentence #110000, processed 664907 words, keeping 113086 word types\n",
      "2017-12-05 03:50:46,865 : INFO : collected 117866 word types from a corpus of 695673 raw words and 117659 sentences\n",
      "2017-12-05 03:50:46,866 : INFO : Loading a fresh vocabulary\n",
      "2017-12-05 03:50:47,245 : INFO : min_count=1 retains 117866 unique words (100% of original 117866, drops 0)\n",
      "2017-12-05 03:50:47,246 : INFO : min_count=1 leaves 695673 word corpus (100% of original 695673, drops 0)\n",
      "2017-12-05 03:50:47,932 : INFO : deleting the raw counts dictionary of 117866 items\n",
      "2017-12-05 03:50:47,935 : INFO : sample=0.001 downsamples 10 most-common words\n",
      "2017-12-05 03:50:47,936 : INFO : downsampling leaves estimated 689998 word corpus (99.2% of prior 695673)\n",
      "2017-12-05 03:50:47,946 : INFO : estimated required memory for 117866 words and 1000 dimensions: 1001861000 bytes\n",
      "2017-12-05 03:50:48,426 : INFO : resetting layer weights\n",
      "2017-12-05 03:50:53,616 : INFO : training model with 8 workers on 117866 vocabulary and 1000 features, using sg=1 hs=0 sample=0.001 negative=5 window=5\n",
      "2017-12-05 03:50:55,010 : INFO : PROGRESS: at 4.02% examples, 77992 words/s, in_qsize 16, out_qsize 0\n",
      "2017-12-05 03:50:56,019 : INFO : PROGRESS: at 7.18% examples, 95406 words/s, in_qsize 15, out_qsize 0\n",
      "2017-12-05 03:50:57,022 : INFO : PROGRESS: at 10.08% examples, 99608 words/s, in_qsize 15, out_qsize 0\n",
      "2017-12-05 03:50:58,152 : INFO : PROGRESS: at 12.90% examples, 98858 words/s, in_qsize 15, out_qsize 0\n",
      "2017-12-05 03:50:59,164 : INFO : PROGRESS: at 15.22% examples, 98503 words/s, in_qsize 15, out_qsize 0\n",
      "2017-12-05 03:51:00,231 : INFO : PROGRESS: at 18.90% examples, 102177 words/s, in_qsize 15, out_qsize 0\n",
      "2017-12-05 03:51:01,452 : INFO : PROGRESS: at 24.12% examples, 102786 words/s, in_qsize 15, out_qsize 0\n",
      "2017-12-05 03:51:02,467 : INFO : PROGRESS: at 27.28% examples, 104440 words/s, in_qsize 15, out_qsize 0\n",
      "2017-12-05 03:51:03,467 : INFO : PROGRESS: at 29.95% examples, 103936 words/s, in_qsize 15, out_qsize 0\n",
      "2017-12-05 03:51:04,479 : INFO : PROGRESS: at 32.71% examples, 104319 words/s, in_qsize 16, out_qsize 0\n",
      "2017-12-05 03:51:05,481 : INFO : PROGRESS: at 35.11% examples, 103789 words/s, in_qsize 15, out_qsize 0\n",
      "2017-12-05 03:51:06,541 : INFO : PROGRESS: at 37.67% examples, 102927 words/s, in_qsize 14, out_qsize 1\n",
      "2017-12-05 03:51:07,597 : INFO : PROGRESS: at 43.61% examples, 105865 words/s, in_qsize 15, out_qsize 0\n",
      "2017-12-05 03:51:08,648 : INFO : PROGRESS: at 46.14% examples, 104370 words/s, in_qsize 15, out_qsize 0\n",
      "2017-12-05 03:51:09,751 : INFO : PROGRESS: at 48.76% examples, 103380 words/s, in_qsize 16, out_qsize 0\n",
      "2017-12-05 03:51:10,799 : INFO : PROGRESS: at 51.85% examples, 104026 words/s, in_qsize 16, out_qsize 0\n",
      "2017-12-05 03:51:11,981 : INFO : PROGRESS: at 54.41% examples, 102703 words/s, in_qsize 16, out_qsize 0\n",
      "2017-12-05 03:51:13,036 : INFO : PROGRESS: at 57.11% examples, 103210 words/s, in_qsize 15, out_qsize 0\n",
      "2017-12-05 03:51:14,047 : INFO : PROGRESS: at 61.67% examples, 103958 words/s, in_qsize 16, out_qsize 0\n",
      "2017-12-05 03:51:15,109 : INFO : PROGRESS: at 65.97% examples, 104826 words/s, in_qsize 15, out_qsize 0\n",
      "2017-12-05 03:51:16,149 : INFO : PROGRESS: at 68.62% examples, 104389 words/s, in_qsize 15, out_qsize 0\n",
      "2017-12-05 03:51:17,152 : INFO : PROGRESS: at 71.01% examples, 103745 words/s, in_qsize 15, out_qsize 0\n",
      "2017-12-05 03:51:18,247 : INFO : PROGRESS: at 73.83% examples, 103558 words/s, in_qsize 15, out_qsize 0\n",
      "2017-12-05 03:51:19,293 : INFO : PROGRESS: at 76.20% examples, 103549 words/s, in_qsize 16, out_qsize 0\n",
      "2017-12-05 03:51:20,374 : INFO : PROGRESS: at 80.25% examples, 103827 words/s, in_qsize 15, out_qsize 0\n",
      "2017-12-05 03:51:21,407 : INFO : PROGRESS: at 84.97% examples, 104627 words/s, in_qsize 15, out_qsize 0\n",
      "2017-12-05 03:51:22,408 : INFO : PROGRESS: at 87.59% examples, 104421 words/s, in_qsize 15, out_qsize 0\n",
      "2017-12-05 03:51:23,428 : INFO : PROGRESS: at 90.56% examples, 104522 words/s, in_qsize 15, out_qsize 0\n",
      "2017-12-05 03:51:24,464 : INFO : PROGRESS: at 93.10% examples, 104226 words/s, in_qsize 15, out_qsize 0\n",
      "2017-12-05 03:51:25,481 : INFO : PROGRESS: at 95.15% examples, 103671 words/s, in_qsize 16, out_qsize 0\n",
      "2017-12-05 03:51:26,438 : INFO : worker thread finished; awaiting finish of 7 more threads\n",
      "2017-12-05 03:51:26,476 : INFO : worker thread finished; awaiting finish of 6 more threads\n",
      "2017-12-05 03:51:26,480 : INFO : worker thread finished; awaiting finish of 5 more threads\n",
      "2017-12-05 03:51:26,491 : INFO : PROGRESS: at 98.51% examples, 104105 words/s, in_qsize 4, out_qsize 1\n",
      "2017-12-05 03:51:26,493 : INFO : worker thread finished; awaiting finish of 4 more threads\n",
      "2017-12-05 03:51:26,554 : INFO : worker thread finished; awaiting finish of 3 more threads\n",
      "2017-12-05 03:51:26,583 : INFO : worker thread finished; awaiting finish of 2 more threads\n",
      "2017-12-05 03:51:26,630 : INFO : worker thread finished; awaiting finish of 1 more threads\n",
      "2017-12-05 03:51:26,643 : INFO : worker thread finished; awaiting finish of 0 more threads\n",
      "2017-12-05 03:51:26,644 : INFO : training on 3478365 raw words (3450005 effective words) took 32.9s, 104816 effective words/s\n"
     ]
    }
   ],
   "source": [
    "model_1000 = gensim.models.Word2Vec(sentences, size=1000, window=5, min_count=1, workers=8, sg=1)"
   ]
  },
  {
   "cell_type": "code",
   "execution_count": 171,
   "metadata": {},
   "outputs": [
    {
     "name": "stderr",
     "output_type": "stream",
     "text": [
      "2017-12-05 03:53:14,724 : INFO : collecting all words and their counts\n",
      "2017-12-05 03:53:14,725 : INFO : PROGRESS: at sentence #0, processed 0 words, keeping 0 word types\n",
      "2017-12-05 03:53:14,749 : INFO : PROGRESS: at sentence #10000, processed 43160 words, keeping 16997 word types\n",
      "2017-12-05 03:53:14,774 : INFO : PROGRESS: at sentence #20000, processed 84660 words, keeping 29882 word types\n",
      "2017-12-05 03:53:14,803 : INFO : PROGRESS: at sentence #30000, processed 141015 words, keeping 41567 word types\n",
      "2017-12-05 03:53:14,841 : INFO : PROGRESS: at sentence #40000, processed 204390 words, keeping 52810 word types\n",
      "2017-12-05 03:53:14,877 : INFO : PROGRESS: at sentence #50000, processed 268126 words, keeping 62059 word types\n",
      "2017-12-05 03:53:14,911 : INFO : PROGRESS: at sentence #60000, processed 334554 words, keeping 70894 word types\n",
      "2017-12-05 03:53:14,943 : INFO : PROGRESS: at sentence #70000, processed 400499 words, keeping 79803 word types\n",
      "2017-12-05 03:53:14,981 : INFO : PROGRESS: at sentence #80000, processed 461839 words, keeping 88366 word types\n",
      "2017-12-05 03:53:15,018 : INFO : PROGRESS: at sentence #90000, processed 543409 words, keeping 97726 word types\n",
      "2017-12-05 03:53:15,054 : INFO : PROGRESS: at sentence #100000, processed 612572 words, keeping 106242 word types\n",
      "2017-12-05 03:53:15,085 : INFO : PROGRESS: at sentence #110000, processed 664907 words, keeping 113086 word types\n",
      "2017-12-05 03:53:15,104 : INFO : collected 117866 word types from a corpus of 695673 raw words and 117659 sentences\n",
      "2017-12-05 03:53:15,106 : INFO : Loading a fresh vocabulary\n",
      "2017-12-05 03:53:15,513 : INFO : min_count=1 retains 117866 unique words (100% of original 117866, drops 0)\n",
      "2017-12-05 03:53:15,514 : INFO : min_count=1 leaves 695673 word corpus (100% of original 695673, drops 0)\n",
      "2017-12-05 03:53:16,184 : INFO : deleting the raw counts dictionary of 117866 items\n",
      "2017-12-05 03:53:16,187 : INFO : sample=0.001 downsamples 10 most-common words\n",
      "2017-12-05 03:53:16,188 : INFO : downsampling leaves estimated 689998 word corpus (99.2% of prior 695673)\n",
      "2017-12-05 03:53:16,189 : INFO : estimated required memory for 117866 words and 500 dimensions: 530397000 bytes\n",
      "2017-12-05 03:53:16,629 : INFO : resetting layer weights\n",
      "2017-12-05 03:53:20,439 : INFO : training model with 8 workers on 117866 vocabulary and 500 features, using sg=1 hs=0 sample=0.001 negative=5 window=5\n",
      "2017-12-05 03:53:21,485 : INFO : PROGRESS: at 6.19% examples, 173023 words/s, in_qsize 15, out_qsize 0\n",
      "2017-12-05 03:53:22,526 : INFO : PROGRESS: at 10.95% examples, 172485 words/s, in_qsize 15, out_qsize 0\n",
      "2017-12-05 03:53:23,550 : INFO : PROGRESS: at 15.42% examples, 175962 words/s, in_qsize 14, out_qsize 1\n",
      "2017-12-05 03:53:24,580 : INFO : PROGRESS: at 22.99% examples, 185054 words/s, in_qsize 15, out_qsize 0\n",
      "2017-12-05 03:53:25,600 : INFO : PROGRESS: at 29.18% examples, 190777 words/s, in_qsize 15, out_qsize 0\n",
      "2017-12-05 03:53:26,637 : INFO : PROGRESS: at 33.87% examples, 187695 words/s, in_qsize 16, out_qsize 0\n",
      "2017-12-05 03:53:27,777 : INFO : PROGRESS: at 40.32% examples, 189521 words/s, in_qsize 16, out_qsize 0\n",
      "2017-12-05 03:53:28,802 : INFO : PROGRESS: at 47.14% examples, 191223 words/s, in_qsize 14, out_qsize 1\n",
      "2017-12-05 03:53:29,818 : INFO : PROGRESS: at 52.06% examples, 190658 words/s, in_qsize 15, out_qsize 0\n",
      "2017-12-05 03:53:30,867 : INFO : PROGRESS: at 56.13% examples, 187537 words/s, in_qsize 15, out_qsize 0\n",
      "2017-12-05 03:53:31,909 : INFO : PROGRESS: at 64.08% examples, 189589 words/s, in_qsize 15, out_qsize 0\n",
      "2017-12-05 03:53:32,943 : INFO : PROGRESS: at 69.36% examples, 189761 words/s, in_qsize 14, out_qsize 1\n",
      "2017-12-05 03:53:33,965 : INFO : PROGRESS: at 74.06% examples, 188625 words/s, in_qsize 15, out_qsize 1\n",
      "2017-12-05 03:53:35,009 : INFO : PROGRESS: at 79.42% examples, 188672 words/s, in_qsize 15, out_qsize 0\n",
      "2017-12-05 03:53:36,065 : INFO : PROGRESS: at 86.35% examples, 188639 words/s, in_qsize 16, out_qsize 0\n",
      "2017-12-05 03:53:37,121 : INFO : PROGRESS: at 91.58% examples, 188618 words/s, in_qsize 15, out_qsize 0\n",
      "2017-12-05 03:53:38,175 : INFO : PROGRESS: at 96.08% examples, 187960 words/s, in_qsize 12, out_qsize 0\n",
      "2017-12-05 03:53:38,475 : INFO : worker thread finished; awaiting finish of 7 more threads\n",
      "2017-12-05 03:53:38,479 : INFO : worker thread finished; awaiting finish of 6 more threads\n",
      "2017-12-05 03:53:38,495 : INFO : worker thread finished; awaiting finish of 5 more threads\n",
      "2017-12-05 03:53:38,497 : INFO : worker thread finished; awaiting finish of 4 more threads\n",
      "2017-12-05 03:53:38,527 : INFO : worker thread finished; awaiting finish of 3 more threads\n",
      "2017-12-05 03:53:38,534 : INFO : worker thread finished; awaiting finish of 2 more threads\n",
      "2017-12-05 03:53:38,595 : INFO : worker thread finished; awaiting finish of 1 more threads\n",
      "2017-12-05 03:53:38,610 : INFO : worker thread finished; awaiting finish of 0 more threads\n",
      "2017-12-05 03:53:38,612 : INFO : training on 3478365 raw words (3450185 effective words) took 18.2s, 189986 effective words/s\n"
     ]
    }
   ],
   "source": [
    "model_500 = gensim.models.Word2Vec(sentences, size=500, window=5, min_count=1, workers=8, sg=1)"
   ]
  },
  {
   "cell_type": "code",
   "execution_count": 142,
   "metadata": {},
   "outputs": [
    {
     "data": {
      "text/plain": [
       "array([ 0.01322861,  0.00197996, -0.01362938, ..., -0.02743126,\n",
       "        0.01068866,  0.0138124 ], dtype=float32)"
      ]
     },
     "execution_count": 142,
     "metadata": {},
     "output_type": "execute_result"
    }
   ],
   "source": [
    "model.wv['explode.v.02']"
   ]
  },
  {
   "cell_type": "code",
   "execution_count": 143,
   "metadata": {},
   "outputs": [
    {
     "name": "stderr",
     "output_type": "stream",
     "text": [
      "2017-12-05 02:36:02,349 : INFO : precomputing L2-norms of word weight vectors\n"
     ]
    },
    {
     "data": {
      "text/plain": [
       "[('case_study.n.02', 0.9983656406402588),\n",
       " ('bear_down_on.v.01', 0.9983534216880798),\n",
       " ('all-rounder.n.01', 0.9982645511627197),\n",
       " ('hundred-and-twentieth.s.01', 0.9980472326278687),\n",
       " ('communicable_disease.n.01', 0.9979773759841919),\n",
       " ('structural.a.02', 0.997901201248169),\n",
       " ('sexual_activity.n.01', 0.997890055179596),\n",
       " ('trillionth.s.01', 0.997870147228241),\n",
       " ('shift.v.07', 0.9978185892105103),\n",
       " ('characteristic.n.03', 0.9977895617485046)]"
      ]
     },
     "execution_count": 143,
     "metadata": {},
     "output_type": "execute_result"
    }
   ],
   "source": [
    "model.wv.most_similar(positive=['good.a.01', 'bad.a.01'], negative=['positive.a.01'])"
   ]
  },
  {
   "cell_type": "code",
   "execution_count": 144,
   "metadata": {},
   "outputs": [
    {
     "data": {
      "text/plain": [
       "117866"
      ]
     },
     "execution_count": 144,
     "metadata": {},
     "output_type": "execute_result"
    }
   ],
   "source": [
    "len(list(model.wv.vocab.keys()))"
   ]
  },
  {
   "cell_type": "code",
   "execution_count": 54,
   "metadata": {},
   "outputs": [
    {
     "data": {
      "text/plain": [
       "[('crossing_guard.n.01', 0.999264121055603),\n",
       " ('substitution.n.01', 0.998775839805603),\n",
       " ('medical_practitioner.n.01', 0.9987152814865112),\n",
       " ('grant.n.03', 0.998660147190094),\n",
       " ('process-server.n.01', 0.9986162185668945),\n",
       " ('asset', 0.9985620975494385),\n",
       " ('tapper.n.04', 0.9985400438308716),\n",
       " ('marathoner.n.01', 0.9985032081604004),\n",
       " ('internet.n.01', 0.9984639883041382),\n",
       " ('proofreader.n.01', 0.9984555244445801)]"
      ]
     },
     "execution_count": 54,
     "metadata": {},
     "output_type": "execute_result"
    }
   ],
   "source": [
    "model.wv.most_similar('good.a.01')"
   ]
  },
  {
   "cell_type": "code",
   "execution_count": 55,
   "metadata": {},
   "outputs": [],
   "source": [
    "from sklearn.manifold import TSNE\n",
    "import matplotlib.pyplot as plt\n"
   ]
  },
  {
   "cell_type": "code",
   "execution_count": 56,
   "metadata": {},
   "outputs": [],
   "source": [
    "tsne = TSNE(n_components=2)"
   ]
  },
  {
   "cell_type": "code",
   "execution_count": 63,
   "metadata": {},
   "outputs": [],
   "source": [
    "custom_synsets_set_pos = ['good.a.01', 'amazing.s.02', 'beautiful.a.01', 'boom.n.03', 'celebrate.v.02', 'appeal.n.02', 'cheerful.a.01', \n",
    "                    'clean.a.01', 'confident.a.01', 'convenient.a.01', 'cozy.s.01', 'divine.s.01', 'easy.a.01', 'efficient.a.01',\n",
    "                    'elegant.a.01', 'encourage.v.02', 'enjoy.v.01', 'entertain.v.01', 'excel.v.01', 'excite.v.01', 'fabulous.s.01',\n",
    "                    'fresh.a.01', 'gentle.s.02', 'glad.a.01', 'generous.a.01', 'gorgeous.s.01', 'happy.a.01', 'joy.n.01', 'lovely.s.01', \n",
    "                    'lucky.a.02', 'outstanding.s.01', 'pleasing.a.01', 'pride.n.01', 'proper.a.01', 'sexy.a.01', 'smart.s.07',\n",
    "                    'bright.a.01', 'comfortable.a.01', 'cool.s.06', 'faithful.a.01', 'celebrated.s.01', 'all_right.s.01', 'fine-looking.s.01',\n",
    "                    'healthy.a.01', 'honor.n.02', 'prefer.v.01', 'better.v.02', 'inspire.v.02', 'intelligent.a.01', 'maestro.n.01',\n",
    "                    'modest.a.01', 'nice.a.01', 'optimum.s.01', 'positive.a.01', 'plus.s.02', 'peaceful.a.01', 'thrive.v.02', 'recommend.v.03',\n",
    "                    'extremely.r.02', 'ace.s.01', 'victory.n.01', 'fantastic.s.02', 'refresh.v.02', 'satisfy.v.02', 'sensational.a.01', 'smooth.s.07', 'fluent.s.01', \n",
    "                    'excellent.s.01', 'brilliant.s.03', 'glorious.s.03', 'success.n.02', 'thoughtful.s.01', 'trust.v.01', 'win.n.01' ]\n",
    "\n",
    "custom_synsets_set_neg = ['abnormal.a.01', 'abort.v.01', 'maltreatment.n.01', 'mistreat.v.01', 'afraid.a.01', 'angry.a.01', 'arrogant.s.01', 'ashamed.a.01', \n",
    "                    'atrocious.s.02', 'bad.a.01', 'cunt.n.01','gripe.v.01', 'blame.v.01', 'boring.s.01', 'brutal.s.02', 'bullshit.n.01',\n",
    "                    'cancer.n.01', 'chaotic.s.01', 'cheat.n.05', 'cocky.s.01', 'conflict.n.01', 'confuse.v.02', 'controversial.a.01',\n",
    "                    'corrupt.v.01', 'creepy.s.01', 'curse.v.01', 'dangerous.a.01', 'dead.n.01', 'defect.n.02', 'depression.n.01', 'destroy.v.02', \n",
    "                    'die.v.01', 'cock.n.01', 'disappoint.v.01', 'incredulity.n.01', 'discomfort.n.01', 'disgraceful.s.01', 'disobey.v.01',\n",
    "                    'distressing.s.01', 'shit.n.04', 'embarrass.v.01', 'error.n.03', 'exhaust.v.01', 'fail.v.01', 'fake.n.01', \n",
    "                    'false.a.01', 'fool.n.01', 'freak.n.01', 'fraud.n.01', 'fraud.n.03', 'difficult.a.01', 'harm.v.01', 'idiot.n.01',\n",
    "                    'ignorant.s.01', 'misfortune.n.01', 'mistake.n.01', 'murder.v.01', 'negative.a.01', 'painful.a.01', 'pervert.n.01', \n",
    "                    'poor.a.02', 'poor.s.06', 'problem.n.01','trouble.n.01', 'racist.n.01', 'reject.v.01', 'sad.a.01', 'grouch.v.01', 'cheat.v.02', 'selfish.a.01',\n",
    "                    'pathetic.s.03', 'sloppy.s.01', 'malodor.n.01','reek.v.02', 'stupid.a.01', 'suck.v.04', 'awful.s.02', 'rubbish.n.01', 'weak.a.01' ]\n",
    "\n",
    "tmp_list = custom_synsets_set_pos + custom_synsets_set_neg"
   ]
  },
  {
   "cell_type": "code",
   "execution_count": 64,
   "metadata": {},
   "outputs": [],
   "source": [
    "X = model[tmp_list]"
   ]
  },
  {
   "cell_type": "code",
   "execution_count": 65,
   "metadata": {},
   "outputs": [],
   "source": [
    "X_tsne = tsne.fit_transform(X)"
   ]
  },
  {
   "cell_type": "code",
   "execution_count": 69,
   "metadata": {},
   "outputs": [
    {
     "data": {
      "image/png": "[encoded data removed]",
      "text/plain": [
       "<matplotlib.figure.Figure at 0x148c251d0>"
      ]
     },
     "metadata": {},
     "output_type": "display_data"
    }
   ],
   "source": [
    "plt.scatter(X_tsne[:, 0], X_tsne[:, 1], c='r', s=2)\n",
    "plt.show()"
   ]
  },
  {
   "cell_type": "code",
   "execution_count": 70,
   "metadata": {},
   "outputs": [],
   "source": [
    "X_pos = model[custom_synsets_set_pos]"
   ]
  },
  {
   "cell_type": "code",
   "execution_count": 71,
   "metadata": {},
   "outputs": [],
   "source": [
    "X_neg = model[custom_synsets_set_neg]"
   ]
  },
  {
   "cell_type": "code",
   "execution_count": 108,
   "metadata": {},
   "outputs": [],
   "source": [
    "X_pos = X_pos[:10]\n",
    "X_neg = X_neg[:10]"
   ]
  },
  {
   "cell_type": "code",
   "execution_count": 109,
   "metadata": {},
   "outputs": [],
   "source": [
    "X_list = []\n",
    "for xs in X_pos:\n",
    "    X_list.append(xs)\n",
    "for xs in X_neg:\n",
    "    X_list.append(xs)"
   ]
  },
  {
   "cell_type": "code",
   "execution_count": 110,
   "metadata": {},
   "outputs": [
    {
     "name": "stdout",
     "output_type": "stream",
     "text": [
      "10\n"
     ]
    }
   ],
   "source": [
    "print(len(X_pos))"
   ]
  },
  {
   "cell_type": "code",
   "execution_count": 111,
   "metadata": {},
   "outputs": [
    {
     "name": "stdout",
     "output_type": "stream",
     "text": [
      "20\n"
     ]
    }
   ],
   "source": [
    "print(len(X_list))"
   ]
  },
  {
   "cell_type": "code",
   "execution_count": 112,
   "metadata": {},
   "outputs": [],
   "source": [
    "X_tsne = tsne.fit_transform(X_list)"
   ]
  },
  {
   "cell_type": "code",
   "execution_count": 72,
   "metadata": {},
   "outputs": [],
   "source": [
    "# X_pos_tsne = tsne.fit_transform(X_pos)"
   ]
  },
  {
   "cell_type": "code",
   "execution_count": 73,
   "metadata": {},
   "outputs": [],
   "source": [
    "# X_neg_tsne = tsne.fit_transform(X_neg)"
   ]
  },
  {
   "cell_type": "code",
   "execution_count": 102,
   "metadata": {},
   "outputs": [],
   "source": [
    "plt.close()"
   ]
  },
  {
   "cell_type": "code",
   "execution_count": 119,
   "metadata": {},
   "outputs": [
    {
     "data": {
      "image/png": "[encoded data removed]",
      "text/plain": [
       "<matplotlib.figure.Figure at 0x14728e860>"
      ]
     },
     "metadata": {},
     "output_type": "display_data"
    }
   ],
   "source": [
    "plt.figure(figsize=(20,10))\n",
    "\n",
    "plt.scatter(X_tsne[:len(X_pos), 0], X_tsne[:len(X_pos), 1], c='b', s=10)\n",
    "plt.scatter(X_tsne[len(X_pos):, 0], X_tsne[len(X_pos):, 1], c='r', s=10)\n",
    "\n",
    "for i, word in enumerate(custom_synsets_set_pos[:10]):\n",
    "#     if i % 3 == 0:\n",
    "    plt.annotate(word, xy=(X_tsne[i, 0], X_tsne[i, 1]), size = 12)\n",
    "\n",
    "for i, word in enumerate(custom_synsets_set_neg[:10]):\n",
    "#     if i % 3 == 0:\n",
    "    plt.annotate(word, xy=(X_tsne[i+10, 0], X_tsne[i+10, 1]), size = 12)\n",
    "plt.show()"
   ]
  },
  {
   "cell_type": "code",
   "execution_count": 120,
   "metadata": {},
   "outputs": [],
   "source": [
    "from sklearn.decomposition import PCA"
   ]
  },
  {
   "cell_type": "code",
   "execution_count": 121,
   "metadata": {},
   "outputs": [],
   "source": [
    "pca = PCA(n_components=2)"
   ]
  },
  {
   "cell_type": "code",
   "execution_count": 122,
   "metadata": {},
   "outputs": [],
   "source": [
    "X_pca = pca.fit_transform(X_list)"
   ]
  },
  {
   "cell_type": "code",
   "execution_count": 125,
   "metadata": {},
   "outputs": [
    {
     "data": {
      "image/png": "[encoded data removed]",
      "text/plain": [
       "<matplotlib.figure.Figure at 0x14c617a58>"
      ]
     },
     "metadata": {},
     "output_type": "display_data"
    }
   ],
   "source": [
    "plt.figure(figsize=(20,10))\n",
    "\n",
    "plt.scatter(X_pca[:len(X_pos), 0], X_pca[:len(X_pos), 1], c='b', s=10)\n",
    "plt.scatter(X_pca[len(X_pos):, 0], X_pca[len(X_pos):, 1], c='r', s=10)\n",
    "\n",
    "for i, word in enumerate(custom_synsets_set_pos[:10]):\n",
    "    plt.annotate(word, xy=(X_pca[i, 0], X_pca[i, 1]), size=15)\n",
    "\n",
    "for i, word in enumerate(custom_synsets_set_neg[:10]):\n",
    "    plt.annotate(word, xy=(X_pca[i+10, 0], X_pca[i+10, 1]), size=15)\n",
    "plt.show()"
   ]
  },
  {
   "cell_type": "code",
   "execution_count": 126,
   "metadata": {},
   "outputs": [
    {
     "data": {
      "text/plain": [
       "0.99954570029821388"
      ]
     },
     "execution_count": 126,
     "metadata": {},
     "output_type": "execute_result"
    }
   ],
   "source": [
    "model.similarity('angry.a.01', 'happy.a.01')"
   ]
  },
  {
   "cell_type": "code",
   "execution_count": 164,
   "metadata": {},
   "outputs": [
    {
     "name": "stderr",
     "output_type": "stream",
     "text": [
      "2017-12-05 03:30:04,169 : INFO : saving Word2Vec object under model_syn2vec_10000, separately None\n",
      "2017-12-05 03:30:04,172 : INFO : storing np array 'syn0' to model_syn2vec_10000.wv.syn0.npy\n",
      "2017-12-05 03:31:25,257 : INFO : not storing attribute syn0norm\n",
      "2017-12-05 03:31:25,275 : INFO : storing np array 'syn1neg' to model_syn2vec_10000.syn1neg.npy\n",
      "2017-12-05 03:46:59,900 : INFO : not storing attribute cum_table\n",
      "2017-12-05 03:47:02,453 : INFO : saved model_syn2vec_10000\n"
     ]
    }
   ],
   "source": [
    "fname = 'model_syn2vec_10000'\n",
    "model.save(fname)"
   ]
  },
  {
   "cell_type": "code",
   "execution_count": 169,
   "metadata": {},
   "outputs": [
    {
     "name": "stderr",
     "output_type": "stream",
     "text": [
      "2017-12-05 03:52:06,819 : INFO : saving Word2Vec object under model_syn2vec_1000, separately None\n",
      "2017-12-05 03:52:06,823 : INFO : storing np array 'syn0' to model_syn2vec_1000.wv.syn0.npy\n",
      "2017-12-05 03:52:08,688 : INFO : not storing attribute syn0norm\n",
      "2017-12-05 03:52:08,756 : INFO : storing np array 'syn1neg' to model_syn2vec_1000.syn1neg.npy\n",
      "2017-12-05 03:52:10,609 : INFO : not storing attribute cum_table\n",
      "2017-12-05 03:52:11,152 : INFO : saved model_syn2vec_1000\n"
     ]
    }
   ],
   "source": [
    "fname = 'model_syn2vec_1000'\n",
    "model_1000.save(fname)"
   ]
  },
  {
   "cell_type": "code",
   "execution_count": 172,
   "metadata": {},
   "outputs": [
    {
     "name": "stderr",
     "output_type": "stream",
     "text": [
      "2017-12-05 03:53:56,822 : INFO : saving Word2Vec object under model_syn2vec_500, separately None\n",
      "2017-12-05 03:53:56,823 : INFO : storing np array 'syn0' to model_syn2vec_500.wv.syn0.npy\n",
      "2017-12-05 03:53:57,640 : INFO : not storing attribute syn0norm\n",
      "2017-12-05 03:53:57,641 : INFO : storing np array 'syn1neg' to model_syn2vec_500.syn1neg.npy\n",
      "2017-12-05 03:53:58,777 : INFO : not storing attribute cum_table\n",
      "2017-12-05 03:53:59,199 : INFO : saved model_syn2vec_500\n"
     ]
    }
   ],
   "source": [
    "fname = 'model_syn2vec_500'\n",
    "model_500.save(fname)"
   ]
  },
  {
   "cell_type": "code",
   "execution_count": 166,
   "metadata": {},
   "outputs": [
    {
     "name": "stderr",
     "output_type": "stream",
     "text": [
      "2017-12-05 03:47:59,064 : INFO : loading Word2Vec object from model_syn2vec_10000\n",
      "2017-12-05 03:47:59,784 : INFO : loading wv recursively from model_syn2vec_10000.wv.* with mmap=None\n",
      "2017-12-05 03:47:59,788 : INFO : loading syn0 from model_syn2vec_10000.wv.syn0.npy with mmap=None\n",
      "2017-12-05 03:48:13,760 : INFO : setting ignored attribute syn0norm to None\n",
      "2017-12-05 03:48:13,769 : INFO : loading syn1neg from model_syn2vec_10000.syn1neg.npy with mmap=None\n",
      "2017-12-05 03:48:57,129 : INFO : setting ignored attribute cum_table to None\n",
      "2017-12-05 03:48:57,150 : INFO : loaded model_syn2vec_10000\n"
     ]
    }
   ],
   "source": [
    "model_s2v = gensim.models.Word2Vec.load(fname)"
   ]
  },
  {
   "cell_type": "code",
   "execution_count": null,
   "metadata": {},
   "outputs": [],
   "source": []
  },
  {
   "cell_type": "markdown",
   "metadata": {},
   "source": [
    "### word2vec with plain words in WordNet"
   ]
  },
  {
   "cell_type": "code",
   "execution_count": 160,
   "metadata": {},
   "outputs": [],
   "source": [
    "import re\n",
    "import preprocessor as p"
   ]
  },
  {
   "cell_type": "code",
   "execution_count": 145,
   "metadata": {},
   "outputs": [],
   "source": [
    "all_words  = set(i for i in wn.words())"
   ]
  },
  {
   "cell_type": "code",
   "execution_count": 249,
   "metadata": {},
   "outputs": [
    {
     "data": {
      "text/plain": [
       "False"
      ]
     },
     "execution_count": 249,
     "metadata": {},
     "output_type": "execute_result"
    }
   ],
   "source": [
    "'excelent' in all_words"
   ]
  },
  {
   "cell_type": "code",
   "execution_count": 146,
   "metadata": {},
   "outputs": [],
   "source": [
    "## Negation\n",
    "replace_dict = {\n",
    "    \"don't\": \"do not\",\n",
    "    \"won't\": \"will not\",\n",
    "    \"didn't\": \"did not\",\n",
    "    \"doesn't\": \"does not\",\n",
    "    \"can't\": \"can not\",\n",
    "    \"couldn't\": \"could not\",\n",
    "    \"isn't\": \"is not\",\n",
    "    \"shouldn't\": \"should not\",\n",
    "    \"wouldn't\": \"would not\",\n",
    "    \"wasn't\": \"was not\",\n",
    "    \"weren't\": \"were not\",\n",
    "    \"haven't\": \"have not\",\n",
    "    \"ain't\": \"is not\",\n",
    "    \"aren't\": \"are not\",\n",
    "}\n",
    "\n",
    "def replace_word(text):\n",
    "    for word in replace_dict:\n",
    "        if word in text:  # Small first letter\n",
    "            text = text.replace(word, replace_dict[word])\n",
    "        elif word[0].title() + word[1:] in text:  # Big first letter\n",
    "            text = text.replace(word[0].title() + word[1:],\n",
    "                                replace_dict[word][0].title() + replace_dict[word][1:])\n",
    "\n",
    "    return text\n",
    "\n",
    "def neg_tagging(word_list):\n",
    "    string = ' '.join(word_list)\n",
    "    transformed = re.sub(r'\\b(?:not|never|no)\\b[\\w\\s]+[^\\w\\s]', \n",
    "           lambda match: re.sub(r'(\\s+)(\\w+)', r'\\1NEG_\\2', match.group(0)), \n",
    "           string,\n",
    "           flags=re.IGNORECASE)\n",
    "    \n",
    "    return transformed\n",
    "\n",
    "def negate(word_list):\n",
    "    negged_sentence = neg_tagging(word_list)\n",
    "    negged_tokens = negged_sentence.split()\n",
    "\n",
    "    token_pair_list = []\n",
    "    \n",
    "    for word in negged_tokens:\n",
    "        negation = False\n",
    "        if word.startswith('NEG_'):\n",
    "            negation = True\n",
    "            word = word[4:]\n",
    "        token_pair_list.append((word, negation))\n",
    "    \n",
    "    return token_pair_list"
   ]
  },
  {
   "cell_type": "code",
   "execution_count": 161,
   "metadata": {},
   "outputs": [],
   "source": [
    "def GetNegatedTokens(sentence):\n",
    "    cleaned_sentence = p.clean(sentence)\n",
    "    replaced_sentence = replace_word(cleaned_sentence)\n",
    "    replaced_sentence_word_list = replaced_sentence.split(\" \")\n",
    "\n",
    "    token_negation_pair_list = negate(replaced_sentence_word_list)\n",
    "\n",
    "    return token_negation_pair_list"
   ]
  },
  {
   "cell_type": "code",
   "execution_count": 177,
   "metadata": {},
   "outputs": [],
   "source": [
    "all_synset_list = list(wn.all_synsets())\n",
    "all_ss_df_token_list = []\n",
    "for ss in all_synset_list:\n",
    "    curr_def = GetNegatedTokens(ss.definition())\n",
    "    for lemma in ss.lemmas():\n",
    "        curr_def.append((lemma.name(), False))\n",
    "    all_ss_df_token_list.append(curr_def)"
   ]
  },
  {
   "cell_type": "code",
   "execution_count": 178,
   "metadata": {},
   "outputs": [
    {
     "data": {
      "text/plain": [
       "117659"
      ]
     },
     "execution_count": 178,
     "metadata": {},
     "output_type": "execute_result"
    }
   ],
   "source": [
    "len(all_ss_df_token_list)"
   ]
  },
  {
   "cell_type": "code",
   "execution_count": 179,
   "metadata": {},
   "outputs": [
    {
     "data": {
      "text/plain": [
       "[('(usually', False),\n",
       " ('followed', False),\n",
       " ('by', False),\n",
       " (\"`to')\", False),\n",
       " ('having', False),\n",
       " ('the', False),\n",
       " ('necessary', False),\n",
       " ('means', False),\n",
       " ('or', False),\n",
       " ('skill', False),\n",
       " ('or', False),\n",
       " ('know-how', False),\n",
       " ('or', False),\n",
       " ('authority', False),\n",
       " ('to', False),\n",
       " ('do', False),\n",
       " ('something', False),\n",
       " ('able', False)]"
      ]
     },
     "execution_count": 179,
     "metadata": {},
     "output_type": "execute_result"
    }
   ],
   "source": [
    "all_ss_df_token_list[0]"
   ]
  },
  {
   "cell_type": "code",
   "execution_count": 225,
   "metadata": {},
   "outputs": [
    {
     "name": "stderr",
     "output_type": "stream",
     "text": [
      "100%|██████████| 117659/117659 [00:01<00:00, 111954.13it/s]\n"
     ]
    }
   ],
   "source": [
    "word_df_word_pair_list = []\n",
    "\n",
    "for df_token_pair_list in tqdm(all_ss_df_token_list):\n",
    "    \n",
    "    curr_ss_df_ss_list = []\n",
    "    p_flag = False\n",
    "    for df_token_pair in df_token_pair_list:\n",
    "        if df_token_pair[0][0] == '(':\n",
    "            p_flag = True\n",
    "            continue\n",
    "        if p_flag == True:\n",
    "            if df_token_pair[0][-1] == ')':\n",
    "                p_flag = False\n",
    "                continue\n",
    "        else:\n",
    "            if df_token_pair[1] == False:\n",
    "                curr_ss_df_ss_list.append(df_token_pair[0])\n",
    "            else:\n",
    "                if wn.synsets(df_token_pair[0]):\n",
    "                    if wn.synsets(df_token_pair[0])[0].lemmas():\n",
    "                        if wn.synsets(df_token_pair[0])[0].lemmas()[0].antonyms():\n",
    "                            curr_ss_df_ss_list.append(wn.synsets(df_token_pair[0])[0].lemmas()[0].antonyms()[0].name())\n",
    "#         else:\n",
    "#             continue\n",
    "            \n",
    "    word_df_word_pair_list.append(curr_ss_df_ss_list)  \n"
   ]
  },
  {
   "cell_type": "code",
   "execution_count": 226,
   "metadata": {},
   "outputs": [
    {
     "data": {
      "text/plain": [
       "117659"
      ]
     },
     "execution_count": 226,
     "metadata": {},
     "output_type": "execute_result"
    }
   ],
   "source": [
    "len(word_df_word_pair_list)"
   ]
  },
  {
   "cell_type": "code",
   "execution_count": 227,
   "metadata": {},
   "outputs": [
    {
     "data": {
      "text/plain": [
       "[['having',\n",
       "  'the',\n",
       "  'necessary',\n",
       "  'means',\n",
       "  'or',\n",
       "  'skill',\n",
       "  'or',\n",
       "  'know-how',\n",
       "  'or',\n",
       "  'authority',\n",
       "  'to',\n",
       "  'do',\n",
       "  'something',\n",
       "  'able'],\n",
       " ['not', 'unable'],\n",
       " ['facing',\n",
       "  'away',\n",
       "  'from',\n",
       "  'the',\n",
       "  'axis',\n",
       "  'of',\n",
       "  'an',\n",
       "  'organ',\n",
       "  'or',\n",
       "  'organism',\n",
       "  'abaxial',\n",
       "  'dorsal']]"
      ]
     },
     "execution_count": 227,
     "metadata": {},
     "output_type": "execute_result"
    }
   ],
   "source": [
    "word_df_word_pair_list[:3]"
   ]
  },
  {
   "cell_type": "code",
   "execution_count": 228,
   "metadata": {},
   "outputs": [
    {
     "data": {
      "text/plain": [
       "[['able.a.01', 'necessary.a.01', 'mean.n.01', 'authority.n.02'],\n",
       " ['unable.a.01', 'unnecessary'],\n",
       " ['abaxial.a.01',\n",
       "  'front.v.01',\n",
       "  'away.r.10',\n",
       "  'bloc.n.01',\n",
       "  'organ.n.02',\n",
       "  'organism.n.02']]"
      ]
     },
     "execution_count": 228,
     "metadata": {},
     "output_type": "execute_result"
    }
   ],
   "source": [
    "sentences[:3]"
   ]
  },
  {
   "cell_type": "code",
   "execution_count": 229,
   "metadata": {},
   "outputs": [],
   "source": [
    "w_model_500 = gensim.models.Word2Vec(iter=1) "
   ]
  },
  {
   "cell_type": "code",
   "execution_count": 230,
   "metadata": {},
   "outputs": [
    {
     "data": {
      "text/plain": [
       "['not', 'incapable']"
      ]
     },
     "execution_count": 230,
     "metadata": {},
     "output_type": "execute_result"
    }
   ],
   "source": [
    "word_df_word_pair_list[36]"
   ]
  },
  {
   "cell_type": "code",
   "execution_count": 232,
   "metadata": {},
   "outputs": [
    {
     "name": "stderr",
     "output_type": "stream",
     "text": [
      "2017-12-05 04:21:11,609 : INFO : collecting all words and their counts\n",
      "2017-12-05 04:21:11,611 : INFO : PROGRESS: at sentence #0, processed 0 words, keeping 0 word types\n",
      "2017-12-05 04:21:11,644 : INFO : PROGRESS: at sentence #10000, processed 80911 words, keeping 19626 word types\n",
      "2017-12-05 04:21:11,683 : INFO : PROGRESS: at sentence #20000, processed 164325 words, keeping 34085 word types\n",
      "2017-12-05 04:21:11,732 : INFO : PROGRESS: at sentence #30000, processed 267775 words, keeping 49820 word types\n",
      "2017-12-05 04:21:11,790 : INFO : PROGRESS: at sentence #40000, processed 381648 words, keeping 70230 word types\n",
      "2017-12-05 04:21:11,852 : INFO : PROGRESS: at sentence #50000, processed 499691 words, keeping 83398 word types\n",
      "2017-12-05 04:21:11,904 : INFO : PROGRESS: at sentence #60000, processed 622016 words, keeping 95962 word types\n",
      "2017-12-05 04:21:11,957 : INFO : PROGRESS: at sentence #70000, processed 741038 words, keeping 108362 word types\n",
      "2017-12-05 04:21:12,004 : INFO : PROGRESS: at sentence #80000, processed 854995 words, keeping 120597 word types\n",
      "2017-12-05 04:21:12,062 : INFO : PROGRESS: at sentence #90000, processed 994616 words, keeping 137672 word types\n",
      "2017-12-05 04:21:12,116 : INFO : PROGRESS: at sentence #100000, processed 1120012 words, keeping 151129 word types\n",
      "2017-12-05 04:21:12,158 : INFO : PROGRESS: at sentence #110000, processed 1216666 words, keeping 161003 word types\n",
      "2017-12-05 04:21:12,185 : INFO : collected 164871 word types from a corpus of 1275588 raw words and 117659 sentences\n",
      "2017-12-05 04:21:12,186 : INFO : Loading a fresh vocabulary\n",
      "2017-12-05 04:21:12,673 : INFO : min_count=1 retains 164871 unique words (100% of original 164871, drops 0)\n",
      "2017-12-05 04:21:12,674 : INFO : min_count=1 leaves 1275588 word corpus (100% of original 1275588, drops 0)\n",
      "2017-12-05 04:21:13,596 : INFO : deleting the raw counts dictionary of 164871 items\n",
      "2017-12-05 04:21:13,600 : INFO : sample=0.001 downsamples 19 most-common words\n",
      "2017-12-05 04:21:13,601 : INFO : downsampling leaves estimated 996255 word corpus (78.1% of prior 1275588)\n",
      "2017-12-05 04:21:13,603 : INFO : estimated required memory for 164871 words and 500 dimensions: 741919500 bytes\n",
      "2017-12-05 04:21:14,198 : INFO : resetting layer weights\n",
      "2017-12-05 04:21:19,358 : INFO : training model with 8 workers on 164871 vocabulary and 500 features, using sg=1 hs=0 sample=0.001 negative=5 window=5\n",
      "2017-12-05 04:21:20,556 : INFO : PROGRESS: at 3.55% examples, 110968 words/s, in_qsize 15, out_qsize 0\n",
      "2017-12-05 04:21:21,559 : INFO : PROGRESS: at 7.18% examples, 146135 words/s, in_qsize 15, out_qsize 0\n",
      "2017-12-05 04:21:22,631 : INFO : PROGRESS: at 11.25% examples, 163526 words/s, in_qsize 15, out_qsize 1\n",
      "2017-12-05 04:21:23,631 : INFO : PROGRESS: at 14.70% examples, 170642 words/s, in_qsize 15, out_qsize 0\n",
      "2017-12-05 04:21:24,649 : INFO : PROGRESS: at 18.31% examples, 176936 words/s, in_qsize 16, out_qsize 0\n",
      "2017-12-05 04:21:25,703 : INFO : PROGRESS: at 24.29% examples, 183324 words/s, in_qsize 16, out_qsize 0\n",
      "2017-12-05 04:21:26,713 : INFO : PROGRESS: at 28.07% examples, 185863 words/s, in_qsize 15, out_qsize 0\n",
      "2017-12-05 04:21:27,778 : INFO : PROGRESS: at 31.92% examples, 186720 words/s, in_qsize 16, out_qsize 0\n",
      "2017-12-05 04:21:28,845 : INFO : PROGRESS: at 35.07% examples, 184886 words/s, in_qsize 16, out_qsize 0\n",
      "2017-12-05 04:21:29,895 : INFO : PROGRESS: at 39.29% examples, 186771 words/s, in_qsize 16, out_qsize 0\n",
      "2017-12-05 04:21:31,038 : INFO : PROGRESS: at 45.09% examples, 188418 words/s, in_qsize 15, out_qsize 0\n",
      "2017-12-05 04:21:32,040 : INFO : PROGRESS: at 48.85% examples, 189510 words/s, in_qsize 16, out_qsize 0\n",
      "2017-12-05 04:21:33,045 : INFO : PROGRESS: at 52.21% examples, 188924 words/s, in_qsize 15, out_qsize 0\n",
      "2017-12-05 04:21:34,050 : INFO : PROGRESS: at 55.32% examples, 188538 words/s, in_qsize 15, out_qsize 0\n",
      "2017-12-05 04:21:35,083 : INFO : PROGRESS: at 59.80% examples, 189711 words/s, in_qsize 16, out_qsize 1\n",
      "2017-12-05 04:21:36,175 : INFO : PROGRESS: at 65.30% examples, 190774 words/s, in_qsize 15, out_qsize 0\n",
      "2017-12-05 04:21:37,188 : INFO : PROGRESS: at 68.92% examples, 190820 words/s, in_qsize 14, out_qsize 1\n",
      "2017-12-05 04:21:38,239 : INFO : PROGRESS: at 72.26% examples, 189867 words/s, in_qsize 15, out_qsize 0\n",
      "2017-12-05 04:21:39,286 : INFO : PROGRESS: at 75.47% examples, 189568 words/s, in_qsize 16, out_qsize 0\n",
      "2017-12-05 04:21:40,321 : INFO : PROGRESS: at 80.51% examples, 191136 words/s, in_qsize 15, out_qsize 0\n",
      "2017-12-05 04:21:41,342 : INFO : PROGRESS: at 85.53% examples, 191773 words/s, in_qsize 16, out_qsize 0\n",
      "2017-12-05 04:21:42,362 : INFO : PROGRESS: at 89.09% examples, 191662 words/s, in_qsize 16, out_qsize 0\n",
      "2017-12-05 04:21:43,403 : INFO : PROGRESS: at 93.07% examples, 192216 words/s, in_qsize 15, out_qsize 0\n",
      "2017-12-05 04:21:44,411 : INFO : PROGRESS: at 95.89% examples, 191620 words/s, in_qsize 15, out_qsize 0\n",
      "2017-12-05 04:21:45,029 : INFO : worker thread finished; awaiting finish of 7 more threads\n",
      "2017-12-05 04:21:45,048 : INFO : worker thread finished; awaiting finish of 6 more threads\n",
      "2017-12-05 04:21:45,080 : INFO : worker thread finished; awaiting finish of 5 more threads\n",
      "2017-12-05 04:21:45,089 : INFO : worker thread finished; awaiting finish of 4 more threads\n",
      "2017-12-05 04:21:45,136 : INFO : worker thread finished; awaiting finish of 3 more threads\n",
      "2017-12-05 04:21:45,187 : INFO : worker thread finished; awaiting finish of 2 more threads\n",
      "2017-12-05 04:21:45,198 : INFO : worker thread finished; awaiting finish of 1 more threads\n",
      "2017-12-05 04:21:45,213 : INFO : worker thread finished; awaiting finish of 0 more threads\n",
      "2017-12-05 04:21:45,214 : INFO : training on 6377940 raw words (4981524 effective words) took 25.8s, 192755 effective words/s\n"
     ]
    }
   ],
   "source": [
    "w_model_500 = gensim.models.Word2Vec(word_df_word_pair_list, size=500, window=5, min_count=1, workers=8, sg=1)"
   ]
  },
  {
   "cell_type": "code",
   "execution_count": 240,
   "metadata": {},
   "outputs": [],
   "source": [
    "w_model_300 = gensim.models.Word2Vec(iter=15)"
   ]
  },
  {
   "cell_type": "code",
   "execution_count": 241,
   "metadata": {},
   "outputs": [
    {
     "name": "stderr",
     "output_type": "stream",
     "text": [
      "2017-12-05 04:41:56,810 : INFO : collecting all words and their counts\n",
      "2017-12-05 04:41:56,813 : INFO : PROGRESS: at sentence #0, processed 0 words, keeping 0 word types\n",
      "2017-12-05 04:41:56,846 : INFO : PROGRESS: at sentence #10000, processed 80911 words, keeping 19626 word types\n",
      "2017-12-05 04:41:56,881 : INFO : PROGRESS: at sentence #20000, processed 164325 words, keeping 34085 word types\n",
      "2017-12-05 04:41:56,928 : INFO : PROGRESS: at sentence #30000, processed 267775 words, keeping 49820 word types\n",
      "2017-12-05 04:41:56,985 : INFO : PROGRESS: at sentence #40000, processed 381648 words, keeping 70230 word types\n",
      "2017-12-05 04:41:57,041 : INFO : PROGRESS: at sentence #50000, processed 499691 words, keeping 83398 word types\n",
      "2017-12-05 04:41:57,095 : INFO : PROGRESS: at sentence #60000, processed 622016 words, keeping 95962 word types\n",
      "2017-12-05 04:41:57,145 : INFO : PROGRESS: at sentence #70000, processed 741038 words, keeping 108362 word types\n",
      "2017-12-05 04:41:57,191 : INFO : PROGRESS: at sentence #80000, processed 854995 words, keeping 120597 word types\n",
      "2017-12-05 04:41:57,248 : INFO : PROGRESS: at sentence #90000, processed 994616 words, keeping 137672 word types\n",
      "2017-12-05 04:41:57,300 : INFO : PROGRESS: at sentence #100000, processed 1120012 words, keeping 151129 word types\n",
      "2017-12-05 04:41:57,346 : INFO : PROGRESS: at sentence #110000, processed 1216666 words, keeping 161003 word types\n",
      "2017-12-05 04:41:57,377 : INFO : collected 164871 word types from a corpus of 1275588 raw words and 117659 sentences\n",
      "2017-12-05 04:41:57,378 : INFO : Loading a fresh vocabulary\n",
      "2017-12-05 04:41:57,917 : INFO : min_count=1 retains 164871 unique words (100% of original 164871, drops 0)\n",
      "2017-12-05 04:41:57,919 : INFO : min_count=1 leaves 1275588 word corpus (100% of original 1275588, drops 0)\n",
      "2017-12-05 04:41:58,879 : INFO : deleting the raw counts dictionary of 164871 items\n",
      "2017-12-05 04:41:58,884 : INFO : sample=0.001 downsamples 19 most-common words\n",
      "2017-12-05 04:41:58,885 : INFO : downsampling leaves estimated 996255 word corpus (78.1% of prior 1275588)\n",
      "2017-12-05 04:41:58,886 : INFO : estimated required memory for 164871 words and 300 dimensions: 478125900 bytes\n",
      "2017-12-05 04:41:59,506 : INFO : resetting layer weights\n",
      "2017-12-05 04:42:03,972 : INFO : training model with 8 workers on 164871 vocabulary and 300 features, using sg=1 hs=0 sample=0.001 negative=5 window=20\n",
      "2017-12-05 04:42:05,060 : INFO : PROGRESS: at 1.32% examples, 136484 words/s, in_qsize 15, out_qsize 0\n",
      "2017-12-05 04:42:06,122 : INFO : PROGRESS: at 2.44% examples, 153239 words/s, in_qsize 15, out_qsize 0\n",
      "2017-12-05 04:42:07,171 : INFO : PROGRESS: at 3.61% examples, 159893 words/s, in_qsize 16, out_qsize 0\n",
      "2017-12-05 04:42:08,209 : INFO : PROGRESS: at 4.61% examples, 158664 words/s, in_qsize 15, out_qsize 0\n",
      "2017-12-05 04:42:09,243 : INFO : PROGRESS: at 5.43% examples, 158303 words/s, in_qsize 15, out_qsize 0\n",
      "2017-12-05 04:42:10,256 : INFO : PROGRESS: at 7.04% examples, 165797 words/s, in_qsize 16, out_qsize 0\n",
      "2017-12-05 04:42:11,319 : INFO : PROGRESS: at 8.34% examples, 163518 words/s, in_qsize 15, out_qsize 0\n",
      "2017-12-05 04:42:12,447 : INFO : PROGRESS: at 9.21% examples, 158550 words/s, in_qsize 15, out_qsize 0\n",
      "2017-12-05 04:42:13,502 : INFO : PROGRESS: at 9.97% examples, 153628 words/s, in_qsize 13, out_qsize 2\n",
      "2017-12-05 04:42:14,631 : INFO : PROGRESS: at 11.02% examples, 153087 words/s, in_qsize 15, out_qsize 0\n",
      "2017-12-05 04:42:15,638 : INFO : PROGRESS: at 11.76% examples, 151755 words/s, in_qsize 15, out_qsize 0\n",
      "2017-12-05 04:42:16,684 : INFO : PROGRESS: at 13.02% examples, 154139 words/s, in_qsize 15, out_qsize 0\n",
      "2017-12-05 04:42:17,743 : INFO : PROGRESS: at 14.98% examples, 159170 words/s, in_qsize 15, out_qsize 0\n",
      "2017-12-05 04:42:18,770 : INFO : PROGRESS: at 15.85% examples, 157778 words/s, in_qsize 15, out_qsize 0\n",
      "2017-12-05 04:42:19,850 : INFO : PROGRESS: at 17.03% examples, 158548 words/s, in_qsize 16, out_qsize 0\n",
      "2017-12-05 04:42:20,895 : INFO : PROGRESS: at 18.11% examples, 159189 words/s, in_qsize 15, out_qsize 0\n",
      "2017-12-05 04:42:21,915 : INFO : PROGRESS: at 18.80% examples, 157829 words/s, in_qsize 15, out_qsize 0\n",
      "2017-12-05 04:42:22,923 : INFO : PROGRESS: at 20.28% examples, 159538 words/s, in_qsize 14, out_qsize 1\n",
      "2017-12-05 04:42:23,952 : INFO : PROGRESS: at 21.77% examples, 160544 words/s, in_qsize 15, out_qsize 0\n",
      "2017-12-05 04:42:25,151 : INFO : PROGRESS: at 22.93% examples, 160271 words/s, in_qsize 14, out_qsize 1\n",
      "2017-12-05 04:42:26,293 : INFO : PROGRESS: at 24.00% examples, 159909 words/s, in_qsize 15, out_qsize 0\n",
      "2017-12-05 04:42:27,296 : INFO : PROGRESS: at 24.87% examples, 159048 words/s, in_qsize 14, out_qsize 1\n",
      "2017-12-05 04:42:28,322 : INFO : PROGRESS: at 25.67% examples, 158584 words/s, in_qsize 15, out_qsize 0\n",
      "2017-12-05 04:42:29,325 : INFO : PROGRESS: at 27.33% examples, 160259 words/s, in_qsize 15, out_qsize 0\n",
      "2017-12-05 04:42:30,335 : INFO : PROGRESS: at 28.56% examples, 160226 words/s, in_qsize 15, out_qsize 0\n",
      "2017-12-05 04:42:31,499 : INFO : PROGRESS: at 29.57% examples, 159343 words/s, in_qsize 15, out_qsize 0\n",
      "2017-12-05 04:42:32,604 : INFO : PROGRESS: at 30.61% examples, 159043 words/s, in_qsize 15, out_qsize 0\n",
      "2017-12-05 04:42:33,679 : INFO : PROGRESS: at 31.51% examples, 158241 words/s, in_qsize 15, out_qsize 0\n",
      "2017-12-05 04:42:34,695 : INFO : PROGRESS: at 32.35% examples, 158212 words/s, in_qsize 15, out_qsize 0\n",
      "2017-12-05 04:42:35,736 : INFO : PROGRESS: at 34.28% examples, 160298 words/s, in_qsize 15, out_qsize 0\n",
      "2017-12-05 04:42:36,839 : INFO : PROGRESS: at 35.54% examples, 160369 words/s, in_qsize 15, out_qsize 0\n",
      "2017-12-05 04:42:37,941 : INFO : PROGRESS: at 36.60% examples, 160291 words/s, in_qsize 15, out_qsize 0\n",
      "2017-12-05 04:42:38,952 : INFO : PROGRESS: at 37.71% examples, 160675 words/s, in_qsize 16, out_qsize 0\n",
      "2017-12-05 04:42:40,091 : INFO : PROGRESS: at 38.48% examples, 159675 words/s, in_qsize 14, out_qsize 1\n",
      "2017-12-05 04:42:41,094 : INFO : PROGRESS: at 39.87% examples, 160669 words/s, in_qsize 15, out_qsize 0\n",
      "2017-12-05 04:42:42,180 : INFO : PROGRESS: at 41.47% examples, 160961 words/s, in_qsize 16, out_qsize 0\n",
      "2017-12-05 04:42:43,218 : INFO : PROGRESS: at 42.35% examples, 160341 words/s, in_qsize 15, out_qsize 0\n",
      "2017-12-05 04:42:44,220 : INFO : PROGRESS: at 43.20% examples, 159730 words/s, in_qsize 15, out_qsize 0\n",
      "2017-12-05 04:42:45,409 : INFO : PROGRESS: at 44.01% examples, 158284 words/s, in_qsize 15, out_qsize 0\n",
      "2017-12-05 04:42:46,436 : INFO : PROGRESS: at 44.91% examples, 157962 words/s, in_qsize 15, out_qsize 0\n",
      "2017-12-05 04:42:47,444 : INFO : PROGRESS: at 45.75% examples, 157952 words/s, in_qsize 16, out_qsize 0\n",
      "2017-12-05 04:42:48,462 : INFO : PROGRESS: at 47.90% examples, 159841 words/s, in_qsize 15, out_qsize 0\n",
      "2017-12-05 04:42:49,571 : INFO : PROGRESS: at 48.86% examples, 159248 words/s, in_qsize 15, out_qsize 0\n",
      "2017-12-05 04:42:50,589 : INFO : PROGRESS: at 49.92% examples, 159500 words/s, in_qsize 15, out_qsize 0\n",
      "2017-12-05 04:42:51,647 : INFO : PROGRESS: at 50.74% examples, 158693 words/s, in_qsize 15, out_qsize 0\n",
      "2017-12-05 04:42:52,706 : INFO : PROGRESS: at 51.58% examples, 158149 words/s, in_qsize 15, out_qsize 0\n",
      "2017-12-05 04:42:53,737 : INFO : PROGRESS: at 52.39% examples, 157901 words/s, in_qsize 15, out_qsize 0\n",
      "2017-12-05 04:42:54,753 : INFO : PROGRESS: at 54.41% examples, 159410 words/s, in_qsize 15, out_qsize 0\n",
      "2017-12-05 04:42:55,822 : INFO : PROGRESS: at 55.45% examples, 159016 words/s, in_qsize 15, out_qsize 0\n",
      "2017-12-05 04:42:56,870 : INFO : PROGRESS: at 56.25% examples, 158316 words/s, in_qsize 15, out_qsize 0\n",
      "2017-12-05 04:42:57,958 : INFO : PROGRESS: at 57.29% examples, 158225 words/s, in_qsize 15, out_qsize 0\n",
      "2017-12-05 04:42:58,993 : INFO : PROGRESS: at 58.12% examples, 157634 words/s, in_qsize 15, out_qsize 0\n",
      "2017-12-05 04:43:00,118 : INFO : PROGRESS: at 58.85% examples, 157067 words/s, in_qsize 16, out_qsize 0\n",
      "2017-12-05 04:43:01,141 : INFO : PROGRESS: at 60.71% examples, 158326 words/s, in_qsize 15, out_qsize 0\n",
      "2017-12-05 04:43:02,156 : INFO : PROGRESS: at 61.88% examples, 158185 words/s, in_qsize 16, out_qsize 0\n",
      "2017-12-05 04:43:03,302 : INFO : PROGRESS: at 62.93% examples, 157989 words/s, in_qsize 15, out_qsize 0\n"
     ]
    },
    {
     "name": "stderr",
     "output_type": "stream",
     "text": [
      "2017-12-05 04:43:04,316 : INFO : PROGRESS: at 64.01% examples, 158234 words/s, in_qsize 15, out_qsize 0\n",
      "2017-12-05 04:43:05,320 : INFO : PROGRESS: at 64.84% examples, 157795 words/s, in_qsize 15, out_qsize 0\n",
      "2017-12-05 04:43:06,351 : INFO : PROGRESS: at 65.53% examples, 157387 words/s, in_qsize 16, out_qsize 0\n",
      "2017-12-05 04:43:07,356 : INFO : PROGRESS: at 67.06% examples, 157926 words/s, in_qsize 16, out_qsize 0\n",
      "2017-12-05 04:43:08,392 : INFO : PROGRESS: at 68.46% examples, 158128 words/s, in_qsize 16, out_qsize 0\n",
      "2017-12-05 04:43:09,485 : INFO : PROGRESS: at 69.53% examples, 158107 words/s, in_qsize 15, out_qsize 0\n",
      "2017-12-05 04:43:10,525 : INFO : PROGRESS: at 70.40% examples, 157692 words/s, in_qsize 15, out_qsize 0\n",
      "2017-12-05 04:43:11,569 : INFO : PROGRESS: at 71.43% examples, 157754 words/s, in_qsize 15, out_qsize 0\n",
      "2017-12-05 04:43:12,681 : INFO : PROGRESS: at 72.17% examples, 157323 words/s, in_qsize 15, out_qsize 0\n",
      "2017-12-05 04:43:13,689 : INFO : PROGRESS: at 73.82% examples, 158030 words/s, in_qsize 15, out_qsize 0\n",
      "2017-12-05 04:43:14,695 : INFO : PROGRESS: at 75.25% examples, 158400 words/s, in_qsize 15, out_qsize 0\n",
      "2017-12-05 04:43:15,803 : INFO : PROGRESS: at 76.30% examples, 158311 words/s, in_qsize 15, out_qsize 0\n",
      "2017-12-05 04:43:16,856 : INFO : PROGRESS: at 77.33% examples, 158322 words/s, in_qsize 15, out_qsize 0\n",
      "2017-12-05 04:43:17,967 : INFO : PROGRESS: at 78.27% examples, 158063 words/s, in_qsize 15, out_qsize 0\n",
      "2017-12-05 04:43:19,034 : INFO : PROGRESS: at 79.16% examples, 158031 words/s, in_qsize 16, out_qsize 0\n",
      "2017-12-05 04:43:20,076 : INFO : PROGRESS: at 81.33% examples, 159077 words/s, in_qsize 15, out_qsize 0\n",
      "2017-12-05 04:43:21,105 : INFO : PROGRESS: at 82.18% examples, 158703 words/s, in_qsize 15, out_qsize 0\n",
      "2017-12-05 04:43:22,273 : INFO : PROGRESS: at 83.30% examples, 158653 words/s, in_qsize 15, out_qsize 0\n",
      "2017-12-05 04:43:23,337 : INFO : PROGRESS: at 84.46% examples, 158834 words/s, in_qsize 15, out_qsize 0\n",
      "2017-12-05 04:43:24,374 : INFO : PROGRESS: at 85.16% examples, 158524 words/s, in_qsize 15, out_qsize 0\n",
      "2017-12-05 04:43:25,379 : INFO : PROGRESS: at 86.57% examples, 158983 words/s, in_qsize 15, out_qsize 0\n",
      "2017-12-05 04:43:26,412 : INFO : PROGRESS: at 88.36% examples, 159619 words/s, in_qsize 15, out_qsize 0\n",
      "2017-12-05 04:43:27,478 : INFO : PROGRESS: at 89.53% examples, 159835 words/s, in_qsize 16, out_qsize 0\n",
      "2017-12-05 04:43:28,510 : INFO : PROGRESS: at 90.49% examples, 159682 words/s, in_qsize 15, out_qsize 0\n",
      "2017-12-05 04:43:29,667 : INFO : PROGRESS: at 91.52% examples, 159509 words/s, in_qsize 15, out_qsize 0\n",
      "2017-12-05 04:43:30,691 : INFO : PROGRESS: at 92.44% examples, 159650 words/s, in_qsize 15, out_qsize 0\n",
      "2017-12-05 04:43:31,713 : INFO : PROGRESS: at 94.29% examples, 160245 words/s, in_qsize 15, out_qsize 0\n",
      "2017-12-05 04:43:32,742 : INFO : PROGRESS: at 95.41% examples, 160149 words/s, in_qsize 15, out_qsize 0\n",
      "2017-12-05 04:43:33,835 : INFO : PROGRESS: at 96.26% examples, 159727 words/s, in_qsize 16, out_qsize 0\n",
      "2017-12-05 04:43:34,858 : INFO : PROGRESS: at 97.09% examples, 159357 words/s, in_qsize 15, out_qsize 0\n",
      "2017-12-05 04:43:35,900 : INFO : PROGRESS: at 97.93% examples, 159039 words/s, in_qsize 15, out_qsize 0\n",
      "2017-12-05 04:43:36,917 : INFO : PROGRESS: at 98.49% examples, 158544 words/s, in_qsize 16, out_qsize 0\n",
      "2017-12-05 04:43:37,778 : INFO : worker thread finished; awaiting finish of 7 more threads\n",
      "2017-12-05 04:43:37,781 : INFO : worker thread finished; awaiting finish of 6 more threads\n",
      "2017-12-05 04:43:37,797 : INFO : worker thread finished; awaiting finish of 5 more threads\n",
      "2017-12-05 04:43:37,906 : INFO : worker thread finished; awaiting finish of 4 more threads\n",
      "2017-12-05 04:43:37,920 : INFO : PROGRESS: at 99.78% examples, 158835 words/s, in_qsize 3, out_qsize 1\n",
      "2017-12-05 04:43:37,922 : INFO : worker thread finished; awaiting finish of 3 more threads\n",
      "2017-12-05 04:43:37,940 : INFO : worker thread finished; awaiting finish of 2 more threads\n",
      "2017-12-05 04:43:37,947 : INFO : worker thread finished; awaiting finish of 1 more threads\n",
      "2017-12-05 04:43:37,951 : INFO : worker thread finished; awaiting finish of 0 more threads\n",
      "2017-12-05 04:43:37,952 : INFO : training on 19133820 raw words (14945109 effective words) took 94.0s, 159042 effective words/s\n"
     ]
    }
   ],
   "source": [
    "w_model_300 = gensim.models.Word2Vec(word_df_word_pair_list, size=300, window=20, min_count=1, workers=8, sg=1, iter=15)"
   ]
  },
  {
   "cell_type": "code",
   "execution_count": 242,
   "metadata": {},
   "outputs": [
    {
     "name": "stderr",
     "output_type": "stream",
     "text": [
      "2017-12-05 04:43:47,094 : INFO : precomputing L2-norms of word weight vectors\n"
     ]
    },
    {
     "data": {
      "text/plain": [
       "[('favourable', 0.5979262590408325),\n",
       " ('luck', 0.5958493947982788),\n",
       " ('verging', 0.5931090116500854),\n",
       " ('fortune', 0.5927750468254089),\n",
       " ('repute', 0.5853907465934753),\n",
       " ('evil', 0.5826637744903564),\n",
       " ('indecorous', 0.5787646174430847),\n",
       " ('reputation', 0.5775327682495117),\n",
       " ('fairness', 0.5745539665222168),\n",
       " ('presaging', 0.5728197693824768)]"
      ]
     },
     "execution_count": 242,
     "metadata": {},
     "output_type": "execute_result"
    }
   ],
   "source": [
    "w_model_300.wv.most_similar('good')"
   ]
  },
  {
   "cell_type": "code",
   "execution_count": 244,
   "metadata": {},
   "outputs": [
    {
     "data": {
      "text/plain": [
       "[('consequences;', 0.7164744138717651),\n",
       " ('morbidness', 0.7057552933692932),\n",
       " ('spoilt', 0.6979076862335205),\n",
       " ('attention;', 0.6979038715362549),\n",
       " ('unhealthful', 0.6966487765312195),\n",
       " ('significantly;', 0.695574939250946),\n",
       " ('deliciously', 0.6927934885025024),\n",
       " ('alleviation', 0.6887698769569397),\n",
       " ('wretchedness', 0.6872292757034302),\n",
       " ('insecure', 0.6872066259384155)]"
      ]
     },
     "execution_count": 244,
     "metadata": {},
     "output_type": "execute_result"
    }
   ],
   "source": [
    "w_model_300.wv.most_similar('bad')"
   ]
  },
  {
   "cell_type": "code",
   "execution_count": 250,
   "metadata": {},
   "outputs": [],
   "source": [
    "## Custom positive word set\n",
    "custom_words_set_pos = ['good', 'awesome', 'beautiful', 'boom', 'celebrate', 'charm', 'cheerful', \n",
    "                    'clean', 'confident', 'convenient', 'cozy', 'divine', 'easy', 'efficient',\n",
    "                    'elegant', 'encourage', 'enjoy', 'entertain', 'excellent', 'exciting', 'fabulous',\n",
    "                    'fresh', 'gentle', 'glad', 'generous', 'gorgeous', 'happy', 'joy', 'lovely', \n",
    "                    'lucky', 'outstanding', 'pleasing', 'pride', 'proper', 'sexy', 'smart',\n",
    "                    'bright', 'comfortable', 'cool', 'faithful', 'famous', 'fine', 'handsome',\n",
    "                    'healthy', 'honor', 'prefer', 'improve', 'inspire', 'intelligent', 'master',\n",
    "                    'modest', 'nice', 'optimal', 'positive', 'peaceful', 'prosper', 'recommend',\n",
    "                    'super', 'victory', 'wonderful', 'refresh', 'satisfy', 'sensational', 'smooth', \n",
    "                    'splendid', 'success', 'thoughtful', 'trust', 'win' ]"
   ]
  },
  {
   "cell_type": "code",
   "execution_count": 251,
   "metadata": {},
   "outputs": [],
   "source": [
    "## Custom negative word set\n",
    "custom_words_set_neg = ['abnormal', 'abort', 'abuse', 'afraid', 'angry', 'arrogant', 'ashamed', \n",
    "                    'awful', 'bad', 'bitch', 'blame', 'boring', 'brutal', 'bullshit',\n",
    "                    'cancer', 'chaotic', 'cheat', 'cocky', 'conflict', 'confuse', 'controversial',\n",
    "                    'corrupt', 'creepy', 'curse', 'dangerous', 'dead', 'defect', 'depression', 'destroy', \n",
    "                    'die', 'dick', 'disappoint', 'disbelief', 'discomfort', 'disgraceful', 'disobey',\n",
    "                    'disturbing', 'dump', 'embarrass', 'error', 'exhaust', 'fail', 'fake', \n",
    "                    'false', 'fool', 'freak', 'fraud', 'grief', 'hard', 'harmed', 'idiot',\n",
    "                    'ignorant', 'misfortune', 'mistake', 'murder', 'negative', 'painful', 'pervert', \n",
    "                    'poor', 'problem', 'racist', 'reject', 'sad', 'scold', 'screwed', 'selfish',\n",
    "                    'silly', 'sloppy', 'stink', 'stupid', 'suck', 'terrible', 'trash', 'weak' ]\n"
   ]
  },
  {
   "cell_type": "code",
   "execution_count": 252,
   "metadata": {},
   "outputs": [],
   "source": [
    "X = w_model_300[custom_words_set_pos + custom_words_set_neg]\n",
    "X_tsne = tsne.fit_transform(X)"
   ]
  },
  {
   "cell_type": "code",
   "execution_count": 255,
   "metadata": {},
   "outputs": [
    {
     "data": {
      "text/plain": [
       "143"
      ]
     },
     "execution_count": 255,
     "metadata": {},
     "output_type": "execute_result"
    }
   ],
   "source": [
    "len(X)"
   ]
  },
  {
   "cell_type": "code",
   "execution_count": 256,
   "metadata": {},
   "outputs": [
    {
     "data": {
      "image/png": "[encoded data removed]",
      "text/plain": [
       "<matplotlib.figure.Figure at 0x3b9f0b6a0>"
      ]
     },
     "metadata": {},
     "output_type": "display_data"
    }
   ],
   "source": [
    "plt.figure(figsize=(20,10))\n",
    "\n",
    "plt.scatter(X_tsne[:len(custom_words_set_pos), 0], X_tsne[:len(custom_words_set_pos), 1], c='b', s=10)\n",
    "plt.scatter(X_tsne[len(custom_words_set_pos):, 0], X_tsne[len(custom_words_set_pos):, 1], c='r', s=10)\n",
    "\n",
    "for i, word in enumerate(custom_words_set_pos[:10]):\n",
    "    plt.annotate(word, xy=(X_tsne[i, 0], X_tsne[i, 1]), size = 12)\n",
    "\n",
    "for i, word in enumerate(custom_words_set_neg[:10]):\n",
    "    plt.annotate(word, xy=(X_tsne[i+10, 0], X_tsne[i+10, 1]), size = 12)\n",
    "plt.show()"
   ]
  },
  {
   "cell_type": "code",
   "execution_count": null,
   "metadata": {},
   "outputs": [],
   "source": []
  }
 ],
 "metadata": {
  "kernelspec": {
   "display_name": "Python 3",
   "language": "python",
   "name": "python3"
  },
  "language_info": {
   "codemirror_mode": {
    "name": "ipython",
    "version": 3
   },
   "file_extension": ".py",
   "mimetype": "text/x-python",
   "name": "python",
   "nbconvert_exporter": "python",
   "pygments_lexer": "ipython3",
   "version": "3.6.0"
  }
 },
 "nbformat": 4,
 "nbformat_minor": 2
}
